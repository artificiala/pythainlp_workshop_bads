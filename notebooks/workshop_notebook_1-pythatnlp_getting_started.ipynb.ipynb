{
 "cells": [
  {
   "cell_type": "code",
   "execution_count": 8,
   "metadata": {},
   "outputs": [],
   "source": [
    "!pip install -q --user --upgrade --pre pythainlp "
   ]
  },
  {
   "cell_type": "markdown",
   "metadata": {},
   "source": [
    "# Workshop Notebook 1: Getting started with PyThaiNLP 😆\n",
    "\n",
    "\n",
    "Updated: 31 October 2019"
   ]
  },
  {
   "cell_type": "markdown",
   "metadata": {},
   "source": [
    "## Header\n"
   ]
  },
  {
   "cell_type": "code",
   "execution_count": 1,
   "metadata": {},
   "outputs": [],
   "source": [
    "from typing import Set, List\n",
    "from functools import reduce\n",
    "import re"
   ]
  },
  {
   "cell_type": "markdown",
   "metadata": {
    "toc-hr-collapsed": false
   },
   "source": [
    "## 1. Word Tokenization\n",
    "\n",
    "Word Tokenization is a process to determin word boundaries in a text or sentence.\n",
    "\n",
    "\n",
    "Given a sentence, the tokenizer then read the sentence and return a list of words (i.e. tokens).\n",
    "\n",
    "```python\n",
    "\n",
    "    definition: Tokenizer(str) -> List[str]\n",
    "    \n",
    "    \n",
    "    \n",
    "    Tokenizer(str:\"เธอคือ My Ambulance ของฉัน\")  -> List[\"เธอ\", \"คือ\", \"My\", \"Ambulance\", \"ของ\", \"ฉัน\"]\n",
    "\n",
    "```\n",
    "\n"
   ]
  },
  {
   "cell_type": "markdown",
   "metadata": {
    "toc-hr-collapsed": false
   },
   "source": [
    "### Dictionary-based tokenizer\n",
    "\n",
    "\n",
    "Dictionary-based tokenizer is an alogirithm the read through the sentence character by character.  If it found sequences of characters match with a vocabulary in the pre-defined dictionary, it maps sequences of characters as a token.\n",
    "https://www.cs.ait.ac.th/~mdailey/papers/Choochart-Wordseg.pdf\n",
    "\n",
    "\n",
    "```python\n",
    "\n",
    "dictionary = Set[\"ฉัน\", \"ชอบ\", \"รถไฟ\", \"รถ\", \"รด\", \"น่ำ\", \"ต้น\", \"ไม้\", \"ต้นไม้\", \" \"]\n",
    "\n",
    "\n",
    "Dictionary_Tokenizer(dictionary:Set[str])\n",
    "\n",
    "```\n",
    "\n",
    "\n"
   ]
  },
  {
   "cell_type": "markdown",
   "metadata": {},
   "source": [
    "#### 1.1 Longest matching (LM)\n",
    "\n",
    "Longest matching is an algorithm to split words from a sentence by considering logest vocab first."
   ]
  },
  {
   "cell_type": "code",
   "execution_count": 2,
   "metadata": {},
   "outputs": [],
   "source": [
    "dictionary = set([\"ฉัน\", \"ชอบ\", \"รถไฟ\", \"รถ\", \"รด\", \"น่ำ\", \"ต้น\", \"ไม้\", \"ต้นไม้\", \" \", \"ฟ้า\"])\n",
    "\n",
    "def search_longest(term, dictionary):\n",
    "    term_length = len(term)\n",
    "    max_length = 0\n",
    "    for vocab in dictionary:\n",
    "        if term in vocab:\n",
    "            max_length = max(max_length, len(vocab))\n",
    "\n",
    "    return max_length == term_length\n",
    "\n",
    "def Dictionary_Tokenizer_LM_debug(sentence:str, dictionary: Set[str]):\n",
    "    buffer = \"\"\n",
    "    tokens = []\n",
    "    for char in sentence:\n",
    "        buffer += char\n",
    "        print(\"buffer\", buffer)\n",
    "        if search_longest(buffer, dictionary) == True:\n",
    "            print(\"select this token: {}\".format(buffer))\n",
    "            tokens.append(buffer)\n",
    "            buffer = \"\"\n",
    "            print(\"clear the buffer.\")\n",
    "            print(\"\")\n",
    "    return tokens\n",
    "\n",
    "def Dictionary_Tokenizer_LM(sentence:str, dictionary: Set[str]):\n",
    "    buffer = \"\"\n",
    "    tokens = []\n",
    "    for char in sentence:\n",
    "        buffer += char\n",
    "        if search_longest(buffer, dictionary) == True:\n",
    "            tokens.append(buffer)\n",
    "            buffer = \"\"\n",
    "    return tokens"
   ]
  },
  {
   "cell_type": "code",
   "execution_count": 3,
   "metadata": {},
   "outputs": [
    {
     "name": "stdout",
     "output_type": "stream",
     "text": [
      "buffer ฉ\n",
      "buffer ฉั\n",
      "buffer ฉัน\n",
      "select this token: ฉัน\n",
      "clear the buffer.\n",
      "\n",
      "buffer ช\n",
      "buffer ชอ\n",
      "buffer ชอบ\n",
      "select this token: ชอบ\n",
      "clear the buffer.\n",
      "\n",
      "buffer  \n",
      "select this token:  \n",
      "clear the buffer.\n",
      "\n",
      "buffer ร\n",
      "buffer รถ\n",
      "buffer รถไ\n",
      "buffer รถไฟ\n",
      "select this token: รถไฟ\n",
      "clear the buffer.\n",
      "\n"
     ]
    },
    {
     "data": {
      "text/plain": [
       "['ฉัน', 'ชอบ', ' ', 'รถไฟ']"
      ]
     },
     "execution_count": 3,
     "metadata": {},
     "output_type": "execute_result"
    }
   ],
   "source": [
    "Dictionary_Tokenizer_LM_debug(\"ฉันชอบ รถไฟ\", dictionary)"
   ]
  },
  {
   "cell_type": "markdown",
   "metadata": {},
   "source": [
    "#### __Question 1:__ Create your own dictionary to tokenize the following sentences that can tokenize all the words."
   ]
  },
  {
   "cell_type": "code",
   "execution_count": 4,
   "metadata": {},
   "outputs": [],
   "source": [
    "test_sentences = [\n",
    "    \"กระทรวงคมนาคมและการสื่อสารกาตาร์ จัดงาน Qatar Information Technology Exhibition and Conference (QITCOM 2019)\",\n",
    "    \"ณ กรุงโดฮา รัฐกาตาร์\",\n",
    "]"
   ]
  },
  {
   "cell_type": "code",
   "execution_count": 79,
   "metadata": {},
   "outputs": [],
   "source": [
    "# Fill the vocabulary to dictionary_lm\n",
    "\n",
    "dictionary_lm = set([\n",
    "    \" \",\n",
    "    \"Qatar\",\n",
    "    \"Information\",\n",
    "    \"กระทรวงคมนาคมและการสื่อสาร\",\n",
    "    \"กาตาร์\",\n",
    "    # add more vocab\n",
    "])"
   ]
  },
  {
   "cell_type": "markdown",
   "metadata": {},
   "source": [
    "__Test:__"
   ]
  },
  {
   "cell_type": "code",
   "execution_count": 80,
   "metadata": {},
   "outputs": [],
   "source": [
    "def test_Dictionary_Tokenizer_LM(dictionary_lm):\n",
    "    \n",
    "    tokens_list = [ Dictionary_Tokenizer_LM(sentence, dictionary_lm) for sentence in test_sentences]\n",
    "    character_count_expect = sum([len(sentence) for sentence in test_sentences])\n",
    "    character_count_actual = 0\n",
    "    for tokens in tokens_list:\n",
    "        character_count_actual += sum(map(lambda token : len(token),tokens))\n",
    "\n",
    "    if(character_count_actual == character_count_expect):\n",
    "        print(\"✅ Test succeed. 😁\")\n",
    "        \n",
    "        print(\"\\n tokens_list: \", tokens_list)\n",
    "    else:\n",
    "        print(\"Test failed. 😭\\n\")\n",
    "        \n",
    "        print(\"test_sentences\", test_sentences)\n",
    "        print(\"tokens_list\", tokens_list)\n",
    "        \n",
    "        print('')\n",
    "        print(\"character_count_actual != character_count_expect\")\n",
    "        print(\"{} != {}\".format(character_count_actual, character_count_expect))"
   ]
  },
  {
   "cell_type": "code",
   "execution_count": 81,
   "metadata": {},
   "outputs": [
    {
     "name": "stdout",
     "output_type": "stream",
     "text": [
      "Test failed. 😭\n",
      "\n",
      "test_sentences ['กระทรวงคมนาคมและการสื่อสารกาตาร์ จัดงาน Qatar Information Technology Exhibition and Conference (QITCOM 2019)', 'ณ กรุงโดฮา รัฐกาตาร์']\n",
      "tokens_list [['กระทรวงคมนาคมและการสื่อสาร', 'กาตาร์', ' '], []]\n",
      "\n",
      "character_count_actual != character_count_expect\n",
      "33 != 128\n"
     ]
    }
   ],
   "source": [
    "# Run this block to test the code\n",
    "test_Dictionary_Tokenizer_LM(dictionary_lm)"
   ]
  },
  {
   "cell_type": "markdown",
   "metadata": {},
   "source": [
    "__Solution:__"
   ]
  },
  {
   "cell_type": "code",
   "execution_count": 8,
   "metadata": {},
   "outputs": [],
   "source": [
    "dictionary_lm = set([\n",
    "    \"Qatar\",\n",
    "    \"Information\",\n",
    "    \"กระทรวงคมนาคมและการสื่อสาร\",\n",
    "    \"กาตาร์\",\n",
    "    \"ณ\",\n",
    "    \"กรุงโดฮา\",\n",
    "    \"รัฐ\",\n",
    "    \" \",\n",
    "    \"จัดงาน\",\n",
    "    \"(\",\n",
    "    \")\",\n",
    "    \"QITCOM\", \"2019\",\n",
    "    \"Qatar\",\n",
    "    \"Information\",\n",
    "    \"Technology\",\n",
    "    \"Exhibition\",\n",
    "    \"and\",\n",
    "    \"Conference\"\n",
    "])"
   ]
  },
  {
   "cell_type": "code",
   "execution_count": 9,
   "metadata": {},
   "outputs": [
    {
     "name": "stdout",
     "output_type": "stream",
     "text": [
      "✅ Test succeed. 😁\n",
      "\n",
      " tokens_list:  [['กระทรวงคมนาคมและการสื่อสาร', 'กาตาร์', ' ', 'จัดงาน', ' ', 'Qatar', ' ', 'Information', ' ', 'Technology', ' ', 'Exhibition', ' ', 'and', ' ', 'Conference', ' ', '(', 'QITCOM', ' ', '2019', ')'], ['ณ', ' ', 'กรุงโดฮา', ' ', 'รัฐ', 'กาตาร์']]\n"
     ]
    }
   ],
   "source": [
    "test_Dictionary_Tokenizer_LM(dictionary_lm)"
   ]
  },
  {
   "cell_type": "markdown",
   "metadata": {},
   "source": [
    "#### 1.2 Maximal matching (MM)\n",
    "\n",
    "\n",
    "Unlike Longest Matching, Maximal matching is an algorithm to split words from a sentence in which it prefers minumum number of tokens to be splited.\n",
    "\n",
    "\n",
    "```python\n",
    "\n",
    "dictionary = set([\"รถ\", \"รถไฟ\", \"ฟ้า\", \"ไฟฟ้า\", \"ใต้ดิน\"])\n",
    "\n",
    "\n",
    "sentence = \"รถไฟฟ้าใต้ดิน\"\n",
    "\n",
    "Possible_segments(sentence) ->\n",
    "[\"รถไฟ\", \"ฟ้า\", \"ใต้ดิน\"]\n",
    "[\"รถ\", \"ไฟฟ้า\", \"ใต้ดิน\"]\n",
    "[\"รถไฟฟ้า\", \"ใต้ดิน\"]\n",
    "\n",
    "\n",
    "selected_segment = [\"รถไฟฟ้า\", \"ใต้ดิน\"]\n",
    "\n",
    "```\n"
   ]
  },
  {
   "cell_type": "markdown",
   "metadata": {},
   "source": [
    "#### PyThaiNLP's Tokenizer (newmm)"
   ]
  },
  {
   "cell_type": "code",
   "execution_count": 10,
   "metadata": {},
   "outputs": [],
   "source": [
    "from pythainlp.tokenize import word_tokenize"
   ]
  },
  {
   "cell_type": "code",
   "execution_count": 11,
   "metadata": {},
   "outputs": [],
   "source": [
    "test_sentence = \"กระทรวงคมนาคมและการสื่อสารกาตาร์ จัดงาน Qatar Information Technology Exhibition and Conference (QITCOM 2019)\"\n"
   ]
  },
  {
   "cell_type": "code",
   "execution_count": 12,
   "metadata": {},
   "outputs": [
    {
     "name": "stdout",
     "output_type": "stream",
     "text": [
      "['กระทรวงคมนาคม', 'และ', 'การสื่อสาร', 'กาตาร์', ' ', 'จัดงาน', ' ', 'Qatar', ' ', 'Information', ' ', 'Technology', ' ', 'Exhibition', ' ', 'and', ' ', 'Conference', ' ', '(', 'QITCOM', ' ', '2019', ')']\n"
     ]
    }
   ],
   "source": [
    "tokens = word_tokenize(test_sentence, engine=\"newmm\")\n",
    "print(tokens)"
   ]
  },
  {
   "cell_type": "markdown",
   "metadata": {},
   "source": [
    "__Try out:__\n",
    "\n",
    "2.1 Try adding your own sentence.\n",
    "\n"
   ]
  },
  {
   "cell_type": "code",
   "execution_count": 82,
   "metadata": {},
   "outputs": [
    {
     "name": "stdout",
     "output_type": "stream",
     "text": [
      "['ฉัน', 'อยุ๋', 'ที่', ' ', 'สถาบันบัณฑิตพัฒนบริหารศาสตร์']\n"
     ]
    }
   ],
   "source": [
    "# Example sentence\n",
    "print(word_tokenize(\"ฉันอยุ๋ที่ สถาบันบัณฑิตพัฒนบริหารศาสตร์\", engine=\"newmm\"))"
   ]
  },
  {
   "cell_type": "code",
   "execution_count": 83,
   "metadata": {},
   "outputs": [
    {
     "name": "stdout",
     "output_type": "stream",
     "text": [
      "[' ']\n"
     ]
    }
   ],
   "source": [
    "# Enter you own setnence\n",
    "print(word_tokenize(\" \", engine=\"newmm\"))"
   ]
  },
  {
   "cell_type": "markdown",
   "metadata": {},
   "source": [
    "2.2 Try adding your own sentence with misspelling.\n"
   ]
  },
  {
   "cell_type": "code",
   "execution_count": 84,
   "metadata": {},
   "outputs": [
    {
     "name": "stdout",
     "output_type": "stream",
     "text": [
      "['ฉัน', 'อยุ๋', 'ที่', ' ', 'สถาบัน', 'บัณฑิต', 'พัฒน', 'บย', 'ริ', 'หาร', 'ศาสตร์']\n"
     ]
    }
   ],
   "source": [
    "# Example sentence with misspelling words\n",
    "print(word_tokenize(\"ฉันอยุ๋ที่ สถาบันบัณฑิตพัฒนบยริหารศาสตร์\", engine=\"newmm\"))"
   ]
  },
  {
   "cell_type": "code",
   "execution_count": 85,
   "metadata": {},
   "outputs": [
    {
     "name": "stdout",
     "output_type": "stream",
     "text": [
      "[' ']\n"
     ]
    }
   ],
   "source": [
    "# Enter you own setnence\n",
    "print(word_tokenize(\" \", engine=\"newmm\"))"
   ]
  },
  {
   "cell_type": "markdown",
   "metadata": {},
   "source": [
    "#### __Question 2:__ Add your own custom dictionary for `newmm` tokenizer to tokenize the into the following tokens:\n",
    "\n",
    "```\n",
    "\n",
    "\"วันที่ 22 ต.ค. เอเอฟพีรายงานว่า สมเด็จพระจักรพรรดินารุฮิโตะ ทรงเข้าพระราชพิธีบรมราชาภิเษก เป็นสมเด็จพระจักรพรรดิแห่งญี่ปุ่นโดยสมบูรณ์แล้ววันนี้ ที่พระราชวังหลวงในกรุงโตเกียว\",\n",
    "\n",
    "```\n",
    "\n",
    "Result with the default dictionary:\n",
    "\n",
    "```\n",
    "['วันที่', ' ', '22', ' ', 'ต.ค.', ' ', 'เอเอฟพี', 'รายงาน', 'ว่า', ' ', 'สมเด็จ', 'พระ', 'จักรพรรดิ', 'นา', 'รุ', 'ฮิ', 'โตะ', ' ', 'ทรง', 'เข้า', 'พระราชพิธี', 'บรมราชาภิเษก', ' ', 'เป็น', 'สมเด็จ', 'พระ', 'จักรพรรดิ', 'แห่ง', 'ญี่ปุ่น', 'โดย', 'สมบูรณ์', 'แล้ว', 'วันนี้', ' ', 'ที่', 'พระราชวัง', 'หลวง', 'ใน', 'กรุง', 'โตเกียว']\n",
    "```\n",
    "\n",
    "Expectation:\n",
    "```\n",
    "['วันที่', ' ', '22', ' ', 'ต.ค.', ' ', 'เอเอฟพี', 'รายงาน', 'ว่า', ' ', 'สมเด็จพระจักรพรรดิ', 'นารุฮิโตะ', ' ', 'ทรง', 'เข้า', 'พระราชพิธี', 'บรมราชาภิเษก', ' ', 'เป็น', 'สมเด็จพระจักรพรรดิ', 'แห่ง', 'ญี่ปุ่น', 'โดย', 'สมบูรณ์', 'แล้ว', 'วันนี้', ' ', 'ที่', 'พระราชวัง', 'หลวง', 'ใน', 'กรุงโตเกียว']\n",
    "```"
   ]
  },
  {
   "cell_type": "code",
   "execution_count": 86,
   "metadata": {},
   "outputs": [],
   "source": [
    "from pythainlp.tokenize.trie import Trie\n",
    "from pythainlp.corpus import thai_words"
   ]
  },
  {
   "cell_type": "code",
   "execution_count": 87,
   "metadata": {},
   "outputs": [],
   "source": [
    "text_from_news = \"\"\"วันที่ 22 ต.ค. เอเอฟพีรายงานว่า สมเด็จพระจักรพรรดินารุฮิโตะ ทรงเข้าพระราชพิธีบรมราชาภิเษก เป็นสมเด็จพระจักรพรรดิแห่งญี่ปุ่นโดยสมบูรณ์แล้ววันนี้ ที่พระราชวังหลวงในกรุงโตเกียว\"\"\""
   ]
  },
  {
   "cell_type": "code",
   "execution_count": 88,
   "metadata": {},
   "outputs": [],
   "source": [
    "# Add vocab in this list\n",
    "custom_vocab = [\n",
    "    \n",
    "    \n",
    "]\n"
   ]
  },
  {
   "cell_type": "markdown",
   "metadata": {},
   "source": [
    "__Test:__"
   ]
  },
  {
   "cell_type": "code",
   "execution_count": 89,
   "metadata": {},
   "outputs": [],
   "source": [
    "def test_tokenize_japan_news(custom_vocab):\n",
    "    expect = ['วันที่', ' ', '22', ' ', 'ต.ค.', ' ', 'เอเอฟพี', 'รายงาน', 'ว่า', ' ',\n",
    "              'สมเด็จพระจักรพรรดิ', 'นารุฮิโตะ', ' ', 'ทรง', 'เข้า', 'พระราชพิธี', 'บรมราชาภิเษก',\n",
    "              ' ', 'เป็น', 'สมเด็จพระจักรพรรดิ', 'แห่ง', 'ญี่ปุ่น', 'โดย', 'สมบูรณ์', 'แล้ว', 'วันนี้',\n",
    "              ' ', 'ที่', 'พระราชวัง', 'หลวง', 'ใน', 'กรุงโตเกียว']\n",
    "    \n",
    "    custom_dict_trie = Trie( list(thai_words()) + custom_vocab)\n",
    "\n",
    "    actual = word_tokenize(text_from_news, custom_dict=custom_dict_trie, engine=\"newmm\")\n",
    "    \n",
    "    \n",
    "   \n",
    "    if actual == expect:\n",
    "        print(\"✅ Test succeed. 😁\")\n",
    "    else:\n",
    "        print(\"❌ Test failed. 😭\")\n",
    "        print(\"\\nYour result    :\\n\\n\", \"|\".join(actual))\n",
    "        print(\"\\nExtected result:\\n\\n\", \"|\".join(expect))"
   ]
  },
  {
   "cell_type": "code",
   "execution_count": 90,
   "metadata": {},
   "outputs": [
    {
     "name": "stdout",
     "output_type": "stream",
     "text": [
      "❌ Test failed. 😭\n",
      "\n",
      "Your result    :\n",
      "\n",
      " วันที่| |22| |ต.ค.| |เอเอฟพี|รายงาน|ว่า| |สมเด็จ|พระ|จักรพรรดิ|นา|รุ|ฮิ|โตะ| |ทรง|เข้า|พระราชพิธี|บรมราชาภิเษก| |เป็น|สมเด็จ|พระ|จักรพรรดิ|แห่ง|ญี่ปุ่น|โดย|สมบูรณ์|แล้ว|วันนี้| |ที่|พระราชวัง|หลวง|ใน|กรุง|โตเกียว\n",
      "\n",
      "Extected result:\n",
      "\n",
      " วันที่| |22| |ต.ค.| |เอเอฟพี|รายงาน|ว่า| |สมเด็จพระจักรพรรดิ|นารุฮิโตะ| |ทรง|เข้า|พระราชพิธี|บรมราชาภิเษก| |เป็น|สมเด็จพระจักรพรรดิ|แห่ง|ญี่ปุ่น|โดย|สมบูรณ์|แล้ว|วันนี้| |ที่|พระราชวัง|หลวง|ใน|กรุงโตเกียว\n"
     ]
    }
   ],
   "source": [
    "test_tokenize_japan_news(custom_vocab)"
   ]
  },
  {
   "cell_type": "markdown",
   "metadata": {},
   "source": [
    "__Solution:__"
   ]
  },
  {
   "cell_type": "code",
   "execution_count": 91,
   "metadata": {},
   "outputs": [
    {
     "name": "stdout",
     "output_type": "stream",
     "text": [
      "✅ Test succeed. 😁\n"
     ]
    }
   ],
   "source": [
    "# Add vocab\n",
    "custom_vocab = [\n",
    "    \"สมเด็จพระจักรพรรดิ\",\n",
    "    \"กรุงโตเกียว\",\n",
    "    \"นารุฮิโตะ\"\n",
    "]\n",
    "\n",
    "test_tokenize_japan_news(custom_vocab)"
   ]
  },
  {
   "cell_type": "markdown",
   "metadata": {
    "toc-hr-collapsed": false
   },
   "source": [
    "### Learning-based tokenizer\n"
   ]
  },
  {
   "cell_type": "markdown",
   "metadata": {},
   "source": [
    "Tokenizer is a Machine Learning model and train on supervised daataset (labeled dataset).\n",
    "\n",
    "\n",
    "For example, one tokenizer of PyThaiNLP (`attacut`) uses Convolutional-neural Network to read the whole text and then determind word boundaries.\n",
    "\n",
    "![attacut](images/attacut.png)"
   ]
  },
  {
   "cell_type": "markdown",
   "metadata": {},
   "source": [
    "#### attacut"
   ]
  },
  {
   "cell_type": "code",
   "execution_count": 94,
   "metadata": {},
   "outputs": [],
   "source": [
    "!pip install -q attacut"
   ]
  },
  {
   "cell_type": "code",
   "execution_count": 95,
   "metadata": {},
   "outputs": [
    {
     "name": "stdout",
     "output_type": "stream",
     "text": [
      "['กระทรวงคมนาคม', 'และ', 'การสื่อสารกาตาร์', ' ', 'จัด', 'งาน', ' ', 'Qatar', ' ', 'Information', ' ', 'Technology', ' ', 'Exhibition', ' ', 'and', ' ', 'Conference', ' ', '(', 'QITCOM', ' ', '2019', ')']\n"
     ]
    }
   ],
   "source": [
    "test_sentence = \"กระทรวงคมนาคมและการสื่อสารกาตาร์ จัดงาน Qatar Information Technology Exhibition and Conference (QITCOM 2019)\"\n",
    "\n",
    "tokens = word_tokenize(test_sentence, engine=\"attacut\")\n",
    "print(tokens)"
   ]
  },
  {
   "cell_type": "code",
   "execution_count": null,
   "metadata": {},
   "outputs": [],
   "source": []
  },
  {
   "cell_type": "code",
   "execution_count": 96,
   "metadata": {},
   "outputs": [
    {
     "name": "stdout",
     "output_type": "stream",
     "text": [
      "['ฉัน', 'อยุ๋', 'ที่', ' ', 'สถาบันบัณฑิตพัฒนบริหารศาสตร์']\n"
     ]
    }
   ],
   "source": [
    "test_sentence = \"ฉันอยุ๋ที่ สถาบันบัณฑิตพัฒนบริหารศาสตร์\"\n",
    "\n",
    "tokens = word_tokenize(test_sentence, engine=\"attacut\")\n",
    "print(tokens)"
   ]
  },
  {
   "cell_type": "markdown",
   "metadata": {},
   "source": [
    "__Try out:__ Try adding your own sentence.\n",
    "\n"
   ]
  },
  {
   "cell_type": "code",
   "execution_count": 98,
   "metadata": {},
   "outputs": [
    {
     "name": "stdout",
     "output_type": "stream",
     "text": [
      "[' ']\n"
     ]
    }
   ],
   "source": [
    "# Enter you own setnence\n",
    "print(word_tokenize(\" \", engine=\"attacut\"))\n",
    "\n"
   ]
  },
  {
   "cell_type": "markdown",
   "metadata": {
    "toc-hr-collapsed": false
   },
   "source": [
    "## 2. Part of speech and Named Entity Recognition Tagging\n"
   ]
  },
  {
   "cell_type": "code",
   "execution_count": 105,
   "metadata": {},
   "outputs": [],
   "source": [
    "!pip install -q sklearn_crfsuite"
   ]
  },
  {
   "cell_type": "code",
   "execution_count": 106,
   "metadata": {},
   "outputs": [],
   "source": [
    "from pythainlp.tag.named_entity import ThaiNameTagger\n",
    "\n",
    "tagger = ThaiNameTagger()"
   ]
  },
  {
   "cell_type": "markdown",
   "metadata": {},
   "source": [
    "#### Named Entitiy Regcognition (NER) Tags:\n",
    "\n",
    "|       Tags       |      Examples                       |\n",
    "|------------------|-------------------------------------|\n",
    "        DATE       |   1 ตุลาคม 2012                      |\n",
    "        EMAIL      |   hr@mycompany.com                  |    \n",
    "        LAW        |  พรบ.คุ้มครองผู้บริโภค                   |\n",
    "        LEN        |       80 กิโลเมตร                    |     \n",
    "      LOCATION     |  กรุงเทพ, ประเทศจีน, เอเวอเรสต์        | \n",
    "        MONEY      |   2,190 ล้านบาท                      |\n",
    "    ORGANIZATION   |  คณะอักษรศาสตร์ จุฬาลงกรณ์มหาวิทยาลัย     |\n",
    "       PERCENT     |   95.34%, 10เปอร์เซนต์                |\n",
    "       PERSON      |   อรรถพล ธำรงรัตนฤทธิ์                 |\n",
    "        PHONE      |   +6611-123-1123                    |\n",
    "         TIME      |      14:20 น, เวลาเที่ยงตรง           |\n",
    "          URL      |     mycompany.com                   |\n",
    "         ZIP       |     รหัสไปรณีย์ 21210                  |"
   ]
  },
  {
   "cell_type": "code",
   "execution_count": 107,
   "metadata": {},
   "outputs": [],
   "source": [
    "sentence = \"วันนี้ วันที่ 1 ตุลาคม ได้ไปงานเปิดบ้าน ที่มหาวิทยาลัยธรรมศาสตร์\""
   ]
  },
  {
   "cell_type": "code",
   "execution_count": 108,
   "metadata": {},
   "outputs": [
    {
     "data": {
      "text/plain": [
       "[('วันนี้', 'B-DATE'),\n",
       " (' ', 'O'),\n",
       " ('วันที่', 'O'),\n",
       " (' ', 'O'),\n",
       " ('1', 'B-DATE'),\n",
       " (' ', 'I-DATE'),\n",
       " ('ตุลาคม', 'I-DATE'),\n",
       " (' ', 'O'),\n",
       " ('ได้', 'O'),\n",
       " ('ไป', 'O'),\n",
       " ('งาน', 'O'),\n",
       " ('เปิด', 'O'),\n",
       " ('บ้าน', 'O'),\n",
       " (' ', 'O'),\n",
       " ('ที่', 'O'),\n",
       " ('มหาวิทยาลัยธรรมศาสตร์', 'B-LOCATION')]"
      ]
     },
     "execution_count": 108,
     "metadata": {},
     "output_type": "execute_result"
    }
   ],
   "source": [
    "tagger.get_ner(sentence, pos=False)"
   ]
  },
  {
   "cell_type": "code",
   "execution_count": 109,
   "metadata": {},
   "outputs": [
    {
     "data": {
      "text/plain": [
       "[('วันนี้', 'NOUN', 'B-DATE'),\n",
       " (' ', 'PUNCT', 'O'),\n",
       " ('วันที่', 'NOUN', 'O'),\n",
       " (' ', 'PUNCT', 'O'),\n",
       " ('1', 'NUM', 'B-DATE'),\n",
       " (' ', 'PUNCT', 'I-DATE'),\n",
       " ('ตุลาคม', 'NOUN', 'I-DATE'),\n",
       " (' ', 'PUNCT', 'O'),\n",
       " ('ได้', 'AUX', 'O'),\n",
       " ('ไป', 'VERB', 'O'),\n",
       " ('งาน', 'NOUN', 'O'),\n",
       " ('เปิด', 'VERB', 'O'),\n",
       " ('บ้าน', 'NOUN', 'O'),\n",
       " (' ', 'PUNCT', 'O'),\n",
       " ('ที่', 'SCONJ', 'O'),\n",
       " ('มหาวิทยาลัยธรรมศาสตร์', 'NOUN', 'B-LOCATION')]"
      ]
     },
     "execution_count": 109,
     "metadata": {},
     "output_type": "execute_result"
    }
   ],
   "source": [
    "tagger.get_ner(sentence, pos=True)"
   ]
  },
  {
   "cell_type": "markdown",
   "metadata": {},
   "source": [
    "#### __Question 3:__ From the following setentences how many types of named-entity appear in the sentence\n",
    "\n",
    "\n",
    "```text\n",
    "เมื่อวันที่ ๓๑ ตุลาคม ๒๕๖๒ เวลา 13:00 น. ตามเวลาประเทศไทย\n",
    "```\n",
    "\n",
    "\n",
    "\n"
   ]
  },
  {
   "cell_type": "code",
   "execution_count": 110,
   "metadata": {},
   "outputs": [
    {
     "data": {
      "text/plain": [
       "[('เมื่อ', 'O'),\n",
       " ('วันที่', 'O'),\n",
       " (' ', 'O'),\n",
       " ('๓๑', 'B-DATE'),\n",
       " (' ', 'I-DATE'),\n",
       " ('ตุลาคม', 'I-DATE'),\n",
       " (' ', 'I-DATE'),\n",
       " ('๒๕๖๒', 'I-DATE'),\n",
       " (' ', 'O'),\n",
       " ('เวลา', 'O'),\n",
       " (' ', 'O'),\n",
       " ('13', 'B-TIME'),\n",
       " (':', 'I-TIME'),\n",
       " ('00', 'I-TIME'),\n",
       " (' ', 'I-TIME'),\n",
       " ('น.', 'I-TIME'),\n",
       " (' ', 'O'),\n",
       " ('ตามเวลา', 'O'),\n",
       " ('ประเทศ', 'O'),\n",
       " ('ไทย', 'B-LOCATION')]"
      ]
     },
     "execution_count": 110,
     "metadata": {},
     "output_type": "execute_result"
    }
   ],
   "source": [
    "tagger.get_ner(\"เมื่อวันที่ ๓๑ ตุลาคม ๒๕๖๒ เวลา 13:00 น. ตามเวลาประเทศไทย\", pos=False)"
   ]
  },
  {
   "cell_type": "code",
   "execution_count": null,
   "metadata": {},
   "outputs": [],
   "source": []
  },
  {
   "cell_type": "markdown",
   "metadata": {},
   "source": [
    "#### __Question 4:__ From the following setentences how many types of named-entity appear in the sentence\n",
    "\n",
    "Reference: https://www.khaosod.co.th/around-the-world-news/news_2993136\n",
    "\n",
    "```text\n",
    "วันที่ 22 ต.ค. เอเอฟพีรายงานว่า สมเด็จพระจักรพรรดินารุฮิโตะ ทรงเข้าพระราชพิธีบรมราชาภิเษก\n",
    "เป็นสมเด็จพระจักรพรรดิแห่งญี่ปุ่นโดยสมบูรณ์แล้ววันนี้ ที่พระราชวังหลวงในกรุงโตเกียว\n",
    "```\n",
    "\n",
    "\n",
    "\n"
   ]
  },
  {
   "cell_type": "code",
   "execution_count": null,
   "metadata": {},
   "outputs": [],
   "source": []
  },
  {
   "cell_type": "code",
   "execution_count": 111,
   "metadata": {},
   "outputs": [
    {
     "data": {
      "text/plain": [
       "[('วันที่', 'O'),\n",
       " (' ', 'O'),\n",
       " ('22', 'B-DATE'),\n",
       " (' ', 'I-DATE'),\n",
       " ('ต.ค.', 'I-DATE'),\n",
       " (' ', 'O'),\n",
       " ('เอเอฟพี', 'B-ORGANIZATION'),\n",
       " ('รายงาน', 'O'),\n",
       " ('ว่า', 'O'),\n",
       " (' ', 'O'),\n",
       " ('สมเด็จ', 'B-PERSON'),\n",
       " ('พระ', 'I-PERSON'),\n",
       " ('จักรพรรดิ', 'I-PERSON'),\n",
       " ('นา', 'I-PERSON'),\n",
       " ('รุ', 'I-PERSON'),\n",
       " ('ฮิ', 'I-PERSON'),\n",
       " ('โตะ', 'I-PERSON'),\n",
       " (' ', 'O'),\n",
       " ('ทรง', 'O'),\n",
       " ('เข้า', 'O'),\n",
       " ('พระราชพิธี', 'O'),\n",
       " ('บรมราชาภิเษก', 'O'),\n",
       " (' ', 'O'),\n",
       " ('เป็น', 'O'),\n",
       " ('สมเด็จ', 'O'),\n",
       " ('พระ', 'O'),\n",
       " ('จักรพรรดิ', 'O'),\n",
       " ('แห่ง', 'O'),\n",
       " ('ญี่ปุ่น', 'B-LOCATION'),\n",
       " ('โดย', 'O'),\n",
       " ('สมบูรณ์', 'O'),\n",
       " ('แล้ว', 'O'),\n",
       " ('วันนี้', 'B-DATE'),\n",
       " (' ', 'O'),\n",
       " ('ที่', 'O'),\n",
       " ('พระราชวัง', 'B-LOCATION'),\n",
       " ('หลวง', 'I-LOCATION'),\n",
       " ('ใน', 'O'),\n",
       " ('กรุง', 'B-LOCATION'),\n",
       " ('โตเกียว', 'I-LOCATION')]"
      ]
     },
     "execution_count": 111,
     "metadata": {},
     "output_type": "execute_result"
    }
   ],
   "source": [
    "# Try out\n",
    "tagger.get_ner(\"วันที่ 22 ต.ค. เอเอฟพีรายงานว่า สมเด็จพระจักรพรรดินารุฮิโตะ ทรงเข้าพระราชพิธีบรมราชาภิเษก เป็นสมเด็จพระจักรพรรดิแห่งญี่ปุ่นโดยสมบูรณ์แล้ววันนี้ ที่พระราชวังหลวงในกรุงโตเกียว\", pos=False)"
   ]
  },
  {
   "cell_type": "markdown",
   "metadata": {},
   "source": [
    "#### __Question 5:__ From the following setentences how many types of named-entity appear in the sentence\n",
    "\n",
    "Reference: [link](http://www.arts.chula.ac.th/ling/blog/tag/%E0%B8%AD%E0%B8%A3%E0%B8%A3%E0%B8%96%E0%B8%9E%E0%B8%A5-%E0%B8%98%E0%B8%B3%E0%B8%A3%E0%B8%87%E0%B8%A3%E0%B8%B1%E0%B8%95%E0%B8%99%E0%B8%A4%E0%B8%97%E0%B8%98%E0%B8%B4%E0%B9%8C/)\n",
    "\n",
    "```text\n",
    "คณะอักษรศาสตร์ จุฬาลงกรณ์มหาวิทยาลัย ขอเชิญชวนผู้สนใจเข้าร่วมฟังบรรยายพิเศษ\n",
    "เรื่อง “การวิเคราะห์ความสัมพันธ์ภายในปริจเฉทแบบอัตโนมัติด้วยการจำแนกคำเชื่อม”\n",
    "โดย ดร.อรรถพล ธำรงรัตนฤทธิ์\n",
    "\n",
    "วันศุกร์ที่ 17 พฤศจิกายน 2560 เวลา 13.30-14.30 น.\n",
    "เป็นต้นไป ณ ห้อง 401/5 อาคารมหาจักรีสิรินธร คณะอักษรศาสตร์ จุฬาลงกรณ์มหาวิทยาลัย\n",
    "\n",
    "สอบถามรายละเอียดเพิ่มเติมได้ที่ 0-2218-4692\n",
    "```\n",
    "\n",
    "\n",
    "\n"
   ]
  },
  {
   "cell_type": "code",
   "execution_count": 112,
   "metadata": {},
   "outputs": [
    {
     "data": {
      "text/plain": [
       "[('คณะอักษรศาสตร์', 'B-ORGANIZATION'),\n",
       " (' ', 'O'),\n",
       " ('จุฬาลงกรณ์', 'B-ORGANIZATION'),\n",
       " ('มหาวิทยาลัย', 'I-ORGANIZATION'),\n",
       " ('\\n', 'O'),\n",
       " ('ขอ', 'O'),\n",
       " ('เชิญชวน', 'O'),\n",
       " ('ผู้', 'O'),\n",
       " ('สนใจ', 'O'),\n",
       " ('เข้าร่วม', 'O'),\n",
       " ('ฟัง', 'O'),\n",
       " ('บรรยาย', 'O'),\n",
       " ('พิเศษ', 'O'),\n",
       " (' ', 'O'),\n",
       " ('\\n', 'O'),\n",
       " ('เรื่อง', 'O'),\n",
       " (' ', 'O'),\n",
       " ('“', 'O'),\n",
       " ('การ', 'O'),\n",
       " ('วิเคราะห์', 'O'),\n",
       " ('ความสัมพันธ์', 'O'),\n",
       " ('ภายใน', 'O'),\n",
       " ('ปริ', 'O'),\n",
       " ('จ', 'O'),\n",
       " ('เฉท', 'O'),\n",
       " ('แบบ', 'O'),\n",
       " ('อัตโนมัติ', 'O'),\n",
       " ('ด้วย', 'O'),\n",
       " ('การจำแนก', 'O'),\n",
       " ('คำเชื่อม', 'O'),\n",
       " ('”', 'O'),\n",
       " ('\\n', 'O'),\n",
       " ('โดย', 'O'),\n",
       " (' ', 'O'),\n",
       " ('ดร.', 'B-PERSON'),\n",
       " ('อรรถ', 'I-PERSON'),\n",
       " ('พล', 'I-PERSON'),\n",
       " (' ', 'I-PERSON'),\n",
       " ('ธำรง', 'I-PERSON'),\n",
       " ('รัตน', 'I-PERSON'),\n",
       " ('ฤทธิ์', 'I-PERSON'),\n",
       " ('\\n', 'I-PERSON'),\n",
       " ('วัน', 'I-PERSON'),\n",
       " ('ศุกร์', 'I-PERSON'),\n",
       " ('ที่', 'O'),\n",
       " (' ', 'O'),\n",
       " ('17', 'B-DATE'),\n",
       " (' ', 'I-DATE'),\n",
       " ('พฤศจิกายน', 'I-DATE'),\n",
       " (' ', 'I-DATE'),\n",
       " ('2560', 'I-DATE'),\n",
       " (' ', 'O'),\n",
       " ('เวลา', 'O'),\n",
       " (' ', 'O'),\n",
       " ('13.30', 'B-TIME'),\n",
       " ('-', 'I-TIME'),\n",
       " ('14.30', 'I-TIME'),\n",
       " (' ', 'I-TIME'),\n",
       " ('น.', 'I-TIME'),\n",
       " (' ', 'O'),\n",
       " ('เป็นต้นไป', 'O'),\n",
       " (' ', 'O'),\n",
       " ('ณ', 'O'),\n",
       " (' ', 'O'),\n",
       " ('ห้อง', 'O'),\n",
       " (' ', 'O'),\n",
       " ('401', 'O'),\n",
       " ('/', 'O'),\n",
       " ('5', 'O'),\n",
       " (' ', 'O'),\n",
       " ('อาคาร', 'B-LOCATION'),\n",
       " ('มหา', 'I-LOCATION'),\n",
       " ('จักรี', 'I-LOCATION'),\n",
       " ('สิรินธร', 'I-LOCATION'),\n",
       " (' ', 'O'),\n",
       " ('คณะอักษรศาสตร์', 'O'),\n",
       " (' ', 'O'),\n",
       " ('จุฬาลงกรณ์', 'B-ORGANIZATION'),\n",
       " ('มหาวิทยาลัย', 'I-ORGANIZATION'),\n",
       " ('\\n', 'O'),\n",
       " ('สอบถาม', 'O'),\n",
       " ('รายละเอียด', 'O'),\n",
       " ('เพิ่มเติม', 'O'),\n",
       " ('ได้ที่', 'O'),\n",
       " (' ', 'O'),\n",
       " ('0', 'B-PHONE'),\n",
       " ('-', 'I-PHONE'),\n",
       " ('2218', 'I-PHONE'),\n",
       " ('-', 'I-PHONE'),\n",
       " ('4692', 'I-PHONE'),\n",
       " ('\\n', 'I-PHONE')]"
      ]
     },
     "execution_count": 112,
     "metadata": {},
     "output_type": "execute_result"
    }
   ],
   "source": [
    "text = \"\"\"คณะอักษรศาสตร์ จุฬาลงกรณ์มหาวิทยาลัย\n",
    "ขอเชิญชวนผู้สนใจเข้าร่วมฟังบรรยายพิเศษ \n",
    "เรื่อง “การวิเคราะห์ความสัมพันธ์ภายในปริจเฉทแบบอัตโนมัติด้วยการจำแนกคำเชื่อม”\n",
    "โดย ดร.อรรถพล ธำรงรัตนฤทธิ์\n",
    "วันศุกร์ที่ 17 พฤศจิกายน 2560 เวลา 13.30-14.30 น. เป็นต้นไป ณ ห้อง 401/5 อาคารมหาจักรีสิรินธร คณะอักษรศาสตร์ จุฬาลงกรณ์มหาวิทยาลัย\n",
    "สอบถามรายละเอียดเพิ่มเติมได้ที่ 0-2218-4692\n",
    "\"\"\"\n",
    "\n",
    "tagger.get_ner(text, pos=False)"
   ]
  },
  {
   "cell_type": "markdown",
   "metadata": {},
   "source": [
    "#### Part of Speech (POS) Tags:\n",
    "\n",
    "\n",
    "Reference: [PUD Tags](https://universaldependencies.org/u/pos/all.html)"
   ]
  },
  {
   "cell_type": "markdown",
   "metadata": {},
   "source": [
    "\n",
    "\n",
    "\n",
    "|  Abbreviation |      Part-of-Speech tag    |            Examples             |       \n",
    "|---------------|----------------------------|---------------------------------|\n",
    "| ADJ           |  Adjective                 |    ใหม่, พิเศษ , ก่อน, มาก, สูง     |   \n",
    "| ADP           |  Adposition                |   แม้, ว่า, เมื่อ, ของ, สำหรับ       |   \n",
    "| ADV           |  Adverb                    |   ก่อน, ก็, เล็กน้อย, เลย, สุด       |   \n",
    "| AUX           |  Auxiliary                 |   เป็น, ใช่, คือ, คล้าย             |   \n",
    "| CCONJ         |  Coordinating conjunction  |   แต่, และ, หรือ                  |        \n",
    "| DET           |  Determiner                |   นี้, นั้น, ทั้ง, เพียง, (หนึ่ง)คน      |   \n",
    "| INTJ          |  Interjection              |   อุ้ย, โอ้ย                       |   \n",
    "| NOUN          |  Noun                      |   กำมือ, พวก, สนาม, กีฬา, บัญชี     |   \n",
    "| NUM           |  Numeral                   |   5,000, 103.7, 2004, หนึ่ง, ร้อย  |   \n",
    "| PART          |  Particle                  |   มา ขึ้น ไม่ ได้ เข้า               |      \n",
    "| PRON          |  Pronoun                   |   เรา, เขา, ตัวเอง, ใคร, เธอ     |   \n",
    "| PROPN         |  Proper noun               |   โอบามา, แคปิตอลฮิล, จีโอพี, ไมเคิล |   \n",
    "| PUNCT         |  Punctuation               |   (, ), \", ', :                 |    \n",
    "| SCONJ         |  Subordinating conjunction |    หาก, เพ่ราะว่า, ถ้า             |   \n",
    "| VERB          |  Verb                      |   เปิด, ให้, ใช้, เผชิญ, อ่าน        |\n"
   ]
  },
  {
   "cell_type": "code",
   "execution_count": 35,
   "metadata": {},
   "outputs": [],
   "source": [
    "from pythainlp.tag import pos_tag"
   ]
  },
  {
   "cell_type": "code",
   "execution_count": 36,
   "metadata": {},
   "outputs": [
    {
     "data": {
      "text/plain": [
       "[('ฉัน', 'PRON'),\n",
       " ('ไป', 'VERB'),\n",
       " ('เดิน', 'VERB'),\n",
       " ('ใน', 'ADP'),\n",
       " ('สวนสาธารณะ', 'NOUN')]"
      ]
     },
     "execution_count": 36,
     "metadata": {},
     "output_type": "execute_result"
    }
   ],
   "source": [
    "\n",
    "sentence = \"ฉันไปเดินในสวนสาธารณะ\"\n",
    "tokens = word_tokenize(sentence, keep_whitespace=False)\n",
    "pos_tag(tokens, corpus=\"pud\", engine=\"perceptron\")\n"
   ]
  },
  {
   "cell_type": "markdown",
   "metadata": {},
   "source": [
    "\n",
    "```\n",
    "Explaination:\n",
    "\n",
    "PRON = Pronoun \n",
    "\n",
    "VERB = Verb\n",
    "\n",
    "ADP = Adposition\n",
    "\n",
    "NOUN = Noun\n",
    "\n",
    "```"
   ]
  },
  {
   "cell_type": "code",
   "execution_count": 37,
   "metadata": {},
   "outputs": [
    {
     "data": {
      "text/plain": [
       "[('ฉัน', 'PPRS'),\n",
       " ('ไป', 'VACT'),\n",
       " ('เดิน', 'VACT'),\n",
       " ('ใน', 'RPRE'),\n",
       " ('สวนสาธารณะ', 'NCMN')]"
      ]
     },
     "execution_count": 37,
     "metadata": {},
     "output_type": "execute_result"
    }
   ],
   "source": [
    "\n",
    "sentence = \"ฉันไปเดินในสวนสาธารณะ\"\n",
    "tokens = word_tokenize(sentence, keep_whitespace=False)\n",
    "pos_tag(tokens, corpus=\"orchid\", engine=\"perceptron\")\n"
   ]
  },
  {
   "cell_type": "markdown",
   "metadata": {},
   "source": [
    "```\n",
    "Explaination:\n",
    "\n",
    "PPRS = Personal pronoun \n",
    "\n",
    "VACT = Active verb\n",
    "\n",
    "RPRE = Preposition\n",
    "\n",
    "NCMN = Common noun\n",
    "```"
   ]
  },
  {
   "cell_type": "markdown",
   "metadata": {},
   "source": [
    "#### __Question 6:__ From the following setentences what are the POS tags (based on UD)\n",
    "\n",
    "\n",
    "```text\n",
    "หมา และ แมว กำลังกิน อาหาร\n",
    "```\n",
    "\n",
    "\n",
    "Hint: Here is the list of POS tags of this sentence.\n",
    "\n",
    "- NOUN = Noun\n",
    "- CCONJ = Coordinating Conjunction\n",
    "- VERB = Active Verb\n",
    "\n"
   ]
  },
  {
   "cell_type": "code",
   "execution_count": 38,
   "metadata": {},
   "outputs": [
    {
     "data": {
      "text/plain": [
       "[('หมา', 'NOUN'),\n",
       " ('และ', 'CCONJ'),\n",
       " ('แมว', 'NOUN'),\n",
       " ('กำลังกิน', 'VERB'),\n",
       " ('อาหาร', 'NOUN')]"
      ]
     },
     "execution_count": 38,
     "metadata": {},
     "output_type": "execute_result"
    }
   ],
   "source": [
    "# Run this block to see the result\n",
    "\n",
    "sentence = \"หมาและแมวกำลังกินอาหาร\"\n",
    "tokens = word_tokenize(sentence, keep_whitespace=False)\n",
    "pos_tag(tokens, corpus=\"ud\", engine=\"perceptron\")\n"
   ]
  },
  {
   "cell_type": "markdown",
   "metadata": {},
   "source": [
    "#### __Question 7:__ From the following setentences what are the POS tags (based on Orchid)\n",
    "\n",
    "\n",
    "```text\n",
    "หมา และ แมว กำลังกิน อาหาร\n",
    "```\n",
    "\n",
    "Hint: Here is the list of POS tags of this sentence.\n",
    "\n",
    "- NCMN = Common Noun\n",
    "- JCRG = Coordinating Conjunction\n",
    "- VACT = Active Verb"
   ]
  },
  {
   "cell_type": "code",
   "execution_count": 39,
   "metadata": {},
   "outputs": [
    {
     "data": {
      "text/plain": [
       "[('หมา', 'NCMN'),\n",
       " ('และ', 'JCRG'),\n",
       " ('แมว', 'NCMN'),\n",
       " ('กำลังกิน', 'VACT'),\n",
       " ('อาหาร', 'NCMN')]"
      ]
     },
     "execution_count": 39,
     "metadata": {},
     "output_type": "execute_result"
    }
   ],
   "source": [
    "# Run this block to see the result\n",
    "\n",
    "sentence = \"หมาและแมวกำลังกินอาหาร\"\n",
    "tokens = word_tokenize(sentence, keep_whitespace=False)\n",
    "pos_tag(tokens, corpus=\"orchid\", engine=\"perceptron\")"
   ]
  },
  {
   "cell_type": "markdown",
   "metadata": {},
   "source": [
    "## 3. Spell checking\n",
    "\n",
    "\n"
   ]
  },
  {
   "cell_type": "markdown",
   "metadata": {},
   "source": [
    "### 3.1 PyThaiNLP's spell checker"
   ]
  },
  {
   "cell_type": "code",
   "execution_count": 40,
   "metadata": {},
   "outputs": [],
   "source": [
    "from pythainlp.spell import correct"
   ]
  },
  {
   "cell_type": "code",
   "execution_count": 41,
   "metadata": {},
   "outputs": [],
   "source": [
    "mispelled_words = [\n",
    "    \"โรงพยาบาน\",\n",
    "    \"สวัสดิ\",\n",
    "    \"ประธาราธิปดี\",\n",
    "    \"สัปปะรด\",\n",
    "    \"สังเกตุ\",\n",
    "    \"เหตการณ์\",\n",
    "    \"อนุญาติ\",\n",
    "    \"ฝักไฝ่\",\n",
    "    \"นายกรัญมนตี\"\n",
    "]"
   ]
  },
  {
   "cell_type": "code",
   "execution_count": 42,
   "metadata": {},
   "outputs": [
    {
     "name": "stdout",
     "output_type": "stream",
     "text": [
      "โรงพยาบาน -> โรงพยาบาล\n",
      "\n",
      "สวัสดิ -> สวัสดี\n",
      "\n",
      "ประธาราธิปดี -> ประธานาธิบดี\n",
      "\n",
      "สัปปะรด -> สับปะรด\n",
      "\n",
      "สังเกตุ -> สังเกต\n",
      "\n",
      "เหตการณ์ -> เหตุการณ์\n",
      "\n",
      "อนุญาติ -> อนุญาต\n",
      "\n",
      "ฝักไฝ่ -> ฝักใฝ่\n",
      "\n",
      "นายกรัญมนตี -> นายกรัฐมนตรี\n",
      "\n"
     ]
    }
   ],
   "source": [
    "for word in mispelled_words:\n",
    "    print(\"{} -> {}\".format(word, correct(word)))\n",
    "    print(\"\")"
   ]
  },
  {
   "cell_type": "markdown",
   "metadata": {},
   "source": [
    "__Try out:__ Put any mispelling words and correct them."
   ]
  },
  {
   "cell_type": "code",
   "execution_count": null,
   "metadata": {},
   "outputs": [],
   "source": [
    "correct(\"\")"
   ]
  },
  {
   "cell_type": "markdown",
   "metadata": {},
   "source": [
    "## 4. Utility functions"
   ]
  },
  {
   "cell_type": "markdown",
   "metadata": {},
   "source": [
    "### 4.1 Thai digits and currency Conversion\n"
   ]
  },
  {
   "cell_type": "code",
   "execution_count": 114,
   "metadata": {},
   "outputs": [],
   "source": [
    "from pythainlp.util import (\n",
    "    thai_digit_to_arabic_digit,\n",
    "    arabic_digit_to_thai_digit,\n",
    "    bahttext,\n",
    "    digit_to_text,\n",
    "    thaiword_to_num)\n"
   ]
  },
  {
   "cell_type": "code",
   "execution_count": 45,
   "metadata": {},
   "outputs": [
    {
     "data": {
      "text/plain": [
       "'เมื่อวันที่ 31 ตุลาคม 2562 เวลา 13:00 น. ตามเวลาประเทศไทย'"
      ]
     },
     "execution_count": 45,
     "metadata": {},
     "output_type": "execute_result"
    }
   ],
   "source": [
    "thai_digit_to_arabic_digit(\"เมื่อวันที่ ๓๑ ตุลาคม ๒๕๖๒ เวลา ๑๓:๐๐ น. ตามเวลาประเทศไทย\")"
   ]
  },
  {
   "cell_type": "code",
   "execution_count": 46,
   "metadata": {},
   "outputs": [
    {
     "data": {
      "text/plain": [
       "'เมื่อวันที่ ๓๑ ตุลาคม๒๕๖๒ เวลา ๑๓:๐๐ น. ตามเวลาประเทศไทย'"
      ]
     },
     "execution_count": 46,
     "metadata": {},
     "output_type": "execute_result"
    }
   ],
   "source": [
    "arabic_digit_to_thai_digit(\"เมื่อวันที่ 31 ตุลาคม2562 เวลา 13:00 น. ตามเวลาประเทศไทย\")"
   ]
  },
  {
   "cell_type": "code",
   "execution_count": 47,
   "metadata": {},
   "outputs": [
    {
     "data": {
      "text/plain": [
       "'หนึ่งพันสองร้อยสามสิบสี่บาทยี่สิบสี่สตางค์'"
      ]
     },
     "execution_count": 47,
     "metadata": {},
     "output_type": "execute_result"
    }
   ],
   "source": [
    "bahttext(1234.24)"
   ]
  },
  {
   "cell_type": "code",
   "execution_count": 48,
   "metadata": {},
   "outputs": [
    {
     "data": {
      "text/plain": [
       "'ยี่สิบเอ็ดบาทถ้วน'"
      ]
     },
     "execution_count": 48,
     "metadata": {},
     "output_type": "execute_result"
    }
   ],
   "source": [
    "bahttext(21)"
   ]
  },
  {
   "cell_type": "code",
   "execution_count": 49,
   "metadata": {},
   "outputs": [
    {
     "data": {
      "text/plain": [
       "'สองแสนสี่หมื่นล้านบาทถ้วน'"
      ]
     },
     "execution_count": 49,
     "metadata": {},
     "output_type": "execute_result"
    }
   ],
   "source": [
    "bahttext(240000000000)"
   ]
  },
  {
   "cell_type": "code",
   "execution_count": 50,
   "metadata": {},
   "outputs": [
    {
     "data": {
      "text/plain": [
       "100"
      ]
     },
     "execution_count": 50,
     "metadata": {},
     "output_type": "execute_result"
    }
   ],
   "source": [
    "thaiword_to_num(\"หนึ่งร้อย\")"
   ]
  },
  {
   "cell_type": "code",
   "execution_count": 51,
   "metadata": {},
   "outputs": [
    {
     "data": {
      "text/plain": [
       "'สาม ร้อยล้าน'"
      ]
     },
     "execution_count": 51,
     "metadata": {},
     "output_type": "execute_result"
    }
   ],
   "source": [
    "digit_to_text(\"๓ ร้อยล้าน\")"
   ]
  },
  {
   "cell_type": "code",
   "execution_count": 52,
   "metadata": {},
   "outputs": [
    {
     "data": {
      "text/plain": [
       "'สามหนึ่ง'"
      ]
     },
     "execution_count": 52,
     "metadata": {},
     "output_type": "execute_result"
    }
   ],
   "source": [
    "digit_to_text(\"๓๑\")"
   ]
  },
  {
   "cell_type": "code",
   "execution_count": 53,
   "metadata": {},
   "outputs": [
    {
     "data": {
      "text/plain": [
       "1001"
      ]
     },
     "execution_count": 53,
     "metadata": {},
     "output_type": "execute_result"
    }
   ],
   "source": [
    "thaiword_to_num(\"หนึ่งพันหนึ่ง\")"
   ]
  },
  {
   "cell_type": "code",
   "execution_count": 54,
   "metadata": {},
   "outputs": [
    {
     "data": {
      "text/plain": [
       "1000061"
      ]
     },
     "execution_count": 54,
     "metadata": {},
     "output_type": "execute_result"
    }
   ],
   "source": [
    "thaiword_to_num(\"หนึ่งล้านหกสิบเอ็ด\")"
   ]
  },
  {
   "cell_type": "code",
   "execution_count": 55,
   "metadata": {},
   "outputs": [
    {
     "data": {
      "text/plain": [
       "1000000000"
      ]
     },
     "execution_count": 55,
     "metadata": {},
     "output_type": "execute_result"
    }
   ],
   "source": [
    "thaiword_to_num(\"พันล้าน\")"
   ]
  },
  {
   "cell_type": "markdown",
   "metadata": {},
   "source": [
    "#### __Question 8 :__ Given a text representing an amont money, convert into number.\n",
    "\n",
    "```\n",
    "เพื่อเพิ่มมูลค่าการค้าซึ่งปัจจุบันมีประมาณ ๑๒,๕๐๐ ล้านดอลลาร์สหรัฐ ให้ทวีขึ้นเป็น ๓ หมื่นล้าน\n",
    "```\n",
    "->\n",
    "```\n",
    "เพื่อเพิ่มมูลค่าการค้าซึ่งปัจจุบันมีประมาณ 12,500 ล้านดอลลาร์สหรัฐ ให้ทวีขึ้นเป็น 3 หมื่นล้าน\n",
    "\n",
    "```\n"
   ]
  },
  {
   "cell_type": "code",
   "execution_count": 56,
   "metadata": {},
   "outputs": [],
   "source": [
    "text_with_thai_digits = \"เพื่อเพิ่มมูลค่าการค้าซึ่งปัจจุบันมีประมาณ ๑๒,๕๐๐ ล้านดอลลาร์สหรัฐ ให้ทวีขึ้นเป็น ๓ หมื่นล้าน\""
   ]
  },
  {
   "cell_type": "code",
   "execution_count": 57,
   "metadata": {},
   "outputs": [],
   "source": [
    "def convert(text):\n",
    "    splits = text.split(\" \")\n",
    "    \n",
    "    for index, split in enumerate(splits):\n",
    "        \n",
    "        if re.search(r\"[๐-๙]\", split):\n",
    "            print(\"\\nselcted split: \", split)\n",
    "            ## Modify the following line to convert from thai digits to arabic\n",
    "\n",
    "            splits[index] = split\n",
    "            \n",
    "            ##--------------------- ##\n",
    "            print(\"convert to: \", splits[index])\n",
    "    \n",
    "    return \" \".join(splits)\n",
    "    "
   ]
  },
  {
   "cell_type": "code",
   "execution_count": 58,
   "metadata": {},
   "outputs": [
    {
     "name": "stdout",
     "output_type": "stream",
     "text": [
      "\n",
      "selcted split:  ๑๒,๕๐๐\n",
      "convert to:  ๑๒,๕๐๐\n",
      "\n",
      "selcted split:  ๓\n",
      "convert to:  ๓\n"
     ]
    },
    {
     "data": {
      "text/plain": [
       "'เพื่อเพิ่มมูลค่าการค้าซึ่งปัจจุบันมีประมาณ ๑๒,๕๐๐ ล้านดอลลาร์สหรัฐ ให้ทวีขึ้นเป็น ๓ หมื่นล้าน'"
      ]
     },
     "execution_count": 58,
     "metadata": {},
     "output_type": "execute_result"
    }
   ],
   "source": [
    "convert(text_with_thai_digits)"
   ]
  },
  {
   "cell_type": "markdown",
   "metadata": {},
   "source": [
    "__Test:__ Given a list of sentences, please return only Thai sentences."
   ]
  },
  {
   "cell_type": "code",
   "execution_count": 59,
   "metadata": {},
   "outputs": [
    {
     "name": "stdout",
     "output_type": "stream",
     "text": [
      "\n",
      "selcted split:  ๑๒,๕๐๐\n",
      "convert to:  ๑๒,๕๐๐\n",
      "\n",
      "selcted split:  ๓\n",
      "convert to:  ๓\n",
      "❌ Test failed. 😭\n",
      "The actual results: เพื่อเพิ่มมูลค่าการค้าซึ่งปัจจุบันมีประมาณ ๑๒,๕๐๐ ล้านดอลลาร์สหรัฐ ให้ทวีขึ้นเป็น ๓ หมื่นล้าน\n"
     ]
    }
   ],
   "source": [
    "def test_convert_thai_digits(convert):\n",
    "    expect = \"เพื่อเพิ่มมูลค่าการค้าซึ่งปัจจุบันมีประมาณ 12,500 ล้านดอลลาร์สหรัฐ ให้ทวีขึ้นเป็น 3 หมื่นล้าน\"\n",
    "    actual = convert(text_with_thai_digits)\n",
    "\n",
    "    if actual == expect:\n",
    "        print(\"✅ Test succeed. 😁\")\n",
    "    else:\n",
    "        print(\"❌ Test failed. 😭\")\n",
    "        print(\"The actual results:\", actual)\n",
    "\n",
    "test_convert_thai_digits(convert)"
   ]
  },
  {
   "cell_type": "markdown",
   "metadata": {},
   "source": [
    "__Solution:__"
   ]
  },
  {
   "cell_type": "code",
   "execution_count": 60,
   "metadata": {},
   "outputs": [],
   "source": [
    "def convert(text):\n",
    "    splits = text.split(\" \")\n",
    "    \n",
    "    for index, split in enumerate(splits):\n",
    "        \n",
    "        if re.search(r\"[๐-๙]\", split):\n",
    "            print(\"\\nselcted split: \", split)\n",
    "            ## Write the code to convert\n",
    "\n",
    "            splits[index] = thai_digit_to_arabic_digit(split)\n",
    "            \n",
    "            \n",
    "            print(\"convert to: \", splits[index])\n",
    "\n",
    "    return \" \".join(splits)\n",
    "    "
   ]
  },
  {
   "cell_type": "code",
   "execution_count": 61,
   "metadata": {},
   "outputs": [
    {
     "name": "stdout",
     "output_type": "stream",
     "text": [
      "\n",
      "selcted split:  ๑๒,๕๐๐\n",
      "convert to:  12,500\n",
      "\n",
      "selcted split:  ๓\n",
      "convert to:  3\n",
      "✅ Test succeed. 😁\n"
     ]
    }
   ],
   "source": [
    "test_convert_thai_digits(convert)"
   ]
  },
  {
   "cell_type": "code",
   "execution_count": null,
   "metadata": {},
   "outputs": [],
   "source": []
  },
  {
   "cell_type": "markdown",
   "metadata": {},
   "source": [
    "### 4.2 Thai Word count"
   ]
  },
  {
   "cell_type": "code",
   "execution_count": 62,
   "metadata": {},
   "outputs": [],
   "source": [
    "from pythainlp.util import countthai\n"
   ]
  },
  {
   "cell_type": "markdown",
   "metadata": {},
   "source": [
    "\n",
    "Count percentage of Thai chacters in a text.\n",
    "\n",
    "```python\n",
    " countthai(text:str) -> percentage:float\n",
    "```\n",
    "\n"
   ]
  },
  {
   "cell_type": "code",
   "execution_count": 63,
   "metadata": {},
   "outputs": [
    {
     "data": {
      "text/plain": [
       "0.0"
      ]
     },
     "execution_count": 63,
     "metadata": {},
     "output_type": "execute_result"
    }
   ],
   "source": [
    "countthai(\"Hello world.\")"
   ]
  },
  {
   "cell_type": "code",
   "execution_count": 64,
   "metadata": {},
   "outputs": [
    {
     "data": {
      "text/plain": [
       "100.0"
      ]
     },
     "execution_count": 64,
     "metadata": {},
     "output_type": "execute_result"
    }
   ],
   "source": [
    "countthai(\"สวัสดี ฉันชอบนั่งรถไฟ\")"
   ]
  },
  {
   "cell_type": "code",
   "execution_count": 65,
   "metadata": {},
   "outputs": [
    {
     "data": {
      "text/plain": [
       "46.15384615384615"
      ]
     },
     "execution_count": 65,
     "metadata": {},
     "output_type": "execute_result"
    }
   ],
   "source": [
    "countthai(\"สวัสดี Jane Doe\")"
   ]
  },
  {
   "cell_type": "code",
   "execution_count": null,
   "metadata": {},
   "outputs": [],
   "source": []
  },
  {
   "cell_type": "markdown",
   "metadata": {},
   "source": [
    "#### __Question 9:__ Given a list of sentences, please return only Thai sentences."
   ]
  },
  {
   "cell_type": "code",
   "execution_count": 66,
   "metadata": {},
   "outputs": [],
   "source": [
    "en_th_sentences = [\n",
    "    \"มันจะมีอะไรที่ทำให้ ผิดพลาดได้ล่ะ?\",\n",
    "    \"สวัสดี... ...ดิ๊ก\",\n",
    "    \"# Just to get a glimpse beyond this illusion #\",\n",
    "    \"# I was soaring ever higher #\",\n",
    "    \"# but I flew too high #\",\n",
    "    \"    ใช่\",\n",
    "    \"ใช่ เขาและแฟรงค์ และ แคส ถ้าขวดเหล้าเขา อยู่ในกระเป๋า\",\n",
    "    \"มันก็ดีที่เราได้คราวลีย์ มาอยู่ฝั่งเราถูกมั้ย?\",\n",
    "    \"คุณคราวลีย์ เรามีเรื่องต้องคุยกันเยอะเลย\",\n",
    "    \"เชิญนั่ง\",\n",
    "    \"== sync, corrected by elderman ==\",\n",
    "    \"# though my eyes could see, I still was a blind man #\",\n",
    "    \"# though my mind could think, I still was a madman #\",\n",
    "    \"ได้เห็นว่า พวกมันทั้งหมดมาตามล่าเขา\",\n",
    "    \"# I hear the voices when I'm dreaming #\",\n",
    "]"
   ]
  },
  {
   "cell_type": "code",
   "execution_count": 67,
   "metadata": {},
   "outputs": [],
   "source": [
    "def test_thai_sentence(sentence):\n",
    "\n",
    "    ## Write down the code, to return value True if the sentence is in Thai language\n",
    "    \n",
    "    \n",
    "    \n",
    "    ##\n",
    "    return False"
   ]
  },
  {
   "cell_type": "markdown",
   "metadata": {},
   "source": [
    "__Test:__"
   ]
  },
  {
   "cell_type": "code",
   "execution_count": 68,
   "metadata": {},
   "outputs": [],
   "source": [
    "th_sentences = [\n",
    "    \"มันจะมีอะไรที่ทำให้ ผิดพลาดได้ล่ะ?\",\n",
    "    \"สวัสดี... ...ดิ๊ก\",\n",
    "    \"    ใช่\",\n",
    "    \"ใช่ เขาและแฟรงค์ และ แคส ถ้าขวดเหล้าเขา อยู่ในกระเป๋า\",\n",
    "    \"มันก็ดีที่เราได้คราวลีย์ มาอยู่ฝั่งเราถูกมั้ย?\",\n",
    "    \"คุณคราวลีย์ เรามีเรื่องต้องคุยกันเยอะเลย\",\n",
    "    \"เชิญนั่ง\",\n",
    "    \"ได้เห็นว่า พวกมันทั้งหมดมาตามล่าเขา\",\n",
    "]"
   ]
  },
  {
   "cell_type": "code",
   "execution_count": 69,
   "metadata": {},
   "outputs": [
    {
     "name": "stdout",
     "output_type": "stream",
     "text": [
      "❌ Test failed. 😭\n",
      "The actual results: []\n",
      "\n",
      "The expected sentences to be returned:\n",
      "\n",
      "1 มันจะมีอะไรที่ทำให้ ผิดพลาดได้ล่ะ?\n",
      "2 สวัสดี... ...ดิ๊ก\n",
      "3     ใช่\n",
      "4 ใช่ เขาและแฟรงค์ และ แคส ถ้าขวดเหล้าเขา อยู่ในกระเป๋า\n",
      "5 มันก็ดีที่เราได้คราวลีย์ มาอยู่ฝั่งเราถูกมั้ย?\n",
      "6 คุณคราวลีย์ เรามีเรื่องต้องคุยกันเยอะเลย\n",
      "7 เชิญนั่ง\n",
      "8 ได้เห็นว่า พวกมันทั้งหมดมาตามล่าเขา\n"
     ]
    }
   ],
   "source": [
    "actual = list(filter(test_thai_sentence, en_th_sentences))\n",
    "expect = th_sentences\n",
    "\n",
    "if actual == expect:\n",
    "    print(\"✅ Test succeed. 😁\")\n",
    "else:\n",
    "    print(\"❌ Test failed. 😭\")\n",
    "    print(\"The actual results:\", actual)\n",
    "    print(\"\\nThe expected sentences to be returned:\\n\")\n",
    "    for i, sentence in enumerate(th_sentences):\n",
    "        print(i+1, sentence)"
   ]
  },
  {
   "cell_type": "markdown",
   "metadata": {},
   "source": [
    "__Solution:__"
   ]
  },
  {
   "cell_type": "code",
   "execution_count": 70,
   "metadata": {},
   "outputs": [],
   "source": [
    "def test_thai_sentence(sentence):\n",
    "\n",
    "    ## Write down the code, to return value True if the sentence is in Thai language\n",
    "    \n",
    "    if countthai(sentence)  >= 90.0:\n",
    "        return True\n",
    "    \n",
    "    ##\n",
    "    return False"
   ]
  },
  {
   "cell_type": "code",
   "execution_count": 71,
   "metadata": {},
   "outputs": [
    {
     "name": "stdout",
     "output_type": "stream",
     "text": [
      "✅ Test succeed. 😁\n"
     ]
    }
   ],
   "source": [
    "actual = list(filter(test_thai_sentence, en_th_sentences))\n",
    "expect = th_sentences\n",
    "\n",
    "if actual == expect:\n",
    "    print(\"✅ Test succeed. 😁\")\n",
    "else:\n",
    "    print(\"❌ Test failed. 😭\")\n",
    "    print(\"The actual results:\", actual)"
   ]
  },
  {
   "cell_type": "markdown",
   "metadata": {},
   "source": [
    "### 4.3 Data and time"
   ]
  },
  {
   "cell_type": "markdown",
   "metadata": {},
   "source": [
    "This function uses Thai names and Thai Buddhist Era for these directives:\n",
    "\n",
    "- __%a__ - abbreviated weekday name (e.g. “จ”, “อ”, “พ”, “พฤ”, “ศ”, “ส”, “อา”)\n",
    "\n",
    "- __%A__ - full weekday name (e.g.“วันจันทร์”, “วันอังคาร”, “วันเสาร์”, “วันอาทิตย์”)\n",
    "\n",
    "- __%b__ - abbreviated month name (e.g.“ม.ค.”,”ก.พ.”,”มี.ค.”,”เม.ย.”,”พ.ค.”,”มิ.ย.”, “ธ.ค.”)\n",
    "\n",
    "- __%B__ - full month name (e.g. “มกราคม”, “กุมภาพันธ์”, “พฤศจิกายน”, “ธันวาคม”,)\n",
    "\n",
    "- __%y__ - year without century (e.g. “56”, “10”)\n",
    "\n",
    "- __%Y__ - year with century (e.g. “2556”, “2410”)\n",
    "\n",
    "- __%c__ - date and time representation (e.g. “พ 6 ต.ค. 01:40:00 2519”)\n",
    "\n",
    "- __%v__ - short date representation (e.g. ” 6-ม.ค.-2562”, “27-ก.พ.-2555”)\n",
    "\n",
    "- __%d__ - day (e.g. \"01\", \"07\", 10\", \"31\")\n",
    "\n",
    "- __%-d__ - day with no zero padding (e.g. \"1\", \"7\",10\", \"31\")\n",
    " \n",
    "- __%H__  - hour (e.g. \"01\", \"06\", \"23\")\n",
    "\n",
    "- __%-H__ - hour with no zero padding (e.g. \"1\", \"6\", \"23\"))\n",
    "\n",
    "- __%M__  - minute (e.g. \"1\", \"2\", \"11\", \"12\")\n",
    "\n",
    "- __%S__  - second (e.g. \"1\", \"2\", \"11\", \"12\")"
   ]
  },
  {
   "cell_type": "code",
   "execution_count": 72,
   "metadata": {},
   "outputs": [],
   "source": [
    "from datetime import datetime\n",
    "from pythainlp.util import thai_strftime\n"
   ]
  },
  {
   "cell_type": "code",
   "execution_count": 73,
   "metadata": {},
   "outputs": [
    {
     "data": {
      "text/plain": [
       "'01 พฤศจิกายน 2562'"
      ]
     },
     "execution_count": 73,
     "metadata": {},
     "output_type": "execute_result"
    }
   ],
   "source": [
    "# Print the current date in Thai format\n",
    "\n",
    "thai_strftime(datetime.now(), \"%d %B %Y\")"
   ]
  },
  {
   "cell_type": "code",
   "execution_count": null,
   "metadata": {},
   "outputs": [],
   "source": []
  },
  {
   "cell_type": "markdown",
   "metadata": {},
   "source": [
    "#### __Question 10:__ Given a date time object, return the datetime string in the following format\n",
    "\n",
    "\n",
    "```\n",
    "วันศุกร์ ที่ 1 พฤศจิกายน ปี พ.ศ. 2562 เวลา 11 นาฬิกา 30 นาที 10 วินาที\n",
    "```"
   ]
  },
  {
   "cell_type": "code",
   "execution_count": 74,
   "metadata": {},
   "outputs": [],
   "source": [
    "datetime_object_workshop_day = datetime(year=2019, month=11, day=1,hour=11,minute=30,second=10)\n",
    "\n",
    "def print_datetime_thai(datetime_object):\n",
    "    # Write down the format string.\n",
    "    fmt = \"\"\n",
    "    return thai_strftime(datetime_object, fmt)"
   ]
  },
  {
   "cell_type": "markdown",
   "metadata": {},
   "source": [
    "__Test:__"
   ]
  },
  {
   "cell_type": "code",
   "execution_count": 75,
   "metadata": {},
   "outputs": [
    {
     "name": "stdout",
     "output_type": "stream",
     "text": [
      "❌ Test failed. 😭\n",
      "\n",
      "Your result    : \n",
      "\n",
      "Expected result: วันศุกร์ ที่ 1 พฤศจิกายน พ.ศ. 2562 เวลา 11 นาฬิกา 30 นาที 10 วินาที\n"
     ]
    }
   ],
   "source": [
    "def test_print_datetime_thai(fn):\n",
    "    expect = \"วันศุกร์ ที่ 1 พฤศจิกายน พ.ศ. 2562 เวลา 11 นาฬิกา 30 นาที 10 วินาที\"\n",
    "    actual = fn(datetime_object_workshop_day)\n",
    "\n",
    "    if actual == expect:\n",
    "        print(\"✅ Test succeed. 😁\\n\")\n",
    "        print(\"Your Result:\",expect)\n",
    "    else:\n",
    "        print(\"❌ Test failed. 😭\")\n",
    "        print(\"\\nYour result    :\", actual)\n",
    "        print(\"\\nExpected result:\", expect)\n",
    "\n",
    "test_print_datetime_thai(print_datetime_thai)"
   ]
  },
  {
   "cell_type": "markdown",
   "metadata": {},
   "source": [
    "__Solution:__"
   ]
  },
  {
   "cell_type": "code",
   "execution_count": 76,
   "metadata": {},
   "outputs": [
    {
     "name": "stdout",
     "output_type": "stream",
     "text": [
      "✅ Test succeed. 😁\n",
      "\n",
      "Your Result: วันศุกร์ ที่ 1 พฤศจิกายน พ.ศ. 2562 เวลา 11 นาฬิกา 30 นาที 10 วินาที\n"
     ]
    }
   ],
   "source": [
    "def print_datetime_thai(datetime_object):\n",
    "    # Write down the format string.\n",
    "    fmt = \"%A ที่ %-d %B พ.ศ. %Y เวลา %H นาฬิกา %M นาที %S วินาที\"\n",
    "    return thai_strftime(datetime_object, fmt)\n",
    "\n",
    "test_print_datetime_thai(print_datetime_thai)"
   ]
  },
  {
   "cell_type": "markdown",
   "metadata": {},
   "source": [
    "__Without Thai strftime__"
   ]
  },
  {
   "cell_type": "code",
   "execution_count": 78,
   "metadata": {},
   "outputs": [
    {
     "data": {
      "text/plain": [
       "'Friday ที่ 1 November พ.ศ. 2019 เวลา 11 นาฬิกา 30 นาที 10 วินาที'"
      ]
     },
     "execution_count": 78,
     "metadata": {},
     "output_type": "execute_result"
    }
   ],
   "source": [
    "datetime_object_workshop_day.strftime(\"%A ที่ %-d %B พ.ศ. %Y เวลา %H นาฬิกา %M นาที %S วินาที\")"
   ]
  }
 ],
 "metadata": {
  "kernelspec": {
   "display_name": "Python 3",
   "language": "python",
   "name": "python3"
  },
  "language_info": {
   "codemirror_mode": {
    "name": "ipython",
    "version": 3
   },
   "file_extension": ".py",
   "mimetype": "text/x-python",
   "name": "python",
   "nbconvert_exporter": "python",
   "pygments_lexer": "ipython3",
   "version": "3.7.4"
  }
 },
 "nbformat": 4,
 "nbformat_minor": 4
}
