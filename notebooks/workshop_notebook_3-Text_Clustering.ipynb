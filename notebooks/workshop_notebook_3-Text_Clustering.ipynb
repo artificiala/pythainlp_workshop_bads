{
 "cells": [
  {
   "cell_type": "markdown",
   "metadata": {},
   "source": [
    "# Workshop Notebook 3: Text Clustering on NECTEC's Thai QA Dataset\n",
    "\n",
    "\n",
    "\n",
    "In this notebook, we will cluster type of Thai questions by its semantic similarity.\n",
    "\n",
    "\n",
    "We will use data from Thai QA Dataset (https://www.nectec.or.th/corpus/index.php?league=tp5)."
   ]
  },
  {
   "cell_type": "code",
   "execution_count": null,
   "metadata": {},
   "outputs": [],
   "source": [
    "!pip install --user -q --upgrade --pre pythainlp"
   ]
  },
  {
   "cell_type": "markdown",
   "metadata": {},
   "source": [
    "### Header"
   ]
  },
  {
   "cell_type": "code",
   "execution_count": 1,
   "metadata": {},
   "outputs": [],
   "source": [
    "# Header\n",
    "\n",
    "import os\n",
    "import json\n",
    "from collections import Counter\n",
    "import numpy as np\n",
    "from pythainlp.tokenize import word_tokenize\n"
   ]
  },
  {
   "cell_type": "markdown",
   "metadata": {},
   "source": [
    "### 1. Load Question Answeing Dataset\n",
    "\n",
    "\n",
    "__Thai Question Answering Dataset from Wikipedia created by NECTEC__\n",
    "\n",
    "Reference: http://copycatch.in.th/thai-qa-task.html\n",
    "\n",
    "ชุดข้อมูลนี้ประกอบด้วยกลุ่มคู่คำถามและคำตอบที่ถูกสร้างจากผู้ใช้ทั่วไปและเป็นกลุ่มคู่คำถามและคำตอบที่มีเนื้อหาหลากหลาย เช่น ด้านวิทยาศาสตร์ การท่องเที่ยว กีฬา และอื่น ๆ นอกจากนี้คำถามที่อยู่ในกลุ่มนี้เป็นคำถามง่ายและยากผสมกัน \n",
    "\n",
    "คำถามที่เป็นข้อเท็จจริง (Factoid question answering) เป็นคำถามที่ง่ายๆ ถามเกี่ยวกับข้อเท็จจริงและเป็นคำถามที่มีคำตอบจริง โดยจะมีคำแสดงคำถามได้แก่ ใคร อะไร ไหน ที่ไหน เมื่อไร ใด กี่ เท่าไร ยกตัวอย่างเช่น\n",
    "\n",
    "-----\n",
    "\n",
    "__คำถาม:__ นายกรัฐมนตรีคนที่ 7 ของประเทศไทยคือใคร \n",
    "\n",
    "__คำตอบ:__ ปรีดี พนมยงค์\n",
    "\n",
    "-----\n",
    "\n",
    "__คำถาม:__ กีฬาประจำชาติแห่งแดนอาทิตย์อุทัยที่มีประวัติยาวนานคือกีฬาอะไร \n",
    "\n",
    "__คำตอบ:__ ซูโม่\n",
    "\n",
    "-----\n",
    "\n",
    "__คำถาม:__ ออสเตรเลียเป็นประเทศร่ำรวยเป็นอันดับที่เท่าไรของโลก\n",
    "\n",
    "__คำตอบ:__ 12\n",
    "\n",
    "-----\n",
    "\n",
    "__คำถาม:__ พระกระโดดกำแพงเป็นอาหารประจำชาติไหนในทวีปเอเชีย \n",
    "\n",
    "__คำตอบ:__ จีน\n",
    "\n",
    "-----\n",
    "\n",
    "__คำถาม:__ รายงานความสุขโลกเป็นดัชนีวัดความสุขเผยแพร่โดยใคร \n",
    "\n",
    "__คำตอบ:__ สหประชาชาติ"
   ]
  },
  {
   "cell_type": "code",
   "execution_count": 2,
   "metadata": {},
   "outputs": [],
   "source": [
    "# Download dataset\n",
    "\n",
    "dataset = None\n",
    "\n",
    "with open(\"../data/thai_qa/ThaiQACorpus-DevelopmentDataset.json\", \"r\", encoding=\"utf-8\") as f:\n",
    "    dataset = json.load(f)[\"data\"]"
   ]
  },
  {
   "cell_type": "code",
   "execution_count": 3,
   "metadata": {},
   "outputs": [
    {
     "name": "stdout",
     "output_type": "stream",
     "text": [
      "Total Number of questions: 4000\n"
     ]
    }
   ],
   "source": [
    "print(\"Total Number of questions:\", len(dataset))"
   ]
  },
  {
   "cell_type": "code",
   "execution_count": 4,
   "metadata": {},
   "outputs": [
    {
     "name": "stdout",
     "output_type": "stream",
     "text": [
      "{'question_id': 1, 'question': 'สุนัขตัวแรกรับบทเป็นเบนจี้ในภาพยนตร์เรื่อง Benji ที่ออกฉายในปี พ.ศ. 2517 มีชื่อว่าอะไร', 'answer': 'ฮิกกิ้นส์', 'answer_begin_position ': 529, 'answer_end_position': 538, 'article_id': 115035}\n",
      "\n",
      "{'question_id': 2, 'question': 'ลูนา 1 เป็นยานอวกาศลำแรกในโครงการลูนาของโซเวียต มีชื่อเรียกอีกชื่อว่าอะไร', 'answer': 'เมชตา', 'answer_begin_position ': 139, 'answer_end_position': 144, 'article_id': 376583}\n",
      "\n",
      "{'question_id': 3, 'question': 'ลูนา 1 เป็นยานอวกาศลำแรกในโครงการลูนาของโซเวียต สามารถสังเกตและตรวจวัดอะไรได้โดยตรง', 'answer': 'ลมสุริยะ', 'answer_begin_position ': 641, 'answer_end_position': 649, 'article_id': 376583}\n",
      "\n",
      "{'question_id': 4, 'question': 'กระทรวงโฆษณาแถลงข่าวและโฆษณาชวนเชื่อของนาซีเยอรมนี ก่อตั้งขึ้นในปี ค.ศ. ใด', 'answer': 'ปี 1933', 'answer_begin_position ': 304, 'answer_end_position': 311, 'article_id': 547560}\n",
      "\n",
      "{'question_id': 5, 'question': 'ห้องทำงานรูปไข่ สร้างขึ้นในสมัยอดีตประธานาธิบดีคนใดของสหรัฐอเมริกา', 'answer': 'ประธานาธิบดีวิลเลียม เอช. ทัฟต์', 'answer_begin_position ': 231, 'answer_end_position': 262, 'article_id': 193032}\n",
      "\n",
      "{'question_id': 6, 'question': 'เครื่องอิสริยาภรณ์ดารามหาปุตราเป็นเครื่องอิสริยาภรณ์ของประเทศอินโดนีเซียมีลำดับเกียรติเป็นอันดับที่เท่าไร', 'answer': 'อันดับที่ 2', 'answer_begin_position ': 230, 'answer_end_position': 241, 'article_id': 657746}\n",
      "\n",
      "{'question_id': 7, 'question': 'เครื่องอิสริยาภรณ์ดารามหาปุตรา เป็นเครื่องอิสริยาภรณ์ฯ ของประเทศอะไร', 'answer': 'ประเทศอินโดนีเซีย', 'answer_begin_position ': 245, 'answer_end_position': 262, 'article_id': 657746}\n",
      "\n",
      "{'question_id': 8, 'question': 'เรจโจเอมีเลียเป็นเมืองในแคว้นใดในภาคเหนือของประเทศอิตาลี', 'answer': 'แคว้นเอมีเลีย-โรมัญญา', 'answer_begin_position ': 153, 'answer_end_position': 174, 'article_id': 681721}\n",
      "\n",
      "{'question_id': 9, 'question': 'พิกซาร์สตูดิโอสร้างคอมพิวเตอร์แอนิแมชันสัญชาติอเมริกัน ตั้งอยู่ที่เมืองอะไร', 'answer': 'เมืองเอเมอรีวิลล์', 'answer_begin_position ': 198, 'answer_end_position': 215, 'article_id': 452696}\n",
      "\n",
      "{'question_id': 10, 'question': 'พิกซาร์ สตูดิโอสร้างคอมพิวเตอร์แอนิแมชันสัญชาติอเมริกัน ในปัจจุบันเป็นส่วนหนึ่งของบริษัทอะไร', 'answer': 'บริษัทเดอะวอลต์ดิสนีย์', 'answer_begin_position ': 256, 'answer_end_position': 278, 'article_id': 452696}\n",
      "\n"
     ]
    }
   ],
   "source": [
    "for qa in dataset[:10]:\n",
    "    print(qa)\n",
    "    print(\"\")"
   ]
  },
  {
   "cell_type": "code",
   "execution_count": null,
   "metadata": {},
   "outputs": [],
   "source": []
  },
  {
   "cell_type": "markdown",
   "metadata": {},
   "source": [
    "### Question words \n",
    "\n",
    "__Wh-question:__ `What, When, Where, Why, Which, How`\n",
    "\n",
    "- In Thai questions, it may occur at the end of sentence, or at the begining.\n",
    "\n",
    "\n",
    "For example:\n",
    "\n",
    "\n",
    "\n",
    "- \"__ใครคือ__ผู้บริหารสำนักงานส่งเสริมเศรษฐกิดิจิทัล\" -> Who is the director of Digital Economy Promotion Agency?\n",
    "- \"แม่ของดอนัลด์ ทรัมป์__คือใคร__\" -> Who is the mother of Donald Trump?\n",
    "- \"บารัค โอบามา มีเชื่อชาติ__อะไร__\" -> What is the race of Barack Obama?\n",
    "- \"ดอนัลด์ ทรัมป์ เกิด__เมื่อใด__\" -> When was Donald Trump born?\n",
    "- \"ทะเลเดดซี __ตั้งอยู่ที่ใด__\" -> Where is the Dead Sea located?\n",
    "- \"คุณอาศัยอยู่ที่__ประเทศใด__\" -> Which country do  you live in?\n",
    "\n"
   ]
  },
  {
   "cell_type": "markdown",
   "metadata": {},
   "source": [
    "__Look at the last 3 tokens and fist 3 tokens__"
   ]
  },
  {
   "cell_type": "code",
   "execution_count": 5,
   "metadata": {},
   "outputs": [
    {
     "name": "stdout",
     "output_type": "stream",
     "text": [
      "Question: ปู่ของเอมี่ กลิ่นประทุม หรือ มีชื่อจริงว่า เอมิกา กลิ่นประทุม คือใคร\n",
      "Tokens: ปู่|ของ|เอ|มี่|กลิ่น|ประ|ทุม|หรือ|มี|ชื่อจริง|ว่า|เอ|มิ|กา|กลิ่น|ประ|ทุม|คือ|ใคร\n",
      "First 3 Tokens: ปู่|ของ|เอ\n",
      "Last 3 Tokens: ทุม|คือ|ใคร\n",
      "\n",
      "Question: ญาญ่า อุรัสยา เสปอร์บันด์ ได้เข้าร่วมโครงการค้นหานางแบบหน้าใหม่ โดยคำชักชวนของใคร\n",
      "Tokens: ญาญ่า|อุ|รัส|ยา|เส|ปอ|ร์|บัน|ด์|ได้|เข้าร่วม|โครงการ|ค้นหา|นางแบบ|หน้าใหม่|โดย|คำชักชวน|ของ|ใคร\n",
      "First 3 Tokens: ญาญ่า|อุ|รัส\n",
      "Last 3 Tokens: คำชักชวน|ของ|ใคร\n",
      "\n",
      "Question: แอน ทองประสม แสดงละครเรื่องแรกกับสถานีโทรทัศน์ไทยทีวีสีช่อง 3 ปี 2535 ในเรื่องอะไร\n",
      "Tokens: แอน|ทอง|ประสม|แสดงละคร|เรื่อง|แรก|กับ|สถานีโทรทัศน์|ไทย|ทีวีสี|ช่อง|3|ปี|2535|ใน|เรื่อง|อะไร\n",
      "First 3 Tokens: แอน|ทอง|ประสม\n",
      "Last 3 Tokens: ใน|เรื่อง|อะไร\n",
      "\n",
      "Question: หยาดทิพย์ ราชปาล มีชื่อเล่นว่าอะไร\n",
      "Tokens: หยาด|ทิพย์|ราช|ปาล|มี|ชื่อเล่น|ว่า|อะไร\n",
      "First 3 Tokens: หยาด|ทิพย์|ราช\n",
      "Last 3 Tokens: ชื่อเล่น|ว่า|อะไร\n",
      "\n",
      "Question: พระเจ้าวรวงศ์เธอ พระองค์เจ้าโสมสวลี พระวรราชาทินัดดามาตุ พระนามเดิมว่าอะไร\n",
      "Tokens: พระเจ้าวรวงศ์เธอ พระองค์เจ้าโสมสวลี พระวรราชาทินัดดามาตุ|พระนาม|เดิม|ว่า|อะไร\n",
      "First 3 Tokens: พระเจ้าวรวงศ์เธอ พระองค์เจ้าโสมสวลี พระวรราชาทินัดดามาตุ|พระนาม|เดิม\n",
      "Last 3 Tokens: เดิม|ว่า|อะไร\n",
      "\n",
      "Question: พระนามเดิมของท่านผู้หญิงพันธุ์สวลี กิติยากร ใช้พระนามว่าอะไร\n",
      "Tokens: พระนาม|เดิม|ของ|ท่านผู้หญิง|พันธุ์|สว|ลี|กิ|ติ|ยา|กร|ใช้|พระนาม|ว่า|อะไร\n",
      "First 3 Tokens: พระนาม|เดิม|ของ\n",
      "Last 3 Tokens: พระนาม|ว่า|อะไร\n",
      "\n",
      "Question: สุนารี ราชสีมา นักร้องเพลงลูกทุ่งไทย มีชื่อจริงว่าอะไร\n",
      "Tokens: สุ|นารี|ราช|สีมา|นักร้อง|เพลงลูกทุ่ง|ไทย|มี|ชื่อจริง|ว่า|อะไร\n",
      "First 3 Tokens: สุ|นารี|ราช\n",
      "Last 3 Tokens: ชื่อจริง|ว่า|อะไร\n",
      "\n",
      "Question: สามีของสุนารี ราชสีมา นักร้องและราชินีเพลงลูกทุ่งไทยจากเมืองย่าโม มีชื่อว่าอะไร\n",
      "Tokens: สามี|ของ|สุ|นารี|ราช|สีมา|นักร้อง|และ|ราชินี|เพลงลูกทุ่ง|ไทย|จาก|เมือง|ย่า|โม|มี|ชื่อว่า|อะไร\n",
      "First 3 Tokens: สามี|ของ|สุ\n",
      "Last 3 Tokens: มี|ชื่อว่า|อะไร\n",
      "\n",
      "Question: วิกกี้ หรือ สุนิสา เจทท์ เกิดที่รัฐแมรีแลนด์ ประเทศอะไร\n",
      "Tokens: วิก|กี้|หรือ|สุ|นิ|สา|เจ|ทท|์|เกิด|ที่|รัฐ|แมรีแลนด์|ประเทศ|อะไร\n",
      "First 3 Tokens: วิก|กี้|หรือ\n",
      "Last 3 Tokens: แมรีแลนด์|ประเทศ|อะไร\n",
      "\n",
      "Question: พี่ชายของสุนิสา เจทท์ นักแสดงและนางแบบชาวไทย คือใคร\n",
      "Tokens: พี่ชาย|ของ|สุ|นิ|สา|เจ|ทท|์|นักแสดง|และ|นางแบบ|ชาวไทย|คือ|ใคร\n",
      "First 3 Tokens: พี่ชาย|ของ|สุ\n",
      "Last 3 Tokens: ชาวไทย|คือ|ใคร\n",
      "\n",
      "Question: นามสกุลเดิมของ สุวนันท์ ปุณณกันต์ ใช้ว่าอะไร\n",
      "Tokens: นามสกุล|เดิม|ของ|สุว|นันท์|ปุ|ณณ|กันต์|ใช้|ว่า|อะไร\n",
      "First 3 Tokens: นามสกุล|เดิม|ของ\n",
      "Last 3 Tokens: ใช้|ว่า|อะไร\n",
      "\n",
      "Question: สามีของกบ สุวนันท์ ปุณณกันต์ คือใคร\n",
      "Tokens: สามี|ของ|กบ|สุว|นันท์|ปุ|ณณ|กันต์|คือ|ใคร\n",
      "First 3 Tokens: สามี|ของ|กบ\n",
      "Last 3 Tokens: กันต์|คือ|ใคร\n",
      "\n",
      "Question: บิดาของสุธาสินี พุทธินันทน์ คือใคร\n",
      "Tokens: บิดา|ของ|สุธาสินี|พุทธิ|นันทน์|คือ|ใคร\n",
      "First 3 Tokens: บิดา|ของ|สุธาสินี\n",
      "Last 3 Tokens: นันทน์|คือ|ใคร\n",
      "\n",
      "Question: สิริยากร พุกกะเวส อดีตนักแสดงสาวชาวไทย มีชื่อเล่นเรียกว่าอะไร\n",
      "Tokens: สิริ|ยา|กร|พุก|กะ|เวส|อดีต|นักแสดง|สาว|ชาวไทย|มี|ชื่อเล่น|เรียก|ว่า|อะไร\n",
      "First 3 Tokens: สิริ|ยา|กร\n",
      "Last 3 Tokens: เรียก|ว่า|อะไร\n",
      "\n",
      "Question: ลูกสาวคนที่สองของ อุ้ม สิริยากร มีชื่อว่าอะไร\n",
      "Tokens: ลูกสาว|คน|ที่สอง|ของ|อุ้ม|สิริ|ยา|กร|มี|ชื่อว่า|อะไร\n",
      "First 3 Tokens: ลูกสาว|คน|ที่สอง\n",
      "Last 3 Tokens: มี|ชื่อว่า|อะไร\n",
      "\n",
      "Question: สุพรรณ บูรณะพิมพ์ มีชื่อเล่นว่าอะไร\n",
      "Tokens: สุพรรณ|บูรณะ|พิมพ์|มี|ชื่อเล่น|ว่า|อะไร\n",
      "First 3 Tokens: สุพรรณ|บูรณะ|พิมพ์\n",
      "Last 3 Tokens: ชื่อเล่น|ว่า|อะไร\n",
      "\n",
      "Question: สุพรรณ บูรณะพิมพ์ นักแสดงและผู้กำกับอาวุโส เล่นเป็นนางเอกเรื่อง พันท้ายนรสิงห์ ปี พ.ศ. 2487 คู่กับใคร\n",
      "Tokens: สุพรรณ|บูรณะ|พิมพ์|นักแสดง|และ|ผู้กำกับ|อาวุโส|เล่น|เป็น|นางเอก|เรื่อง|พัน|ท้าย|นรสิงห์|ปี|พ.ศ.|2487|คู่|กับ|ใคร\n",
      "First 3 Tokens: สุพรรณ|บูรณะ|พิมพ์\n",
      "Last 3 Tokens: คู่|กับ|ใคร\n",
      "\n",
      "Question: สินจัย เปล่งพานิช หรือ นก นักแสดงชาวไทย ใช้นามสกุลเดิมว่าอะไร\n",
      "Tokens: สิน|จัย|เปล่ง|พา|นิช|หรือ|นก|นักแสดง|ชาวไทย|ใช้|นามสกุล|เดิม|ว่า|อะไร\n",
      "First 3 Tokens: สิน|จัย|เปล่ง\n",
      "Last 3 Tokens: เดิม|ว่า|อะไร\n",
      "\n",
      "Question: หลานชายของฉัตรชัย เปล่งพานิช คือใคร\n",
      "Tokens: หลานชาย|ของ|ฉัตร|ชัย|เปล่ง|พา|นิช|คือ|ใคร\n",
      "First 3 Tokens: หลานชาย|ของ|ฉัตร\n",
      "Last 3 Tokens: นิช|คือ|ใคร\n",
      "\n",
      "Question: สรวงสุดา ลาวัณย์ประเสริฐ นางสาวไทย คนที่ 34 มีชื่อเล่นว่าอะไร\n",
      "Tokens: สรวง|สุดา|ลาวัณย์|ประเสริฐ|นางสาวไทย|คน|ที่|34|มี|ชื่อเล่น|ว่า|อะไร\n",
      "First 3 Tokens: สรวง|สุดา|ลาวัณย์\n",
      "Last 3 Tokens: ชื่อเล่น|ว่า|อะไร\n",
      "\n",
      "Question: บ้านเกิดของรวงสุดา ลาวัณย์ประเสริฐ หรือ น้ำฝน เป็นนางสาวไทย คนที่ 34 อยู่จังหวัดอะไร\n",
      "Tokens: บ้านเกิด|ของ|รวง|สุดา|ลาวัณย์|ประเสริฐ|หรือ|น้ำฝน|เป็น|นางสาวไทย|คน|ที่|34|อยู่|จังหวัด|อะไร\n",
      "First 3 Tokens: บ้านเกิด|ของ|รวง\n",
      "Last 3 Tokens: อยู่|จังหวัด|อะไร\n",
      "\n",
      "Question: สาวิตรี สามิภักดิ์ นักแสดงและพิธีกรชาวไทย มีชื่อจริงว่าอะไร\n",
      "Tokens: สาวิตรี|สามิภักดิ์|นักแสดง|และ|พิธีกร|ชาวไทย|มี|ชื่อจริง|ว่า|อะไร\n",
      "First 3 Tokens: สาวิตรี|สามิภักดิ์|นักแสดง\n",
      "Last 3 Tokens: ชื่อจริง|ว่า|อะไร\n",
      "\n",
      "Question: ลูกชายของสกาวใจ พูนสวัสดิ์ มีชื่อว่าอะไร\n",
      "Tokens: ลูกชาย|ของ|สกาว|ใจ|พูน|สวัสดิ์|มี|ชื่อว่า|อะไร\n",
      "First 3 Tokens: ลูกชาย|ของ|สกาว\n",
      "Last 3 Tokens: มี|ชื่อว่า|อะไร\n",
      "\n",
      "Question: ศกุนตลา เทียนไพโรจน์ หรือ ดีเจต้นหอม เกิดที่จังหวัดอะไร\n",
      "Tokens: ศกุนตลา|เทียน|ไพโรจน์|หรือ|ดีเจ|ต้น|หอม|เกิด|ที่|จังหวัด|อะไร\n",
      "First 3 Tokens: ศกุนตลา|เทียน|ไพโรจน์\n",
      "Last 3 Tokens: ที่|จังหวัด|อะไร\n",
      "\n",
      "Question: น้องสาวต่างบิดาของนักแสดงสาวศรีริต้า เจนเซ่น คือใคร\n",
      "Tokens: น้องสาว|ต่าง|บิดา|ของ|นักแสดง|สาว|ศรีริต้า|เจน|เซ่น|คือ|ใคร\n",
      "First 3 Tokens: น้องสาว|ต่าง|บิดา\n",
      "Last 3 Tokens: เซ่น|คือ|ใคร\n",
      "\n"
     ]
    }
   ],
   "source": [
    "c = Counter()\n",
    "for qa in dataset[1000:1025]:\n",
    "    question = qa[\"question\"]\n",
    "    print(\"Question:\", question)\n",
    "    toks = word_tokenize(question, keep_whitespace=False)\n",
    "    print(\"Tokens:\", \"|\".join(toks))\n",
    "    print(\"First 3 Tokens:\", \"|\".join(toks[:3]))\n",
    "    print(\"Last 3 Tokens:\", \"|\".join(toks[-3:]))\n",
    "    print(\"\")"
   ]
  },
  {
   "cell_type": "markdown",
   "metadata": {},
   "source": [
    "### 2. Sentence Vectorization\n",
    "Use Sentence Vectorizer to represent a sentence as a 300 dimensional vector"
   ]
  },
  {
   "cell_type": "code",
   "execution_count": 6,
   "metadata": {},
   "outputs": [
    {
     "name": "stdout",
     "output_type": "stream",
     "text": [
      "Requirement already satisfied: gensim in /Users/saiko/opt/anaconda3/lib/python3.7/site-packages (3.8.1)\n",
      "Requirement already satisfied: smart-open>=1.8.1 in /Users/saiko/opt/anaconda3/lib/python3.7/site-packages (from gensim) (1.8.4)\n",
      "Requirement already satisfied: six>=1.5.0 in /Users/saiko/opt/anaconda3/lib/python3.7/site-packages (from gensim) (1.12.0)\n",
      "Requirement already satisfied: scipy>=0.18.1 in /Users/saiko/opt/anaconda3/lib/python3.7/site-packages (from gensim) (1.3.1)\n",
      "Requirement already satisfied: numpy>=1.11.3 in /Users/saiko/opt/anaconda3/lib/python3.7/site-packages (from gensim) (1.17.2)\n",
      "Requirement already satisfied: requests in /Users/saiko/opt/anaconda3/lib/python3.7/site-packages (from smart-open>=1.8.1->gensim) (2.22.0)\n",
      "Requirement already satisfied: boto3 in /Users/saiko/opt/anaconda3/lib/python3.7/site-packages (from smart-open>=1.8.1->gensim) (1.10.7)\n",
      "Requirement already satisfied: boto>=2.32 in /Users/saiko/opt/anaconda3/lib/python3.7/site-packages (from smart-open>=1.8.1->gensim) (2.49.0)\n",
      "Requirement already satisfied: certifi>=2017.4.17 in /Users/saiko/opt/anaconda3/lib/python3.7/site-packages (from requests->smart-open>=1.8.1->gensim) (2019.9.11)\n",
      "Requirement already satisfied: chardet<3.1.0,>=3.0.2 in /Users/saiko/opt/anaconda3/lib/python3.7/site-packages (from requests->smart-open>=1.8.1->gensim) (3.0.4)\n",
      "Requirement already satisfied: urllib3!=1.25.0,!=1.25.1,<1.26,>=1.21.1 in /Users/saiko/opt/anaconda3/lib/python3.7/site-packages (from requests->smart-open>=1.8.1->gensim) (1.24.2)\n",
      "Requirement already satisfied: idna<2.9,>=2.5 in /Users/saiko/opt/anaconda3/lib/python3.7/site-packages (from requests->smart-open>=1.8.1->gensim) (2.8)\n",
      "Requirement already satisfied: botocore<1.14.0,>=1.13.7 in /Users/saiko/opt/anaconda3/lib/python3.7/site-packages (from boto3->smart-open>=1.8.1->gensim) (1.13.7)\n",
      "Requirement already satisfied: s3transfer<0.3.0,>=0.2.0 in /Users/saiko/opt/anaconda3/lib/python3.7/site-packages (from boto3->smart-open>=1.8.1->gensim) (0.2.1)\n",
      "Requirement already satisfied: jmespath<1.0.0,>=0.7.1 in /Users/saiko/opt/anaconda3/lib/python3.7/site-packages (from boto3->smart-open>=1.8.1->gensim) (0.9.4)\n",
      "Requirement already satisfied: docutils<0.16,>=0.10 in /Users/saiko/opt/anaconda3/lib/python3.7/site-packages (from botocore<1.14.0,>=1.13.7->boto3->smart-open>=1.8.1->gensim) (0.15.2)\n",
      "Requirement already satisfied: python-dateutil<3.0.0,>=2.1; python_version >= \"2.7\" in /Users/saiko/opt/anaconda3/lib/python3.7/site-packages (from botocore<1.14.0,>=1.13.7->boto3->smart-open>=1.8.1->gensim) (2.8.0)\n"
     ]
    }
   ],
   "source": [
    "!pip install gensim"
   ]
  },
  {
   "cell_type": "code",
   "execution_count": 7,
   "metadata": {},
   "outputs": [],
   "source": [
    "from sklearn.metrics.pairwise import cosine_similarity\n",
    "\n",
    "from pythainlp.word_vector import similarity, sentence_vectorizer"
   ]
  },
  {
   "cell_type": "code",
   "execution_count": null,
   "metadata": {},
   "outputs": [],
   "source": []
  },
  {
   "cell_type": "markdown",
   "metadata": {},
   "source": [
    "#### 2.1 Calculate Cosine similarility"
   ]
  },
  {
   "cell_type": "markdown",
   "metadata": {},
   "source": [
    "\n",
    "![title](images/cosine_sim.png)\n",
    "image from https://cmry.github.io/notes/euclidean-v-cosine"
   ]
  },
  {
   "cell_type": "code",
   "execution_count": 8,
   "metadata": {},
   "outputs": [],
   "source": [
    "def caluculate_consine_similarity(sentence_a, sentence_b):\n",
    "    vec1, vec2 = sentence_vectorizer(sentence_a),sentence_vectorizer(sentence_b)\n",
    "    return cosine_similarity(vec1, vec2)[0][0]"
   ]
  },
  {
   "cell_type": "code",
   "execution_count": 9,
   "metadata": {},
   "outputs": [
    {
     "data": {
      "text/plain": [
       "0.836088698739909"
      ]
     },
     "execution_count": 9,
     "metadata": {},
     "output_type": "execute_result"
    }
   ],
   "source": [
    "caluculate_consine_similarity(\"ทานอาหาร\", \"กินข้าว\")"
   ]
  },
  {
   "cell_type": "code",
   "execution_count": 10,
   "metadata": {},
   "outputs": [
    {
     "data": {
      "text/plain": [
       "0.7311166186804937"
      ]
     },
     "execution_count": 10,
     "metadata": {},
     "output_type": "execute_result"
    }
   ],
   "source": [
    "caluculate_consine_similarity(\"กระทรวงโฆษณาแถลงข่าวและโฆษณาชวนเชื่อของนาซีเยอรมนี ก่อตั้งขึ้นในปี ค.ศ. ใด\",\n",
    "                              \"กระทรวงดิจิทัลเพื่อเศรษฐกิจและสังคม ในประเทศไทย ก่อตั้งในปี พ.ศ. ใด\")"
   ]
  },
  {
   "cell_type": "code",
   "execution_count": 11,
   "metadata": {},
   "outputs": [
    {
     "data": {
      "text/plain": [
       "0.44678680188394576"
      ]
     },
     "execution_count": 11,
     "metadata": {},
     "output_type": "execute_result"
    }
   ],
   "source": [
    "caluculate_consine_similarity(\"กระทรวงโฆษณาแถลงข่าวและโฆษณาชวนเชื่อของนาซีเยอรมนี ก่อตั้งขึ้นในปี ค.ศ. ใด\",\n",
    "                              \"สุนัขตัวแรกรับบทเป็นเบนจี้ในภาพยนตร์เรื่อง Benji มีชื่อว่าอะไร\")"
   ]
  },
  {
   "cell_type": "markdown",
   "metadata": {},
   "source": [
    "#### __Try out:__ Add you own sentences or words."
   ]
  },
  {
   "cell_type": "code",
   "execution_count": 12,
   "metadata": {},
   "outputs": [
    {
     "data": {
      "text/plain": [
       "0.709938775067541"
      ]
     },
     "execution_count": 12,
     "metadata": {},
     "output_type": "execute_result"
    }
   ],
   "source": [
    "caluculate_consine_similarity(\"สุนัข\", \"แมว\")"
   ]
  },
  {
   "cell_type": "code",
   "execution_count": 13,
   "metadata": {},
   "outputs": [
    {
     "data": {
      "text/plain": [
       "0.032584644862714035"
      ]
     },
     "execution_count": 13,
     "metadata": {},
     "output_type": "execute_result"
    }
   ],
   "source": [
    "caluculate_consine_similarity(\"สุนัข\", \"นาฬิกาทราย\")"
   ]
  },
  {
   "cell_type": "markdown",
   "metadata": {},
   "source": [
    "caluculate_consine_similarity(\"สุนัข\", \"แมว\")"
   ]
  },
  {
   "cell_type": "markdown",
   "metadata": {},
   "source": [
    "#### 2.2 Vectorize all questions in the dataset"
   ]
  },
  {
   "cell_type": "code",
   "execution_count": 14,
   "metadata": {},
   "outputs": [],
   "source": [
    "question_feat = np.array([ sentence_vectorizer(qa[\"question\"]) for qa in dataset ])"
   ]
  },
  {
   "cell_type": "code",
   "execution_count": 15,
   "metadata": {},
   "outputs": [
    {
     "data": {
      "text/plain": [
       "(4000, 300)"
      ]
     },
     "execution_count": 15,
     "metadata": {},
     "output_type": "execute_result"
    }
   ],
   "source": [
    "question_feat = question_feat.reshape(len(dataset), -1)\n",
    "question_feat.shape"
   ]
  },
  {
   "cell_type": "markdown",
   "metadata": {},
   "source": [
    "__Save as .tsv file__"
   ]
  },
  {
   "cell_type": "code",
   "execution_count": 16,
   "metadata": {},
   "outputs": [],
   "source": [
    "import io\n",
    "\n",
    "out_v = io.open('./qa/vector.tsv', 'w', encoding='utf-8')\n",
    "out_m = io.open('./qa/meta.tsv', 'w', encoding='utf-8')\n",
    "\n",
    "for index, qa in enumerate(dataset):\n",
    "    question = qa[\"question\"]\n",
    "    vector = question_feat[index]\n",
    "    out_m.write(question + \"\\n\")\n",
    "    out_v.write('\\t'.join([str(x) for x in vector]) + \"\\n\")\n",
    "out_v.close()\n",
    "out_m.close()"
   ]
  },
  {
   "cell_type": "code",
   "execution_count": null,
   "metadata": {},
   "outputs": [],
   "source": []
  },
  {
   "cell_type": "markdown",
   "metadata": {},
   "source": [
    "## 3. Visualize sentence embeddings\n"
   ]
  },
  {
   "cell_type": "markdown",
   "metadata": {},
   "source": [
    "\n",
    "#### __1. Go to: http://projector.tensorflow.org/__\n",
    "\n"
   ]
  },
  {
   "cell_type": "markdown",
   "metadata": {},
   "source": [
    "\n",
    "\n",
    "#### __2. Click \"Load\" button on the left panel__\n",
    "\n",
    "![title2](images/projector_left_panel.png)\n",
    "\n"
   ]
  },
  {
   "cell_type": "markdown",
   "metadata": {},
   "source": [
    "\n",
    "#### __3. Then, Upload `vector.tsv`, and `meta.tsv`__\n",
    "\n",
    "![title3](images/projector_load_data.png)\n",
    "\n"
   ]
  },
  {
   "cell_type": "markdown",
   "metadata": {},
   "source": [
    "\n",
    "#### __4. Select T-SNE, the screen will show the embedding vector for each sentence in 3D space.__\n",
    "\n",
    "![title1](images/projector_main.png)\n"
   ]
  },
  {
   "cell_type": "markdown",
   "metadata": {},
   "source": [
    "## 4. Text Clustering with K-Mean Clustering\n"
   ]
  },
  {
   "cell_type": "code",
   "execution_count": 17,
   "metadata": {},
   "outputs": [],
   "source": [
    "from sklearn.cluster import k_means"
   ]
  },
  {
   "cell_type": "code",
   "execution_count": 18,
   "metadata": {},
   "outputs": [],
   "source": [
    "N_CLUSTERS = 7"
   ]
  },
  {
   "cell_type": "code",
   "execution_count": 19,
   "metadata": {},
   "outputs": [],
   "source": [
    "question_texts = []\n",
    "for qa in dataset:\n",
    "    tokens = word_tokenize(qa[\"question\"], keep_whitespace=False)\n",
    "    question_text = ''.join(tokens)\n",
    "    question_texts.append(question_text)"
   ]
  },
  {
   "cell_type": "code",
   "execution_count": 20,
   "metadata": {},
   "outputs": [
    {
     "data": {
      "text/plain": [
       "'สุนัขตัวแรกรับบทเป็นเบนจี้ในภาพยนตร์เรื่องBenjiที่ออกฉายในปีพ.ศ.2517มีชื่อว่าอะไร'"
      ]
     },
     "execution_count": 20,
     "metadata": {},
     "output_type": "execute_result"
    }
   ],
   "source": [
    "question_texts[0]"
   ]
  },
  {
   "cell_type": "code",
   "execution_count": 21,
   "metadata": {},
   "outputs": [],
   "source": [
    "question_feats = np.array([ sentence_vectorizer(question_text) for question_text in question_texts])"
   ]
  },
  {
   "cell_type": "code",
   "execution_count": 22,
   "metadata": {},
   "outputs": [
    {
     "data": {
      "text/plain": [
       "(4000, 300)"
      ]
     },
     "execution_count": 22,
     "metadata": {},
     "output_type": "execute_result"
    }
   ],
   "source": [
    "question_feats = question_feats.reshape(len(dataset), -1)\n",
    "question_feats.shape"
   ]
  },
  {
   "cell_type": "code",
   "execution_count": 23,
   "metadata": {},
   "outputs": [],
   "source": [
    "def build_clusters(n_clusters):\n",
    "    centroids, labels, _ = k_means(question_feats, n_clusters=n_clusters)\n",
    "    return centroids, labels\n",
    "\n",
    "def explore_cluster(n_clusters, centroids, labels, n_qas=10):\n",
    "    clusters = { i: [] for i in range(0, N_CLUSTERS, 1) }\n",
    "    for index, label in enumerate(labels):\n",
    "        clusters[label].append( dataset[index][\"question\"])\n",
    "    \n",
    "    for cluster_id, members in clusters.items():\n",
    "\n",
    "        print(\"Cluster ID:\", cluster_id)\n",
    "        print(\"Number of questions in this cluster:\", len(members))\n",
    "        for i, member in enumerate(members[100:100+n_qas]):\n",
    "            print(\"\")\n",
    "            print((i+1), \"\", member)\n",
    "        print(\"\\n\\n\")\n",
    "    "
   ]
  },
  {
   "cell_type": "code",
   "execution_count": 24,
   "metadata": {},
   "outputs": [
    {
     "name": "stdout",
     "output_type": "stream",
     "text": [
      "Cluster ID: 0\n",
      "Number of questions in this cluster: 620\n",
      "\n",
      "1  หลู่ ซฺวิ่น เป็นนามปากกาของนักเขียนชาวจีนที่สำคัญคนหนึ่งของคริสต์ศตวรรษที่ 20 คือใคร\n",
      "\n",
      "2  โจว จางโช่ว เป็นนักเขียนชาวจีนที่สำคัญคนหนึ่งของคริสต์ศตวรรษที่ 20 ใช้นามปากกาว่า หลู่ ซฺวิ่น เริ่มเข้าเรียนที่โรงเรียนอะไร\n",
      "\n",
      "3  องค์บาก 2 เป็นภาพยนตร์ไทยเน้นศิลปะการต่อสู้ ที่นำแสดงโดยใคร\n",
      "\n",
      "4  เศษชิ้นส่วนขนาดเล็กของดาวหางที่ถูกสลัดทิ้งไว้ตามทางโคจรเรียกว่าอะไร\n",
      "\n",
      "5  วากิ้นที่เป็นปลาทองสายพันธุ์หนึ่งมีแหล่งกำเนิดที่ประเทศใด\n",
      "\n",
      "6  กระสวยอวกาศดิสคัฟเวอรีเป็นกระสวยอวกาศลำที่เท่าไรขององค์การนาซา\n",
      "\n",
      "7  ทะเลสาบใดในประเทศบอตสวานาที่ถือว่าเป็นทะเลสาบเกลือที่ใหญ่ที่สุดในโลก\n",
      "\n",
      "8  ผู้ใดที่ถือว่าเป็นชาวยุโรปคนแรกที่เดินทางไปประเทศนามิเบีย\n",
      "\n",
      "9  สามก๊ก ฉบับคนเดินดินที่ใช้นามปากกาว่า เล่า ชวน หัว เป็นผลงานของใคร\n",
      "\n",
      "10  หยกลายเมฆ เป็นนวนิยายที่ประพันธ์โดยใคร\n",
      "\n",
      "\n",
      "\n",
      "Cluster ID: 1\n",
      "Number of questions in this cluster: 315\n",
      "\n",
      "1  หม่อมเจ้าขจรจรัสฤทธิ์ กฤดากร ประสูติเมื่อวันที่เท่าไร\n",
      "\n",
      "2  พระวรวงศ์เธอ พระองค์เจ้าจรูญศักดิ์กฤดากร ประสูติเมื่อวันที่เท่าไร\n",
      "\n",
      "3  สมเด็จกรมพระนโรดม รณฤทธิ์ ประสูติเมื่อวันที่เท่าไร\n",
      "\n",
      "4  พรชิตา ณ สงขลา เกิดเมื่อวันที่เท่าไร\n",
      "\n",
      "5  พระวรวงศ์เธอ พระองค์เจ้านรเศรษฐสุริยลักษณ์ ประสูติเมื่อวันที่เท่าไร\n",
      "\n",
      "6  หม่อมยิ่ง หรือ พระองค์เจ้ายิ่งเยาวลักษณ์ อรรคราชสุดา สิ้นพระชนม์เมื่อวันที่เท่าไร\n",
      "\n",
      "7  เจสัน ยัง นักร้อง นักแสดงชาวไทย เกิดวันที่เท่าไร\n",
      "\n",
      "8  พระวรวงศ์เธอ พระองค์เจ้าดรุณวัยวัฒน์ สิ้นพระชนม์เมื่อวันที่เท่าไร\n",
      "\n",
      "9  ปีเตอร์ คอร์ป ไดเรนดัล เกิดเมื่อวันที่เท่าไร\n",
      "\n",
      "10  นายดนุพร ปุณณกันต์ มีชื่อเล่นว่า บรู๊ค เกิดเมื่อวันที่เท่าไร\n",
      "\n",
      "\n",
      "\n",
      "Cluster ID: 2\n",
      "Number of questions in this cluster: 445\n",
      "\n",
      "1  มหาวิทยาลัยในไทยชื่อว่ามหาวิทยาลัยสงขลานครินทร์ ตั้งอยู่ในจังหวัดใด\n",
      "\n",
      "2  สนามแข่งขันกีฬาอเมริกันฟุตบอล Hubert H. Humphrey Metrodome ตั้งอยู่ในรัฐใดของประเทศสหรัฐอเมริกา\n",
      "\n",
      "3  มหาบุรุษจางจวีเจิ้ง เป็นละครโทรทัศน์ของประเทศใด\n",
      "\n",
      "4  หอคอยเจิ้งหยวนตั้งอยู่ในมณฑลใดของประเทศจีน\n",
      "\n",
      "5  แคว้นมาร์เค เป็นแคว้นในประเทศอะไร\n",
      "\n",
      "6  กระทรวงโฆษณาแถลงข่าวและโฆษณาชวนเชื่อเป็นหน่วยงานของใคร\n",
      "\n",
      "7  ถิ่นกำเนิดของมะม่วงอยู่ที่ประเทศอะไร\n",
      "\n",
      "8  ทางทิศตะวันออกของอำเภอหล่มเก่าติดกับอำเภออะไรในจังหวัดเลย\n",
      "\n",
      "9  เมืองบูดาเปสต์ เป็นเมืองหลวงของประเทศอะไร\n",
      "\n",
      "10  เมืองลับแล หรืออำเภอลับแล เป็นอำเภอหนึ่งในจังหวัดอะไร\n",
      "\n",
      "\n",
      "\n",
      "Cluster ID: 3\n",
      "Number of questions in this cluster: 415\n",
      "\n",
      "1  ตลอดชีวิตการทำงานของทอมัส อไควนัสได้รับอิทธิพลจากแนวความคิดของใคร\n",
      "\n",
      "2  คุณสมบัติของไฮโดรเจนโลหะคืออะไร\n",
      "\n",
      "3  หูดข้าวสุก คือโรคที่เกิดจากเชื้อไวรัสชนิดใด\n",
      "\n",
      "4  ผลงานที่ทำให้อีเลน เพจ นักร้องชาวชาวอังกฤษ เป็นที่รู้จักคืออะไร\n",
      "\n",
      "5  ผลงานการเป็นพิธีกรครั้งแรกของอนุวัต เฟื่องทองแดงคือรายการอะไร\n",
      "\n",
      "6  สาวในวงการบันเทิงที่พงศกร มหาเปารยะ เคยคบหาด้วยคือใคร\n",
      "\n",
      "7  ผลงานชิ้นแรกในวงการบังเทิงของณภัทร เสียงสมบุญคืออะไร\n",
      "\n",
      "8  การต่อสู้ในสังเวียนครั้งแรกของริกะ อิชิเกาะโดยมีคู่ต่อสู้คือใคร\n",
      "\n",
      "9  แม่ของ ใหม่ เจริญปุระ คือใคร\n",
      "\n",
      "10  พ่อของไก่ วรายุฑ มิลินทจินดา คือใคร\n",
      "\n",
      "\n",
      "\n",
      "Cluster ID: 4\n",
      "Number of questions in this cluster: 430\n",
      "\n",
      "1  สมชาย เพศประเสริฐได้รับแต่งตั้งเป็นรองหัวหน้าพรรคเพื่อไทยเมื่อเดือนอะไรในปีพ.ศ. 2553\n",
      "\n",
      "2  ในปี 1985 อีเลน เพจ นักร้องชาวอังกฤษได้ออกซิงเกิลที่มีชื่อว่าอะไร\n",
      "\n",
      "3  ประเทศอะไรเป็นผู้บรรจุกีฬายูโดในการแข่งขันโอลิมปิกฤดูร้อน ปี1964\n",
      "\n",
      "4  แรงเทียน เป็นภาพยนตร์ไทย ออกฉายในปี พ.ศ.2531 กำกับโดยใคร\n",
      "\n",
      "5  ภาพยนตร์เรื่อง แรงเทียน ในปีพ.ศ. 2536 นักแสดงคนไหนรับบทเป็นเทียนศรี\n",
      "\n",
      "6  ศุภชัย พานิชภักดิ์ ได้เข้าสู่เส้นทางการเมืองครั้งแรกเมื่อปีใด\n",
      "\n",
      "7  เมื่อ พ.ศ. 2437 กรมศิลปากรได้ทำการซ่อมมณฑปบนภูเขาบริเวณวัดพระพุทธฉาย จังหวัดสระบุรี ได้ค้นพบอะไร\n",
      "\n",
      "8  ในปี พ.ศ. 2200 ใครเป็นผู้นำภาษาซองคาเข้ามาเผยแพร่ในภูฏาน\n",
      "\n",
      "9  ในปี พ.ศ. 2537 ข้อหาที่ วินัย ละอองสุวรรณ ถูกฟ้องและถูกตั้งอธิกรณ์คืออะไร\n",
      "\n",
      "10  อโพคาลิปส์ นาวเป็นภาพยนตร์สงครามที่ออกฉายในปี พ.ศ. 2522 ใครเป็นผู้กำกับ\n",
      "\n",
      "\n",
      "\n",
      "Cluster ID: 5\n",
      "Number of questions in this cluster: 470\n",
      "\n",
      "1  เขมรัชต์ สุนทรนนท์ นักจัดรายการวิทยุทางคลื่น 94 อีเอฟเอ็ม มีชื่อเล่นว่าอะไร\n",
      "\n",
      "2  ปฐมสิทธิ์ เกษตรพัฒนา มีชื่อจริงว่าอะไร\n",
      "\n",
      "3  ดวงจันทร์ สุวรรณี มีชื่อเล่นว่าอะไร\n",
      "\n",
      "4  สุขสันต์ วิเวกเมธากร เขียนหนังสือเรื่องสามก๊กฉบับคนเดินดิน โดยใช้นามปากกาว่าอะไร\n",
      "\n",
      "5  มนัสวีร์ กฤตตานุกูล นักแสดงชาวไทยมีชื่อเล่นว่าอะไร\n",
      "\n",
      "6  หม่อมราชวงศ์กิติวัฒนา ปกมนตรี มีสกุลเดิมเรียกว่าอะไร\n",
      "\n",
      "7  พระยาคำตัน เจ้าผู้ครองนครอะไร\n",
      "\n",
      "8  หม่อมงามจิตต์ บุรฉัตร ณ อยุธยา มีนามเดิมเรียกว่าอะไร\n",
      "\n",
      "9  เซเลีย โฮวาร์ด ชื่อเล่นภาษาสเปนเรียกว่าอะไร\n",
      "\n",
      "10  หม่อมทิพวัน กฤดากร ณ อยุธยา มีนามเดิมว่าอะไร\n",
      "\n",
      "\n",
      "\n",
      "Cluster ID: 6\n",
      "Number of questions in this cluster: 1305\n",
      "\n",
      "1  บ้านเกิดของอรุโณทัย วรรณถาวร หรือใช้นามปากกาว่า มายาโรส อยู่ที่ไหน\n",
      "\n",
      "2  โซฟี มังก์ นักร้องชาวออสเตรเลีย เกิดที่ประเทศอะไร\n",
      "\n",
      "3  อัลบั้มเดี่ยวครั้งแรกของโซฟี มังก์ ในเดือน พฤษภาคม 2003 มีชื่อว่าอะไร\n",
      "\n",
      "4  ชินโนะซุเกะ ฮนดะ นักฟุตบอลชาวญี่ปุ่น เกิดที่เมืองอะไร\n",
      "\n",
      "5  หลวงพ่อเงิน พุทธโชติ อดีตเจ้าอาวาสวัดบางคลาน จังหวัดพิจิตร สิริอายุกี่ปี\n",
      "\n",
      "6  บอลทิมอร์ เป็นเมืองที่ใหญ่ที่สุดในรัฐแมริแลนด์ประเทศอะไร\n",
      "\n",
      "7  พรรคทาโย เป็นพรรคการเมืองในประเทศอะไร\n",
      "\n",
      "8  ประธานพรรคการเมืองทาโยของโซมาเลีย มีชื่อว่าอะไร\n",
      "\n",
      "9  พระครูพิศาลธรรมโกศลหรือสุพจน์ กญจนิโก พระวัดประยุรวงศาวาส มีนามปากกาว่าอะไร\n",
      "\n",
      "10  พระครูพิศาลธรรมโกศลหรือสุพจน์ กญจนิโก พระวัดประยุรวงศาวาสมรณภาพด้วยโรคอะไร\n",
      "\n",
      "\n",
      "\n"
     ]
    }
   ],
   "source": [
    "centroids, labels = build_clusters(7)\n",
    "explore_cluster(7, centroids, labels, 10)"
   ]
  },
  {
   "cell_type": "markdown",
   "metadata": {},
   "source": [
    "#### __Try out:__ Cluster with the different number of clusters (N_CLUSTERS) and see the result."
   ]
  },
  {
   "cell_type": "code",
   "execution_count": 25,
   "metadata": {},
   "outputs": [],
   "source": [
    "# Change the number of clusters\n",
    "N_CLUSTERS = 4"
   ]
  },
  {
   "cell_type": "code",
   "execution_count": 26,
   "metadata": {},
   "outputs": [
    {
     "name": "stdout",
     "output_type": "stream",
     "text": [
      "Cluster ID: 0\n",
      "Number of questions in this cluster: 539\n",
      "\n",
      "1  บิดาของหม่อมหลวงชโยทิต กฤดากร คือใคร\n",
      "\n",
      "2  หม่อมราชวงศ์กุลปราโมทย์ จิรประวัติ ราชสกุลเดิมคืออะไร\n",
      "\n",
      "3  พระวรวงศ์เธอ พระองค์เจ้าชิดเชื้อพงศ์ หรือพระนามเดิมคืออะไร\n",
      "\n",
      "4  ผู้แปลนวนิยายเรื่องสาวทรงเสน่ห์คือใคร\n",
      "\n",
      "5  หม่อมเจ้าองค์สุดท้ายแห่งราชสกุลจิตรพงศ์คือผู้ใด\n",
      "\n",
      "6  หม่อมเจียม คชเสนี เป็นธิดาของใคร\n",
      "\n",
      "7  นางประเทือง เทวกุล ณ อยุธยา ใช้สกุลเดิมคืออะไร\n",
      "\n",
      "8  สถาปนิกชาวอังกฤษที่สร้างวังจักรพงษ์ คือใคร\n",
      "\n",
      "9  พิธีกรของรายการพินิจนครคือใคร\n",
      "\n",
      "10  สิ่งที่ทำให้เต่าแตกต่างจากสัตว์เลื้อยคลานชนิดอื่นๆคืออะไร\n",
      "\n",
      "\n",
      "\n",
      "Cluster ID: 1\n",
      "Number of questions in this cluster: 1507\n",
      "\n",
      "1  แกรี่ เลวิน เกิดที่เมืองอะไรในประเทศอังกฤษ\n",
      "\n",
      "2  แกรี่ เลวิน จบปริญญาตรี ในสาขาอะไร\n",
      "\n",
      "3  เครื่องบินขับไล่ ดัซโซลท์ มิราจ เอฟ1 ของตระกูลมิราจ ได้ประจำกองทัพฝรั่งเศสในปีใด\n",
      "\n",
      "4  อัทธนียา เอี่ยมวสันต์ เล่นละครเรื่อง ตะวันทอแสง ที่ออกอากาศทางช่อง 7 รับบทเป็นใคร\n",
      "\n",
      "5  บ้านตุ๊กตาได้รับรางวัลอาคารอนุรักษ์ดีเด่น จากสมาคมสถาปนิกสยาม เมื่อปีใด\n",
      "\n",
      "6  การชกชิงแชมป์แห่งสยาม หวัง อาหะหมัดได้รับเลือกให้ชกกับ ศุข สมบูรณ์ โดยสมัยนั้น นายกสนามคือใคร\n",
      "\n",
      "7  หวัง อาหะหมัด ได้ชกมวยแพ้ให้กับใคร เพราะเสียเปรียบเรื่องอายุมากกว่าและตัวเล็กกว่า\n",
      "\n",
      "8  สตีเฟน แพทริก เดวิด เกตลีเป็นนักร้องชาวไอร์แลนด์ แต่งงานกับใคร\n",
      "\n",
      "9  สตีเฟน แพทริก เดวิด เกตลีเป็นนักร้องชาวไอร์แลนด์ นักเขียนและนักแสดง เสียชีวิตที่ประเทศอะไร\n",
      "\n",
      "10  ในปี 2560 ปกเกล้า อนันต์ เล่นในตำแหน่งกองกลาง ให้กับสโมสรใด\n",
      "\n",
      "\n",
      "\n",
      "Cluster ID: 2\n",
      "Number of questions in this cluster: 1246\n",
      "\n",
      "1  ไซปรัสได้รับเอกราชจากการเป็นอาณานิคมของสหราชอาณาจักร ในปีใด\n",
      "\n",
      "2  บ้านเกิดของทัตพงศ์ พงศทัต อยู่ที่จังหวัดอะไร\n",
      "\n",
      "3  โกต-ดาร์มอร์ เป็นจังหวัดที่ตั้งอยู่ในแคว้นใดของประเทศฝรั่งเศ\n",
      "\n",
      "4  แซ็ง-บรีเยอเป็นเมืองหลวงของจังหวัดอะไรในประเทศฝรั่งเศส\n",
      "\n",
      "5  อำเภอสามร้อยยอด จังหวัดประจวบคีรีขันธ์แบ่งเขตการปกครองส่วนภูมิภาคออกเป็น 5 ตำบล กี่หมู่บ้าน\n",
      "\n",
      "6  บ้านเกิดของเทียมบุญ อินทรบุตร อยู่ที่จังหวัดใด\n",
      "\n",
      "7  การีม ม็อสตาฟา แบนเซมาเป็นนักฟุตบอลชาวฝรั่งเศส เกิดที่เมืองอะไรในประเทศฝรั่งเศส\n",
      "\n",
      "8  อาดานา เป็นเมืองทางตอนใต้ของประเทศอะไร\n",
      "\n",
      "9  ระหว่าง ค.ศ. 1832-1840 อาดานาเป็นเมืองทางตอนใต้ของประเทศตุรกีตกอยู่ภายใต้การปกครองของประเทศอะไร\n",
      "\n",
      "10  แจ๊ค เดลานีย์เป็นนักมวยสากลอดีตแชมป์โลกชาวแคนาดา เสียชีวิตที่เมืองใดในประเทศสหรัฐอเมริกา\n",
      "\n",
      "\n",
      "\n",
      "Cluster ID: 3\n",
      "Number of questions in this cluster: 708\n",
      "\n",
      "1  วิสันต์ ไกรเกรียงยุค มีชื่อจริงว่าอะไร\n",
      "\n",
      "2  พระโอรสของเจ้าชายวิคตอริโอ เอ็มมานูเอล เจ้าชายแห่งเนเปิลส์ มีพระนามว่าอะไร\n",
      "\n",
      "3  เจ้าหญิงคลอทิลด์ เจ้าหญิงแห่งเวนิซ มีพระนามเดิมว่าอะไร\n",
      "\n",
      "4  พระราชบิดาของพระเจ้าบรมวงศ์เธอ พระองค์เจ้าอภัยทัต กรมหลวงเทพพลภักดิ์ มีพระนามว่าอะไร\n",
      "\n",
      "5  พี่น้องร่วมบิดามารดาของพระเจ้าบรมวงศ์เธอ พระองค์เจ้าอภัยทัต กรมหลวงเทพพลภักดิ์ มีพระนามว่าอะไร\n",
      "\n",
      "6  ภรรยาของสวัสดิ์ จำปาศรี มีนามสกุลเดิมว่าอะไร\n",
      "\n",
      "7  พระราชบิดาของเจ้าพระยานครศรีธรรมราช หรือ น้อย ณ นคร มีพระนามว่าอะไร\n",
      "\n",
      "8  ลูกชายของ ฟุจิวะระ โนะ ทาคาชิ เคอิ มีชื่อว่าอะไร\n",
      "\n",
      "9  พ่อของฟุจิวะระ โนะ อาคิสุเนะ มีชื่อว่าอะไร\n",
      "\n",
      "10  เมืองหลวงของประเทศเซเนกัลมีชื่อว่าอะไร\n",
      "\n",
      "\n",
      "\n"
     ]
    }
   ],
   "source": [
    "\n",
    "centroids, labels = build_clusters(N_CLUSTERS)\n",
    "explore_cluster(N_CLUSTERS, centroids, labels, 10)"
   ]
  },
  {
   "cell_type": "code",
   "execution_count": null,
   "metadata": {},
   "outputs": [],
   "source": []
  }
 ],
 "metadata": {
  "kernelspec": {
   "display_name": "Python 3",
   "language": "python",
   "name": "python3"
  },
  "language_info": {
   "codemirror_mode": {
    "name": "ipython",
    "version": 3
   },
   "file_extension": ".py",
   "mimetype": "text/x-python",
   "name": "python",
   "nbconvert_exporter": "python",
   "pygments_lexer": "ipython3",
   "version": "3.7.4"
  }
 },
 "nbformat": 4,
 "nbformat_minor": 4
}
