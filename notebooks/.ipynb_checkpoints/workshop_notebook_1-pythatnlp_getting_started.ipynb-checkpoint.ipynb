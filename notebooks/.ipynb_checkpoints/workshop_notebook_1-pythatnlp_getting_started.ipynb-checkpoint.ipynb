{
 "cells": [
  {
   "cell_type": "code",
   "execution_count": null,
   "metadata": {},
   "outputs": [],
   "source": [
    "!pip install -q --user --upgrade --pre pythainlp "
   ]
  },
  {
   "cell_type": "markdown",
   "metadata": {},
   "source": [
    "# Workshop Notebook 1: Getting started with PyThaiNLP 😆\n",
    "\n",
    "\n",
    "Updated: 31 October 2019"
   ]
  },
  {
   "cell_type": "markdown",
   "metadata": {},
   "source": [
    "## Header\n"
   ]
  },
  {
   "cell_type": "code",
   "execution_count": null,
   "metadata": {},
   "outputs": [],
   "source": [
    "from typing import Set, List\n",
    "from functools import reduce\n",
    "import re"
   ]
  },
  {
   "cell_type": "markdown",
   "metadata": {
    "toc-hr-collapsed": false
   },
   "source": [
    "## 1. Word Tokenization\n",
    "\n",
    "Word Tokenization is a process to determin word boundaries in a text or sentence.\n",
    "\n",
    "\n",
    "Given a sentence, the tokenizer then read the sentence and return a list of words (i.e. tokens).\n",
    "\n",
    "```python\n",
    "\n",
    "    definition: Tokenizer(str) -> List[str]\n",
    "    \n",
    "    \n",
    "    \n",
    "    Tokenizer(str:\"เธอคือ My Ambulance ของฉัน\")  -> List[\"เธอ\", \"คือ\", \"My\", \"Ambulance\", \"ของ\", \"ฉัน\"]\n",
    "\n",
    "```\n",
    "\n"
   ]
  },
  {
   "cell_type": "markdown",
   "metadata": {
    "toc-hr-collapsed": false
   },
   "source": [
    "### Dictionary-based tokenizer\n",
    "\n",
    "\n",
    "Dictionary-based tokenizer is an alogirithm the read through the sentence character by character.  If it found sequences of characters match with a vocabulary in the pre-defined dictionary, it maps sequences of characters as a token.\n",
    "https://www.cs.ait.ac.th/~mdailey/papers/Choochart-Wordseg.pdf\n",
    "\n",
    "\n",
    "```python\n",
    "\n",
    "dictionary = Set[\"ฉัน\", \"ชอบ\", \"รถไฟ\", \"รถ\", \"รด\", \"น่ำ\", \"ต้น\", \"ไม้\", \"ต้นไม้\", \" \"]\n",
    "\n",
    "\n",
    "Dictionary_Tokenizer(dictionary:Set[str])\n",
    "\n",
    "```\n",
    "\n",
    "\n"
   ]
  },
  {
   "cell_type": "markdown",
   "metadata": {},
   "source": [
    "#### 1.1 Longest matching (LM)\n",
    "\n",
    "Longest matching is an algorithm to split words from a sentence by considering logest vocab first."
   ]
  },
  {
   "cell_type": "code",
   "execution_count": null,
   "metadata": {},
   "outputs": [],
   "source": [
    "dictionary = set([\"ฉัน\", \"ชอบ\", \"รถไฟ\", \"รถ\", \"รด\", \"น่ำ\", \"ต้น\", \"ไม้\", \"ต้นไม้\", \" \", \"ฟ้า\"])\n",
    "\n",
    "def search_longest(term, dictionary):\n",
    "    term_length = len(term)\n",
    "    max_length = 0\n",
    "    for vocab in dictionary:\n",
    "        if term in vocab:\n",
    "            max_length = max(max_length, len(vocab))\n",
    "\n",
    "    return max_length == term_length\n",
    "\n",
    "def Dictionary_Tokenizer_LM_debug(sentence:str, dictionary: Set[str]):\n",
    "    buffer = \"\"\n",
    "    tokens = []\n",
    "    for char in sentence:\n",
    "        buffer += char\n",
    "        print(\"buffer\", buffer)\n",
    "        if search_longest(buffer, dictionary) == True:\n",
    "            print(\"select this token: {}\".format(buffer))\n",
    "            tokens.append(buffer)\n",
    "            buffer = \"\"\n",
    "            print(\"clear the buffer.\")\n",
    "            print(\"\")\n",
    "    return tokens\n",
    "\n",
    "def Dictionary_Tokenizer_LM(sentence:str, dictionary: Set[str]):\n",
    "    buffer = \"\"\n",
    "    tokens = []\n",
    "    for char in sentence:\n",
    "        buffer += char\n",
    "        if search_longest(buffer, dictionary) == True:\n",
    "            tokens.append(buffer)\n",
    "            buffer = \"\"\n",
    "    return tokens"
   ]
  },
  {
   "cell_type": "code",
   "execution_count": null,
   "metadata": {},
   "outputs": [],
   "source": [
    "Dictionary_Tokenizer_LM_debug(\"ฉันชอบ รถไฟฟ้า\", dictionary)"
   ]
  },
  {
   "cell_type": "markdown",
   "metadata": {},
   "source": [
    "#### __Question 1:__ Create your own dictionary to tokenize the following sentences that can tokenize all the words."
   ]
  },
  {
   "cell_type": "code",
   "execution_count": null,
   "metadata": {},
   "outputs": [],
   "source": [
    "test_sentences = [\n",
    "    \"กระทรวงคมนาคมและการสื่อสารกาตาร์ จัดงาน Qatar Information Technology Exhibition and Conference (QITCOM 2019)\",\n",
    "    \"ณ กรุงโดฮา รัฐกาตาร์\",\n",
    "]"
   ]
  },
  {
   "cell_type": "code",
   "execution_count": null,
   "metadata": {},
   "outputs": [],
   "source": [
    "# Fill the vocabulary to dictionary_lm\n",
    "\n",
    "dictionary_lm = set([\n",
    "    \" \",\n",
    "    \"Qatar\",\n",
    "    \"Information\",\n",
    "    \"กระทรวงคมนาคมและการสื่อสาร\",\n",
    "    # add more vocab\n",
    "])"
   ]
  },
  {
   "cell_type": "markdown",
   "metadata": {},
   "source": [
    "__Test:__"
   ]
  },
  {
   "cell_type": "code",
   "execution_count": null,
   "metadata": {},
   "outputs": [],
   "source": [
    "def test_Dictionary_Tokenizer_LM(dictionary_lm):\n",
    "    \n",
    "    tokens_list = [ Dictionary_Tokenizer_LM(sentence, dictionary_lm) for sentence in test_sentences]\n",
    "    character_count_expect = sum([len(sentence) for sentence in test_sentences])\n",
    "    character_count_actual = 0\n",
    "    for tokens in tokens_list:\n",
    "        character_count_actual += sum(map(lambda token : len(token),tokens))\n",
    "\n",
    "    if(character_count_actual == character_count_expect):\n",
    "        print(\"✅ Test succeed. 😁\")\n",
    "        \n",
    "        print(\"\\n tokens_list: \", tokens_list)\n",
    "    else:\n",
    "        print(\"Test failed. 😭\\n\")\n",
    "        \n",
    "        print(\"test_sentences\", test_sentences)\n",
    "        print(\"tokens_list\", tokens_list)\n",
    "        \n",
    "        print('')\n",
    "        print(\"character_count_actual != character_count_expect\")\n",
    "        print(\"{} != {}\".format(character_count_actual, character_count_expect))"
   ]
  },
  {
   "cell_type": "code",
   "execution_count": null,
   "metadata": {},
   "outputs": [],
   "source": [
    "# Run this block to test the code\n",
    "test_Dictionary_Tokenizer_LM(dictionary_lm)"
   ]
  },
  {
   "cell_type": "markdown",
   "metadata": {},
   "source": [
    "__Solution:__"
   ]
  },
  {
   "cell_type": "code",
   "execution_count": null,
   "metadata": {},
   "outputs": [],
   "source": [
    "dictionary_lm = set([\n",
    "    \"Qatar\",\n",
    "    \"Information\",\n",
    "    \"กระทรวงคมนาคมและการสื่อสาร\",\n",
    "    \"กาตาร์\",\n",
    "    \"ณ\",\n",
    "    \"กรุงโดฮา\",\n",
    "    \"รัฐ\",\n",
    "    \" \",\n",
    "    \"จัดงาน\",\n",
    "    \"(\",\n",
    "    \")\",\n",
    "    \"QITCOM\", \"2019\",\n",
    "    \"Qatar\",\n",
    "    \"Information\",\n",
    "    \"Technology\",\n",
    "    \"Exhibition\",\n",
    "    \"and\",\n",
    "    \"Conference\"\n",
    "])"
   ]
  },
  {
   "cell_type": "code",
   "execution_count": null,
   "metadata": {},
   "outputs": [],
   "source": [
    "test_Dictionary_Tokenizer_LM(dictionary_lm)"
   ]
  },
  {
   "cell_type": "markdown",
   "metadata": {},
   "source": [
    "#### 1.2 Maximal matching (MM)\n",
    "\n",
    "\n",
    "Unlike Longest Matching, Maximal matching is an algorithm to split words from a sentence in which it prefers minumum number of tokens to be splited.\n",
    "\n",
    "\n",
    "```python\n",
    "\n",
    "dictionary = set([\"รถ\", \"รถไฟ\", \"ฟ้า\", \"ไฟฟ้า\", \"ใต้ดิน\"])\n",
    "\n",
    "\n",
    "sentence = \"รถไฟฟ้าใต้ดิน\"\n",
    "\n",
    "Possible_segments(sentence) ->\n",
    "[\"รถไฟ\", \"ฟ้า\", \"ใต้ดิน\"]\n",
    "[\"รถ\", \"ไฟฟ้า\", \"ใต้ดิน\"]\n",
    "[\"รถไฟฟ้า\", \"ใต้ดิน\"]\n",
    "\n",
    "\n",
    "selected_segment = [\"รถไฟฟ้า\", \"ใต้ดิน\"]\n",
    "\n",
    "```\n"
   ]
  },
  {
   "cell_type": "markdown",
   "metadata": {},
   "source": [
    "#### PyThaiNLP's Tokenizer (newmm)"
   ]
  },
  {
   "cell_type": "code",
   "execution_count": null,
   "metadata": {},
   "outputs": [],
   "source": [
    "from pythainlp.tokenize import word_tokenize"
   ]
  },
  {
   "cell_type": "code",
   "execution_count": null,
   "metadata": {},
   "outputs": [],
   "source": [
    "test_sentence = \"กระทรวงคมนาคมและการสื่อสารกาตาร์ จัดงาน Qatar Information Technology Exhibition and Conference (QITCOM 2019)\"\n"
   ]
  },
  {
   "cell_type": "code",
   "execution_count": null,
   "metadata": {},
   "outputs": [],
   "source": [
    "tokens = word_tokenize(test_sentence, engine=\"newmm\")\n",
    "print(tokens)"
   ]
  },
  {
   "cell_type": "markdown",
   "metadata": {},
   "source": [
    "__Try out:__\n",
    "\n",
    "2.1 Try adding your own sentence.\n",
    "\n"
   ]
  },
  {
   "cell_type": "code",
   "execution_count": null,
   "metadata": {},
   "outputs": [],
   "source": [
    "# Example sentence\n",
    "print(word_tokenize(\"ฉันอยุ๋ที่ สถาบันบัณฑิตพัฒนบริหารศาสตร์\", engine=\"newmm\"))"
   ]
  },
  {
   "cell_type": "code",
   "execution_count": null,
   "metadata": {},
   "outputs": [],
   "source": [
    "# Enter you own setnence\n",
    "print(word_tokenize(\"....\", engine=\"newmm\"))"
   ]
  },
  {
   "cell_type": "markdown",
   "metadata": {},
   "source": [
    "2.2 Try adding your own sentence with misspelling.\n"
   ]
  },
  {
   "cell_type": "code",
   "execution_count": null,
   "metadata": {},
   "outputs": [],
   "source": [
    "# Example sentence with misspelling words\n",
    "print(word_tokenize(\"ฉันอยุ๋ที่ สถาบันบัณฑิตพัฒนบยริหารศาสตร์\", engine=\"newmm\"))"
   ]
  },
  {
   "cell_type": "code",
   "execution_count": null,
   "metadata": {},
   "outputs": [],
   "source": [
    "# Enter you own setnence\n",
    "print(word_tokenize(\"....\", engine=\"newmm\"))"
   ]
  },
  {
   "cell_type": "markdown",
   "metadata": {},
   "source": [
    "#### __Question 2:__ Add your own custom dictionary for `newmm` tokenizer to tokenize the into the following tokens:\n",
    "\n",
    "```\n",
    "\n",
    "\"วันที่ 22 ต.ค. เอเอฟพีรายงานว่า สมเด็จพระจักรพรรดินารุฮิโตะ ทรงเข้าพระราชพิธีบรมราชาภิเษก เป็นสมเด็จพระจักรพรรดิแห่งญี่ปุ่นโดยสมบูรณ์แล้ววันนี้ ที่พระราชวังหลวงในกรุงโตเกียว\",\n",
    "\n",
    "```\n",
    "\n",
    "Result with the default dictionary:\n",
    "\n",
    "```\n",
    "['วันที่', ' ', '22', ' ', 'ต.ค.', ' ', 'เอเอฟพี', 'รายงาน', 'ว่า', ' ', 'สมเด็จ', 'พระ', 'จักรพรรดิ', 'นา', 'รุ', 'ฮิ', 'โตะ', ' ', 'ทรง', 'เข้า', 'พระราชพิธี', 'บรมราชาภิเษก', ' ', 'เป็น', 'สมเด็จ', 'พระ', 'จักรพรรดิ', 'แห่ง', 'ญี่ปุ่น', 'โดย', 'สมบูรณ์', 'แล้ว', 'วันนี้', ' ', 'ที่', 'พระราชวัง', 'หลวง', 'ใน', 'กรุง', 'โตเกียว']\n",
    "```\n",
    "\n",
    "Expectation:\n",
    "```\n",
    "['วันที่', ' ', '22', ' ', 'ต.ค.', ' ', 'เอเอฟพี', 'รายงาน', 'ว่า', ' ', 'สมเด็จพระจักรพรรดิ', 'นารุฮิโตะ', ' ', 'ทรง', 'เข้า', 'พระราชพิธี', 'บรมราชาภิเษก', ' ', 'เป็น', 'สมเด็จพระจักรพรรดิ', 'แห่ง', 'ญี่ปุ่น', 'โดย', 'สมบูรณ์', 'แล้ว', 'วันนี้', ' ', 'ที่', 'พระราชวัง', 'หลวง', 'ใน', 'กรุงโตเกียว']\n",
    "```"
   ]
  },
  {
   "cell_type": "code",
   "execution_count": null,
   "metadata": {},
   "outputs": [],
   "source": [
    "from pythainlp.tokenize.trie import Trie\n",
    "from pythainlp.corpus import thai_words"
   ]
  },
  {
   "cell_type": "code",
   "execution_count": null,
   "metadata": {},
   "outputs": [],
   "source": [
    "text_from_news = \"\"\"วันที่ 22 ต.ค. เอเอฟพีรายงานว่า สมเด็จพระจักรพรรดินารุฮิโตะ ทรงเข้าพระราชพิธีบรมราชาภิเษก เป็นสมเด็จพระจักรพรรดิแห่งญี่ปุ่นโดยสมบูรณ์แล้ววันนี้ ที่พระราชวังหลวงในกรุงโตเกียว\"\"\""
   ]
  },
  {
   "cell_type": "code",
   "execution_count": null,
   "metadata": {},
   "outputs": [],
   "source": [
    "# Add vocab in this list\n",
    "custom_vocab = [\n",
    "    \n",
    "    \n",
    "]\n"
   ]
  },
  {
   "cell_type": "markdown",
   "metadata": {},
   "source": [
    "__Test:__"
   ]
  },
  {
   "cell_type": "code",
   "execution_count": null,
   "metadata": {},
   "outputs": [],
   "source": [
    "def test_tokenize_japan_news(custom_vocab):\n",
    "    expect = ['วันที่', ' ', '22', ' ', 'ต.ค.', ' ', 'เอเอฟพี', 'รายงาน', 'ว่า', ' ',\n",
    "              'สมเด็จพระจักรพรรดิ', 'นารุฮิโตะ', ' ', 'ทรง', 'เข้า', 'พระราชพิธี', 'บรมราชาภิเษก',\n",
    "              ' ', 'เป็น', 'สมเด็จพระจักรพรรดิ', 'แห่ง', 'ญี่ปุ่น', 'โดย', 'สมบูรณ์', 'แล้ว', 'วันนี้',\n",
    "              ' ', 'ที่', 'พระราชวัง', 'หลวง', 'ใน', 'กรุงโตเกียว']\n",
    "    \n",
    "    custom_dict_trie = Trie( list(thai_words()) + custom_vocab)\n",
    "\n",
    "    actual = word_tokenize(text_from_news, custom_dict=custom_dict_trie, engine=\"newmm\")\n",
    "    \n",
    "    \n",
    "   \n",
    "    if actual == expect:\n",
    "        print(\"✅ Test succeed. 😁\")\n",
    "    else:\n",
    "        print(\"❌ Test failed. 😭\")\n",
    "        print(\"\\nYour result    :\\n\\n\", \"|\".join(actual))\n",
    "        print(\"\\nExtected result:\\n\\n\", \"|\".join(expect))"
   ]
  },
  {
   "cell_type": "code",
   "execution_count": null,
   "metadata": {},
   "outputs": [],
   "source": [
    "test_tokenize_japan_news(custom_vocab)"
   ]
  },
  {
   "cell_type": "markdown",
   "metadata": {},
   "source": [
    "__Solution:__"
   ]
  },
  {
   "cell_type": "code",
   "execution_count": null,
   "metadata": {},
   "outputs": [],
   "source": [
    "# Add vocab\n",
    "custom_vocab = [\n",
    "    \"สมเด็จพระจักรพรรดิ\",\n",
    "    \"กรุงโตเกียว\",\n",
    "    \"นารุฮิโตะ\"\n",
    "]\n",
    "\n",
    "test_tokenize_japan_news(custom_vocab)"
   ]
  },
  {
   "cell_type": "markdown",
   "metadata": {
    "toc-hr-collapsed": false
   },
   "source": [
    "### Learning-based tokenizer\n"
   ]
  },
  {
   "cell_type": "markdown",
   "metadata": {},
   "source": [
    "Tokenizer is a Machine Learning model and train on supervised daataset (labeled dataset).\n",
    "\n",
    "\n",
    "For example, one tokenizer of PyThaiNLP (`attacut`) uses Convolutional-neural Network to read the whole text and then determind word boundaries.\n",
    "\n",
    "![attacut](images/attacut.png)"
   ]
  },
  {
   "cell_type": "markdown",
   "metadata": {},
   "source": [
    "#### attacut"
   ]
  },
  {
   "cell_type": "code",
   "execution_count": null,
   "metadata": {},
   "outputs": [],
   "source": [
    "test_sentence = \"กระทรวงคมนาคมและการสื่อสารกาตาร์ จัดงาน Qatar Information Technology Exhibition and Conference (QITCOM 2019)\"\n",
    "\n",
    "tokens = word_tokenize(test_sentence, engine=\"attacut\")\n",
    "print(tokens)"
   ]
  },
  {
   "cell_type": "code",
   "execution_count": null,
   "metadata": {},
   "outputs": [],
   "source": []
  },
  {
   "cell_type": "code",
   "execution_count": null,
   "metadata": {},
   "outputs": [],
   "source": [
    "test_sentence = \"ฉันอยุ๋ที่ สถาบันบัณฑิตพัฒนบริหารศาสตร์\"\n",
    "\n",
    "tokens = word_tokenize(test_sentence, engine=\"attacut\")\n",
    "print(tokens)"
   ]
  },
  {
   "cell_type": "markdown",
   "metadata": {},
   "source": [
    "__Try out:__ Try adding your own sentence.\n",
    "\n"
   ]
  },
  {
   "cell_type": "code",
   "execution_count": null,
   "metadata": {},
   "outputs": [],
   "source": [
    "# Enter you own setnence\n",
    "print(word_tokenize(\"....\", engine=\"attacut\"))\n",
    "\n"
   ]
  },
  {
   "cell_type": "markdown",
   "metadata": {
    "toc-hr-collapsed": false
   },
   "source": [
    "## 2. Part of speech and Named Entity Recognition Tagging\n"
   ]
  },
  {
   "cell_type": "code",
   "execution_count": null,
   "metadata": {},
   "outputs": [],
   "source": [
    "from pythainlp.tag.named_entity import ThaiNameTagger\n",
    "\n",
    "tagger = ThaiNameTagger()\n"
   ]
  },
  {
   "cell_type": "code",
   "execution_count": null,
   "metadata": {},
   "outputs": [],
   "source": []
  },
  {
   "cell_type": "markdown",
   "metadata": {},
   "source": [
    "#### Named Entitiy Regcognition (NER) Tags:\n",
    "\n",
    "|       Tags       |      Examples                       |\n",
    "|------------------|-------------------------------------|\n",
    "        DATE       |   1 ตุลาคม 2012                      |\n",
    "        EMAIL      |   hr@mycompany.com                  |    \n",
    "        LAW        |  พรบ.คุ้มครองผู้บริโภค                   |\n",
    "        LEN        |       80 กิโลเมตร                    |     \n",
    "      LOCATION     |  กรุงเทพ, ประเทศจีน, เอเวอเรสต์        | \n",
    "        MONEY      |   2,190 ล้านบาท                      |\n",
    "    ORGANIZATION   |  คณะอักษรศาสตร์ จุฬาลงกรณ์มหาวิทยาลัย     |\n",
    "       PERCENT     |   95.34%, 10เปอร์เซนต์                |\n",
    "       PERSON      |   อรรถพล ธำรงรัตนฤทธิ์                 |\n",
    "        PHONE      |   +6611-123-1123                    |\n",
    "         TIME      |      14:20 น, เวลาเที่ยงตรง           |\n",
    "          URL      |     mycompany.com                   |\n",
    "         ZIP       |     รหัสไปรณีย์ 21210                  |"
   ]
  },
  {
   "cell_type": "code",
   "execution_count": null,
   "metadata": {},
   "outputs": [],
   "source": [
    "sentence = \"วันนี้ได้ไปงานเปิดบ้าน ที่มหาวิทยาลัยธรรมศาสตร์\""
   ]
  },
  {
   "cell_type": "code",
   "execution_count": null,
   "metadata": {},
   "outputs": [],
   "source": [
    "tagger.get_ner(sentence, pos=False)"
   ]
  },
  {
   "cell_type": "code",
   "execution_count": null,
   "metadata": {},
   "outputs": [],
   "source": [
    "tagger.get_ner(sentence, pos=True)"
   ]
  },
  {
   "cell_type": "markdown",
   "metadata": {},
   "source": [
    "#### __Question 3:__ From the following setentences how many types of named-entity appear in the sentence\n",
    "\n",
    "\n",
    "```text\n",
    "เมื่อวันที่ ๓๑ ตุลาคม ๒๕๖๒ เวลา 13:00 น. ตามเวลาประเทศไทย\n",
    "```\n",
    "\n",
    "\n",
    "\n"
   ]
  },
  {
   "cell_type": "code",
   "execution_count": null,
   "metadata": {},
   "outputs": [],
   "source": [
    "tagger.get_ner(\"เมื่อวันที่ ๓๑ ตุลาคม ๒๕๖๒ เวลา 13:00 น. ตามเวลาประเทศไทย\", pos=False)"
   ]
  },
  {
   "cell_type": "code",
   "execution_count": null,
   "metadata": {},
   "outputs": [],
   "source": []
  },
  {
   "cell_type": "markdown",
   "metadata": {},
   "source": [
    "#### __Question 4:__ From the following setentences how many types of named-entity appear in the sentence\n",
    "\n",
    "Reference: https://www.khaosod.co.th/around-the-world-news/news_2993136\n",
    "\n",
    "```text\n",
    "วันที่ 22 ต.ค. เอเอฟพีรายงานว่า สมเด็จพระจักรพรรดินารุฮิโตะ ทรงเข้าพระราชพิธีบรมราชาภิเษก\n",
    "เป็นสมเด็จพระจักรพรรดิแห่งญี่ปุ่นโดยสมบูรณ์แล้ววันนี้ ที่พระราชวังหลวงในกรุงโตเกียว\n",
    "```\n",
    "\n",
    "\n",
    "\n"
   ]
  },
  {
   "cell_type": "code",
   "execution_count": null,
   "metadata": {},
   "outputs": [],
   "source": []
  },
  {
   "cell_type": "code",
   "execution_count": null,
   "metadata": {},
   "outputs": [],
   "source": [
    "# Try out\n",
    "tagger.get_ner(\"วันที่ 22 ต.ค. เอเอฟพีรายงานว่า สมเด็จพระจักรพรรดินารุฮิโตะ ทรงเข้าพระราชพิธีบรมราชาภิเษก เป็นสมเด็จพระจักรพรรดิแห่งญี่ปุ่นโดยสมบูรณ์แล้ววันนี้ ที่พระราชวังหลวงในกรุงโตเกียว\", pos=False)"
   ]
  },
  {
   "cell_type": "markdown",
   "metadata": {},
   "source": [
    "#### __Question 5:__ From the following setentences how many types of named-entity appear in the sentence\n",
    "\n",
    "Reference: [link](http://www.arts.chula.ac.th/ling/blog/tag/%E0%B8%AD%E0%B8%A3%E0%B8%A3%E0%B8%96%E0%B8%9E%E0%B8%A5-%E0%B8%98%E0%B8%B3%E0%B8%A3%E0%B8%87%E0%B8%A3%E0%B8%B1%E0%B8%95%E0%B8%99%E0%B8%A4%E0%B8%97%E0%B8%98%E0%B8%B4%E0%B9%8C/)\n",
    "\n",
    "```text\n",
    "คณะอักษรศาสตร์ จุฬาลงกรณ์มหาวิทยาลัย ขอเชิญชวนผู้สนใจเข้าร่วมฟังบรรยายพิเศษ\n",
    "เรื่อง “การวิเคราะห์ความสัมพันธ์ภายในปริจเฉทแบบอัตโนมัติด้วยการจำแนกคำเชื่อม”\n",
    "โดย ดร.อรรถพล ธำรงรัตนฤทธิ์\n",
    "\n",
    "วันศุกร์ที่ 17 พฤศจิกายน 2560 เวลา 13.30-14.30 น.\n",
    "เป็นต้นไป ณ ห้อง 401/5 อาคารมหาจักรีสิรินธร คณะอักษรศาสตร์ จุฬาลงกรณ์มหาวิทยาลัย\n",
    "\n",
    "สอบถามรายละเอียดเพิ่มเติมได้ที่ 0-2218-4692\n",
    "```\n",
    "\n",
    "\n",
    "\n"
   ]
  },
  {
   "cell_type": "code",
   "execution_count": null,
   "metadata": {},
   "outputs": [],
   "source": [
    "text = \"\"\"คณะอักษรศาสตร์ จุฬาลงกรณ์มหาวิทยาลัย\n",
    "ขอเชิญชวนผู้สนใจเข้าร่วมฟังบรรยายพิเศษ \n",
    "เรื่อง “การวิเคราะห์ความสัมพันธ์ภายในปริจเฉทแบบอัตโนมัติด้วยการจำแนกคำเชื่อม”\n",
    "โดย ดร.อรรถพล ธำรงรัตนฤทธิ์\n",
    "วันศุกร์ที่ 17 พฤศจิกายน 2560 เวลา 13.30-14.30 น. เป็นต้นไป ณ ห้อง 401/5 อาคารมหาจักรีสิรินธร คณะอักษรศาสตร์ จุฬาลงกรณ์มหาวิทยาลัย\n",
    "สอบถามรายละเอียดเพิ่มเติมได้ที่ 0-2218-4692\n",
    "\"\"\"\n",
    "\n",
    "tagger.get_ner(text, pos=False)"
   ]
  },
  {
   "cell_type": "code",
   "execution_count": null,
   "metadata": {},
   "outputs": [],
   "source": []
  },
  {
   "cell_type": "code",
   "execution_count": null,
   "metadata": {},
   "outputs": [],
   "source": []
  },
  {
   "cell_type": "markdown",
   "metadata": {},
   "source": [
    "#### Part of Speech (POS) Tags:\n",
    "\n",
    "\n",
    "Reference: [PUD Tags](https://universaldependencies.org/u/pos/all.html)"
   ]
  },
  {
   "cell_type": "markdown",
   "metadata": {},
   "source": [
    "\n",
    "\n",
    "\n",
    "|  Abbreviation |      Part-of-Speech tag    |            Examples             |       \n",
    "|---------------|----------------------------|---------------------------------|\n",
    "| ADJ           |  Adjective                 |    ใหม่, พิเศษ , ก่อน, มาก, สูง     |   \n",
    "| ADP           |  Adposition                |   แม้, ว่า, เมื่อ, ของ, สำหรับ       |   \n",
    "| ADV           |  Adverb                    |   ก่อน, ก็, เล็กน้อย, เลย, สุด       |   \n",
    "| AUX           |  Auxiliary                 |   เป็น, ใช่, คือ, คล้าย             |   \n",
    "| CCONJ         |  Coordinating conjunction  |   แต่, และ, หรือ                  |        \n",
    "| DET           |  Determiner                |   นี้, นั้น, ทั้ง, เพียง, (หนึ่ง)คน      |   \n",
    "| INTJ          |  Interjection              |   อุ้ย, โอ้ย                       |   \n",
    "| NOUN          |  Noun                      |   กำมือ, พวก, สนาม, กีฬา, บัญชี     |   \n",
    "| NUM           |  Numeral                   |   5,000, 103.7, 2004, หนึ่ง, ร้อย  |   \n",
    "| PART          |  Particle                  |   มา ขึ้น ไม่ ได้ เข้า               |      \n",
    "| PRON          |  Pronoun                   |   เรา, เขา, ตัวเอง, ใคร, เธอ     |   \n",
    "| PROPN         |  Proper noun               |   โอบามา, แคปิตอลฮิล, จีโอพี, ไมเคิล |   \n",
    "| PUNCT         |  Punctuation               |   (, ), \", ', :                 |    \n",
    "| SCONJ         |  Subordinating conjunction |    หาก, เพ่ราะว่า, ถ้า             |   \n",
    "| VERB          |  Verb                      |   เปิด, ให้, ใช้, เผชิญ, อ่าน        |\n"
   ]
  },
  {
   "cell_type": "code",
   "execution_count": null,
   "metadata": {},
   "outputs": [],
   "source": [
    "from pythainlp.tag import pos_tag"
   ]
  },
  {
   "cell_type": "code",
   "execution_count": null,
   "metadata": {},
   "outputs": [],
   "source": [
    "\n",
    "sentence = \"ฉันไปเดินในสวนสาธารณะ\"\n",
    "tokens = word_tokenize(sentence, keep_whitespace=False)\n",
    "pos_tag(tokens, corpus=\"pud\", engine=\"perceptron\")\n"
   ]
  },
  {
   "cell_type": "markdown",
   "metadata": {},
   "source": [
    "\n",
    "```\n",
    "Explaination:\n",
    "\n",
    "PRON = Pronoun \n",
    "\n",
    "VERB = Verb\n",
    "\n",
    "ADP = Adposition\n",
    "\n",
    "NOUN = Noun\n",
    "\n",
    "```"
   ]
  },
  {
   "cell_type": "code",
   "execution_count": null,
   "metadata": {},
   "outputs": [],
   "source": [
    "\n",
    "sentence = \"ฉันไปเดินในสวนสาธารณะ\"\n",
    "tokens = word_tokenize(sentence, keep_whitespace=False)\n",
    "pos_tag(tokens, corpus=\"orchid\", engine=\"perceptron\")\n"
   ]
  },
  {
   "cell_type": "markdown",
   "metadata": {},
   "source": [
    "```\n",
    "Explaination:\n",
    "\n",
    "PPRS = Personal pronoun \n",
    "\n",
    "VACT = Active verb\n",
    "\n",
    "RPRE = Preposition\n",
    "\n",
    "NCMN = Common noun\n",
    "```"
   ]
  },
  {
   "cell_type": "markdown",
   "metadata": {},
   "source": [
    "#### __Question 6:__ From the following setentences what are the POS tags (based on UD)\n",
    "\n",
    "\n",
    "```text\n",
    "หมา และ แมว กำลังกิน อาหาร\n",
    "```\n",
    "\n",
    "\n",
    "Hint: Here is the list of POS tags of this sentence.\n",
    "\n",
    "- NOUN = Noun\n",
    "- CCONJ = Coordinating Conjunction\n",
    "- VERB = Active Verb\n",
    "\n"
   ]
  },
  {
   "cell_type": "code",
   "execution_count": null,
   "metadata": {},
   "outputs": [],
   "source": [
    "# Run this block to see the result\n",
    "\n",
    "sentence = \"หมาและแมวกำลังกินอาหาร\"\n",
    "tokens = word_tokenize(sentence, keep_whitespace=False)\n",
    "pos_tag(tokens, corpus=\"ud\", engine=\"perceptron\")\n"
   ]
  },
  {
   "cell_type": "markdown",
   "metadata": {},
   "source": [
    "#### __Question 7:__ From the following setentences what are the POS tags (based on Orchid)\n",
    "\n",
    "\n",
    "```text\n",
    "หมา และ แมว กำลังกิน อาหาร\n",
    "```\n",
    "\n",
    "Hint: Here is the list of POS tags of this sentence.\n",
    "\n",
    "- NCMN = Common Noun\n",
    "- JCRG = Coordinating Conjunction\n",
    "- VACT = Active Verb"
   ]
  },
  {
   "cell_type": "code",
   "execution_count": null,
   "metadata": {},
   "outputs": [],
   "source": [
    "# Run this block to see the result\n",
    "\n",
    "sentence = \"หมาและแมวกำลังกินอาหาร\"\n",
    "tokens = word_tokenize(sentence, keep_whitespace=False)\n",
    "pos_tag(tokens, corpus=\"orchid\", engine=\"perceptron\")"
   ]
  },
  {
   "cell_type": "markdown",
   "metadata": {},
   "source": [
    "## 3. Spell checking\n",
    "\n",
    "\n"
   ]
  },
  {
   "cell_type": "markdown",
   "metadata": {},
   "source": [
    "### 3.1 PyThaiNLP's spell checker"
   ]
  },
  {
   "cell_type": "code",
   "execution_count": null,
   "metadata": {},
   "outputs": [],
   "source": [
    "from pythainlp.spell import correct"
   ]
  },
  {
   "cell_type": "code",
   "execution_count": null,
   "metadata": {},
   "outputs": [],
   "source": [
    "mispelled_words = [\n",
    "    \"โรงพยาบาน\",\n",
    "    \"สวัสดิ\",\n",
    "    \"ประธาราธิปดี\",\n",
    "    \"สัปปะรด\",\n",
    "    \"สังเกตุ\",\n",
    "    \"เหตการณ์\",\n",
    "    \"อนุญาติ\",\n",
    "    \"ฝักไฝ่\",\n",
    "    \"นายกรัญมนตี\"\n",
    "]"
   ]
  },
  {
   "cell_type": "code",
   "execution_count": null,
   "metadata": {},
   "outputs": [],
   "source": [
    "for word in mispelled_words:\n",
    "    print(\"{} -> {}\".format(word, correct(word)))\n",
    "    print(\"\")"
   ]
  },
  {
   "cell_type": "markdown",
   "metadata": {},
   "source": [
    "__Try out:__ Put any mispelling words and correct them."
   ]
  },
  {
   "cell_type": "code",
   "execution_count": null,
   "metadata": {},
   "outputs": [],
   "source": [
    "correct(\"..\")\n",
    "\n"
   ]
  },
  {
   "cell_type": "markdown",
   "metadata": {},
   "source": [
    "## 4. Utility functions"
   ]
  },
  {
   "cell_type": "markdown",
   "metadata": {},
   "source": [
    "### 4.1 Thai digits and currency Conversion\n"
   ]
  },
  {
   "cell_type": "code",
   "execution_count": null,
   "metadata": {},
   "outputs": [],
   "source": [
    "from pythainlp.util import (\n",
    "    thai_digit_to_arabic_digit,\n",
    "    arabic_digit_to_thai_digit,\n",
    "    bahttext,\n",
    "    digit_to_text,\n",
    "    thaiword_to_num)\n"
   ]
  },
  {
   "cell_type": "code",
   "execution_count": null,
   "metadata": {},
   "outputs": [],
   "source": [
    "thai_digit_to_arabic_digit(\"เมื่อวันที่ ๓๑ ตุลาคม ๒๕๖๒ เวลา ๑๓:๐๐ น. ตามเวลาประเทศไทย\")"
   ]
  },
  {
   "cell_type": "code",
   "execution_count": null,
   "metadata": {},
   "outputs": [],
   "source": [
    "arabic_digit_to_thai_digit(\"เมื่อวันที่ 31 ตุลาคม2562 เวลา 13:00 น. ตามเวลาประเทศไทย\")"
   ]
  },
  {
   "cell_type": "code",
   "execution_count": null,
   "metadata": {},
   "outputs": [],
   "source": [
    "bahttext(1234.24)"
   ]
  },
  {
   "cell_type": "code",
   "execution_count": null,
   "metadata": {},
   "outputs": [],
   "source": [
    "bahttext(21)"
   ]
  },
  {
   "cell_type": "code",
   "execution_count": null,
   "metadata": {},
   "outputs": [],
   "source": [
    "bahttext(240000000000)"
   ]
  },
  {
   "cell_type": "code",
   "execution_count": null,
   "metadata": {},
   "outputs": [],
   "source": [
    "thaiword_to_num(\"หนึ่งร้อย\")"
   ]
  },
  {
   "cell_type": "code",
   "execution_count": null,
   "metadata": {},
   "outputs": [],
   "source": [
    "digit_to_text(\"๓ ร้อยล้าน\")"
   ]
  },
  {
   "cell_type": "code",
   "execution_count": null,
   "metadata": {},
   "outputs": [],
   "source": [
    "digit_to_text(\"๓๑\")"
   ]
  },
  {
   "cell_type": "code",
   "execution_count": null,
   "metadata": {},
   "outputs": [],
   "source": [
    "thaiword_to_num(\"หนึ่งพันหนึ่ง\")"
   ]
  },
  {
   "cell_type": "code",
   "execution_count": null,
   "metadata": {},
   "outputs": [],
   "source": [
    "thaiword_to_num(\"หนึ่งล้านหกสิบเอ็ด\")"
   ]
  },
  {
   "cell_type": "code",
   "execution_count": null,
   "metadata": {},
   "outputs": [],
   "source": [
    "thaiword_to_num(\"พันล้าน\")"
   ]
  },
  {
   "cell_type": "markdown",
   "metadata": {},
   "source": [
    "#### __Question 8 :__ Given a text representing an amont money, convert into number.\n",
    "\n",
    "```\n",
    "เพื่อเพิ่มมูลค่าการค้าซึ่งปัจจุบันมีประมาณ ๑๒,๕๐๐ ล้านดอลลาร์สหรัฐ ให้ทวีขึ้นเป็น ๓ หมื่นล้าน\n",
    "```\n",
    "->\n",
    "```\n",
    "เพื่อเพิ่มมูลค่าการค้าซึ่งปัจจุบันมีประมาณ 12,500 ล้านดอลลาร์สหรัฐ ให้ทวีขึ้นเป็น 3 หมื่นล้าน\n",
    "\n",
    "```\n"
   ]
  },
  {
   "cell_type": "code",
   "execution_count": null,
   "metadata": {},
   "outputs": [],
   "source": [
    "text_with_thai_digits = \"เพื่อเพิ่มมูลค่าการค้าซึ่งปัจจุบันมีประมาณ ๑๒,๕๐๐ ล้านดอลลาร์สหรัฐ ให้ทวีขึ้นเป็น ๓ หมื่นล้าน\""
   ]
  },
  {
   "cell_type": "code",
   "execution_count": null,
   "metadata": {},
   "outputs": [],
   "source": [
    "def convert(text):\n",
    "    splits = text.split(\" \")\n",
    "    \n",
    "    for index, split in enumerate(splits):\n",
    "        \n",
    "        if re.search(r\"[๐-๙]\", split):\n",
    "            print(\"\\nselcted split: \", split)\n",
    "            ## Modify the following line to convert from thai digits to arabic\n",
    "\n",
    "            splits[index] = split\n",
    "            \n",
    "            ##--------------------- ##\n",
    "            print(\"convert to: \", splits[index])\n",
    "    \n",
    "    return \" \".join(splits)\n",
    "    "
   ]
  },
  {
   "cell_type": "code",
   "execution_count": null,
   "metadata": {},
   "outputs": [],
   "source": [
    "convert(text_with_thai_digits)"
   ]
  },
  {
   "cell_type": "markdown",
   "metadata": {},
   "source": [
    "__Test:__ Given a list of sentences, please return only Thai sentences."
   ]
  },
  {
   "cell_type": "code",
   "execution_count": null,
   "metadata": {},
   "outputs": [],
   "source": [
    "def test_convert_thai_digits(convert):\n",
    "    expect = \"เพื่อเพิ่มมูลค่าการค้าซึ่งปัจจุบันมีประมาณ 12,500 ล้านดอลลาร์สหรัฐ ให้ทวีขึ้นเป็น 3 หมื่นล้าน\"\n",
    "    actual = convert(text_with_thai_digits)\n",
    "\n",
    "    if actual == expect:\n",
    "        print(\"✅ Test succeed. 😁\")\n",
    "    else:\n",
    "        print(\"❌ Test failed. 😭\")\n",
    "        print(\"The actual results:\", actual)\n",
    "\n",
    "test_convert_thai_digits(convert)"
   ]
  },
  {
   "cell_type": "markdown",
   "metadata": {},
   "source": [
    "__Solution:__"
   ]
  },
  {
   "cell_type": "code",
   "execution_count": null,
   "metadata": {},
   "outputs": [],
   "source": [
    "def convert(text):\n",
    "    splits = text.split(\" \")\n",
    "    \n",
    "    for index, split in enumerate(splits):\n",
    "        \n",
    "        if re.search(r\"[๐-๙]\", split):\n",
    "            print(\"\\nselcted split: \", split)\n",
    "            ## Write the code to convert\n",
    "\n",
    "            splits[index] = thai_digit_to_arabic_digit(split)\n",
    "            \n",
    "            \n",
    "            print(\"convert to: \", splits[index])\n",
    "\n",
    "    return \" \".join(splits)\n",
    "    "
   ]
  },
  {
   "cell_type": "code",
   "execution_count": null,
   "metadata": {},
   "outputs": [],
   "source": [
    "test_convert_thai_digits(convert)"
   ]
  },
  {
   "cell_type": "code",
   "execution_count": null,
   "metadata": {},
   "outputs": [],
   "source": []
  },
  {
   "cell_type": "markdown",
   "metadata": {},
   "source": [
    "### 4.2 Thai Word count"
   ]
  },
  {
   "cell_type": "code",
   "execution_count": null,
   "metadata": {},
   "outputs": [],
   "source": [
    "from pythainlp.util import countthai\n"
   ]
  },
  {
   "cell_type": "markdown",
   "metadata": {},
   "source": [
    "\n",
    "Count percentage of Thai chacters in a text.\n",
    "\n",
    "```python\n",
    " countthai(text:str) -> percentage:float\n",
    "```\n",
    "\n"
   ]
  },
  {
   "cell_type": "code",
   "execution_count": null,
   "metadata": {},
   "outputs": [],
   "source": [
    "countthai(\"Hello world.\")"
   ]
  },
  {
   "cell_type": "code",
   "execution_count": null,
   "metadata": {},
   "outputs": [],
   "source": [
    "countthai(\"สวัสดี ฉันชอบนั่งรถไฟ\")"
   ]
  },
  {
   "cell_type": "code",
   "execution_count": null,
   "metadata": {},
   "outputs": [],
   "source": [
    "countthai(\"สวัสดี Jane Doe\")"
   ]
  },
  {
   "cell_type": "code",
   "execution_count": null,
   "metadata": {},
   "outputs": [],
   "source": []
  },
  {
   "cell_type": "markdown",
   "metadata": {},
   "source": [
    "#### __Question 9:__ Given a list of sentences, please return only Thai sentences."
   ]
  },
  {
   "cell_type": "code",
   "execution_count": null,
   "metadata": {},
   "outputs": [],
   "source": [
    "en_th_sentences = [\n",
    "    \"มันจะมีอะไรที่ทำให้ ผิดพลาดได้ล่ะ?\",\n",
    "    \"สวัสดี... ...ดิ๊ก\",\n",
    "    \"# Just to get a glimpse beyond this illusion #\",\n",
    "    \"# I was soaring ever higher #\",\n",
    "    \"# but I flew too high #\",\n",
    "    \"    ใช่\",\n",
    "    \"ใช่ เขาและแฟรงค์ และ แคส ถ้าขวดเหล้าเขา อยู่ในกระเป๋า\",\n",
    "    \"มันก็ดีที่เราได้คราวลีย์ มาอยู่ฝั่งเราถูกมั้ย?\",\n",
    "    \"คุณคราวลีย์ เรามีเรื่องต้องคุยกันเยอะเลย\",\n",
    "    \"เชิญนั่ง\",\n",
    "    \"== sync, corrected by elderman ==\",\n",
    "    \"# though my eyes could see, I still was a blind man #\",\n",
    "    \"# though my mind could think, I still was a madman #\",\n",
    "    \"ได้เห็นว่า พวกมันทั้งหมดมาตามล่าเขา\",\n",
    "    \"# I hear the voices when I'm dreaming #\",\n",
    "]"
   ]
  },
  {
   "cell_type": "code",
   "execution_count": null,
   "metadata": {},
   "outputs": [],
   "source": [
    "def test_thai_sentence(sentence):\n",
    "\n",
    "    ## Write down the code, to return value True if the sentence is in Thai language\n",
    "    \n",
    "    \n",
    "    \n",
    "    ##\n",
    "    return False"
   ]
  },
  {
   "cell_type": "markdown",
   "metadata": {},
   "source": [
    "__Test:__"
   ]
  },
  {
   "cell_type": "code",
   "execution_count": null,
   "metadata": {},
   "outputs": [],
   "source": [
    "th_sentences = [\n",
    "    \"มันจะมีอะไรที่ทำให้ ผิดพลาดได้ล่ะ?\",\n",
    "    \"สวัสดี... ...ดิ๊ก\",\n",
    "    \"    ใช่\",\n",
    "    \"ใช่ เขาและแฟรงค์ และ แคส ถ้าขวดเหล้าเขา อยู่ในกระเป๋า\",\n",
    "    \"มันก็ดีที่เราได้คราวลีย์ มาอยู่ฝั่งเราถูกมั้ย?\",\n",
    "    \"คุณคราวลีย์ เรามีเรื่องต้องคุยกันเยอะเลย\",\n",
    "    \"เชิญนั่ง\",\n",
    "    \"ได้เห็นว่า พวกมันทั้งหมดมาตามล่าเขา\",\n",
    "]"
   ]
  },
  {
   "cell_type": "code",
   "execution_count": null,
   "metadata": {},
   "outputs": [],
   "source": [
    "actual = list(filter(test_thai_sentence, en_th_sentences))\n",
    "expect = th_sentences\n",
    "\n",
    "if actual == expect:\n",
    "    print(\"✅ Test succeed. 😁\")\n",
    "else:\n",
    "    print(\"❌ Test failed. 😭\")\n",
    "    print(\"The actual results:\", actual)\n",
    "    print(\"\\nThe expected sentences to be returned:\\n\")\n",
    "    for i, sentence in enumerate(th_sentences):\n",
    "        print(i+1, sentence)"
   ]
  },
  {
   "cell_type": "markdown",
   "metadata": {},
   "source": [
    "__Solution:__"
   ]
  },
  {
   "cell_type": "code",
   "execution_count": null,
   "metadata": {},
   "outputs": [],
   "source": [
    "def test_thai_sentence(sentence):\n",
    "\n",
    "    ## Write down the code, to return value True if the sentence is in Thai language\n",
    "    \n",
    "    if countthai(sentence) == 100.0:\n",
    "        return True\n",
    "    \n",
    "    ##\n",
    "    return False"
   ]
  },
  {
   "cell_type": "code",
   "execution_count": null,
   "metadata": {},
   "outputs": [],
   "source": [
    "actual = list(filter(test_thai_sentence, en_th_sentences))\n",
    "expect = th_sentences\n",
    "\n",
    "if actual == expect:\n",
    "    print(\"✅ Test succeed. 😁\")\n",
    "else:\n",
    "    print(\"❌ Test failed. 😭\")\n",
    "    print(\"The actual results:\", actual)"
   ]
  },
  {
   "cell_type": "markdown",
   "metadata": {},
   "source": [
    "### 4.3 Data and time"
   ]
  },
  {
   "cell_type": "markdown",
   "metadata": {},
   "source": [
    "This function uses Thai names and Thai Buddhist Era for these directives:\n",
    "\n",
    "- __%a__ - abbreviated weekday name (e.g. “จ”, “อ”, “พ”, “พฤ”, “ศ”, “ส”, “อา”)\n",
    "\n",
    "- __%A__ - full weekday name (e.g.“วันจันทร์”, “วันอังคาร”, “วันเสาร์”, “วันอาทิตย์”)\n",
    "\n",
    "- __%b__ - abbreviated month name (e.g.“ม.ค.”,”ก.พ.”,”มี.ค.”,”เม.ย.”,”พ.ค.”,”มิ.ย.”, “ธ.ค.”)\n",
    "\n",
    "- __%B__ - full month name (e.g. “มกราคม”, “กุมภาพันธ์”, “พฤศจิกายน”, “ธันวาคม”,)\n",
    "\n",
    "- __%y__ - year without century (e.g. “56”, “10”)\n",
    "\n",
    "- __%Y__ - year with century (e.g. “2556”, “2410”)\n",
    "\n",
    "- __%c__ - date and time representation (e.g. “พ 6 ต.ค. 01:40:00 2519”)\n",
    "\n",
    "- __%v__ - short date representation (e.g. ” 6-ม.ค.-2562”, “27-ก.พ.-2555”)\n",
    "\n",
    "- __%d__ - day (e.g. \"01\", \"07\", 10\", \"31\")\n",
    "\n",
    "- __%-d__ - day with no zero padding (e.g. \"1\", \"7\",10\", \"31\")\n",
    " \n",
    "- __%H__  - hour (e.g. \"01\", \"06\", \"23\")\n",
    "\n",
    "- __%-H__ - hour with no zero padding (e.g. \"1\", \"6\", \"23\"))\n",
    "\n",
    "- __%M__  - minute (e.g. \"1\", \"2\", \"11\", \"12\")\n",
    "\n",
    "- __%S__  - second (e.g. \"1\", \"2\", \"11\", \"12\")"
   ]
  },
  {
   "cell_type": "code",
   "execution_count": null,
   "metadata": {},
   "outputs": [],
   "source": [
    "from datetime import datetime\n",
    "from pythainlp.util import thai_strftime\n"
   ]
  },
  {
   "cell_type": "code",
   "execution_count": null,
   "metadata": {},
   "outputs": [],
   "source": [
    "# Print the current date in Thai format\n",
    "\n",
    "thai_strftime(datetime.now(), \"%d %B %Y\")"
   ]
  },
  {
   "cell_type": "code",
   "execution_count": null,
   "metadata": {},
   "outputs": [],
   "source": []
  },
  {
   "cell_type": "markdown",
   "metadata": {},
   "source": [
    "#### __Question 10:__ Given a date time object, return the datetime string in the following format\n",
    "\n",
    "\n",
    "```\n",
    "วันศุกร์ ที่ 1 พฤศจิกายน ปี พ.ศ. 2562 เวลา 11 นาฬิกา 30 นาที 10 วินาที\n",
    "```"
   ]
  },
  {
   "cell_type": "code",
   "execution_count": null,
   "metadata": {},
   "outputs": [],
   "source": [
    "datetime_object_workshop_day = datetime(year=2019, month=11, day=1,hour=11,minute=30,second=10)\n",
    "\n",
    "def print_datetime_thai(datetime_object):\n",
    "    # Write down the format string.\n",
    "    fmt = \"\"\n",
    "    return thai_strftime(datetime_object, fmt)"
   ]
  },
  {
   "cell_type": "markdown",
   "metadata": {},
   "source": [
    "__Test:__"
   ]
  },
  {
   "cell_type": "code",
   "execution_count": null,
   "metadata": {},
   "outputs": [],
   "source": [
    "def test_print_datetime_thai(fn):\n",
    "    expect = \"วันศุกร์ ที่ 1 พฤศจิกายน พ.ศ. 2562 เวลา 11 นาฬิกา 30 นาที 10 วินาที\"\n",
    "    actual = fn(datetime_object_workshop_day)\n",
    "\n",
    "    if actual == expect:\n",
    "        print(\"✅ Test succeed. 😁\\n\")\n",
    "        print(\"Your Result:\",expect)\n",
    "    else:\n",
    "        print(\"❌ Test failed. 😭\")\n",
    "        print(\"\\nYour result    :\", actual)\n",
    "        print(\"\\nExpected result:\", expect)\n",
    "\n",
    "test_print_datetime_thai(print_datetime_thai)"
   ]
  },
  {
   "cell_type": "markdown",
   "metadata": {},
   "source": [
    "__Solution:__"
   ]
  },
  {
   "cell_type": "code",
   "execution_count": null,
   "metadata": {},
   "outputs": [],
   "source": [
    "def print_datetime_thai(datetime_object):\n",
    "    # Write down the format string.\n",
    "    fmt = \"%A ที่ %-d %B พ.ศ. %Y เวลา %H นาฬิกา %M นาที %S วินาที\"\n",
    "    return thai_strftime(datetime_object, fmt)\n",
    "\n",
    "test_print_datetime_thai(print_datetime_thai)"
   ]
  }
 ],
 "metadata": {
  "kernelspec": {
   "display_name": "Python 3",
   "language": "python",
   "name": "python3"
  },
  "language_info": {
   "codemirror_mode": {
    "name": "ipython",
    "version": 3
   },
   "file_extension": ".py",
   "mimetype": "text/x-python",
   "name": "python",
   "nbconvert_exporter": "python",
   "pygments_lexer": "ipython3",
   "version": "3.7.4"
  }
 },
 "nbformat": 4,
 "nbformat_minor": 4
}
