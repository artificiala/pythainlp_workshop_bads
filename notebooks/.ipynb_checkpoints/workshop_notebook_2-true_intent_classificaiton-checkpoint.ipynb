{
 "cells": [
  {
   "cell_type": "markdown",
   "metadata": {},
   "source": [
    "# Text Classification on True Voice Intent Dataset with PyThaiNLP\n",
    "\n",
    "\n",
    "\n",
    "\n",
    "\n",
    "True Voice Intent Dataset : https://github.com/PyThaiNLP/truevoice-intent\n",
    "\n",
    "Intent Dataset from Customer Service Phone Calls Transcribed by TrueVoice's Mari.\n"
   ]
  },
  {
   "cell_type": "code",
   "execution_count": 27,
   "metadata": {},
   "outputs": [
    {
     "name": "stdout",
     "output_type": "stream",
     "text": [
      "Collecting pythainlp\n",
      "  Using cached https://files.pythonhosted.org/packages/b7/80/f940b3792aeb42fb1b17d293e71615470dbe596c68674c384a7744d23184/pythainlp-2.1.dev7-py3-none-any.whl\n",
      "Requirement already satisfied, skipping upgrade: dill>=0.3.0 in /Users/saiko/miniconda3/envs/saiko/lib/python3.7/site-packages (from pythainlp) (0.3.1.1)\n",
      "Requirement already satisfied, skipping upgrade: nltk>=3.3 in /Users/saiko/miniconda3/envs/saiko/lib/python3.7/site-packages (from pythainlp) (3.4.5)\n",
      "Requirement already satisfied, skipping upgrade: requests>=2.22.0 in /Users/saiko/miniconda3/envs/saiko/lib/python3.7/site-packages (from pythainlp) (2.22.0)\n",
      "Requirement already satisfied, skipping upgrade: tinydb>=3.0 in /Users/saiko/miniconda3/envs/saiko/lib/python3.7/site-packages (from pythainlp) (3.14.1)\n",
      "Requirement already satisfied, skipping upgrade: tqdm>=4.1 in /Users/saiko/miniconda3/envs/saiko/lib/python3.7/site-packages (from pythainlp) (4.36.1)\n",
      "Requirement already satisfied, skipping upgrade: six in /Users/saiko/miniconda3/envs/saiko/lib/python3.7/site-packages (from nltk>=3.3->pythainlp) (1.12.0)\n",
      "Requirement already satisfied, skipping upgrade: chardet<3.1.0,>=3.0.2 in /Users/saiko/miniconda3/envs/saiko/lib/python3.7/site-packages (from requests>=2.22.0->pythainlp) (3.0.4)\n",
      "Requirement already satisfied, skipping upgrade: urllib3!=1.25.0,!=1.25.1,<1.26,>=1.21.1 in /Users/saiko/miniconda3/envs/saiko/lib/python3.7/site-packages (from requests>=2.22.0->pythainlp) (1.25.6)\n",
      "Requirement already satisfied, skipping upgrade: idna<2.9,>=2.5 in /Users/saiko/miniconda3/envs/saiko/lib/python3.7/site-packages (from requests>=2.22.0->pythainlp) (2.8)\n",
      "Requirement already satisfied, skipping upgrade: certifi>=2017.4.17 in /Users/saiko/miniconda3/envs/saiko/lib/python3.7/site-packages (from requests>=2.22.0->pythainlp) (2019.9.11)\n",
      "Installing collected packages: pythainlp\n",
      "Successfully installed pythainlp-2.1.dev7\n"
     ]
    }
   ],
   "source": [
    "!pip install --upgrade --user --pre pythainlp\n"
   ]
  },
  {
   "cell_type": "code",
   "execution_count": 201,
   "metadata": {},
   "outputs": [],
   "source": [
    "# Import modules\n",
    "import os\n",
    "import re\n",
    "from functools import partial\n",
    "\n",
    "import pandas as pd\n",
    "from sklearn.pipeline import Pipeline\n",
    "from sklearn.feature_extraction.text import TfidfVectorizer, CountVectorizer\n",
    "from sklearn.metrics import classification_report, accuracy_score, confusion_matrix, f1_score, precision_score, recall_score\n",
    "from sklearn.preprocessing import Normalizer\n",
    "\n",
    "from sklearn.svm import LinearSVC\n",
    "from pythainlp.tokenize import word_tokenize\n",
    "from pythainlp.ulmfit import ungroup_emoji"
   ]
  },
  {
   "cell_type": "markdown",
   "metadata": {},
   "source": [
    "## Exploration\n",
    "\n"
   ]
  },
  {
   "cell_type": "markdown",
   "metadata": {},
   "source": [
    "### Load dataset"
   ]
  },
  {
   "cell_type": "code",
   "execution_count": 183,
   "metadata": {},
   "outputs": [
    {
     "data": {
      "text/plain": [
       "{'train': '../data/truevoice_intent/mari_train.csv',\n",
       " 'test': '../data/truevoice_intent/mari_test.csv'}"
      ]
     },
     "execution_count": 183,
     "metadata": {},
     "output_type": "execute_result"
    }
   ],
   "source": [
    "TRUEVOICE_INTENT_DIR = \"../data/truevoice_intent\"\n",
    "\n",
    "truevoice_dataset_path = { \n",
    "    \"train\": os.path.join(TRUEVOICE_INTENT_DIR, \"mari_train.csv\"),\n",
    "    \"test\": os.path.join(TRUEVOICE_INTENT_DIR, \"mari_test.csv\")\n",
    "}\n",
    "truevoice_dataset_path\n"
   ]
  },
  {
   "cell_type": "code",
   "execution_count": 184,
   "metadata": {},
   "outputs": [],
   "source": [
    "truevoice_dataset = {\n",
    "    \"train\": pd.read_csv(truevoice_dataset_path[\"train\"]),\n",
    "    \"test\": pd.read_csv(truevoice_dataset_path[\"test\"])\n",
    "}"
   ]
  },
  {
   "cell_type": "code",
   "execution_count": 185,
   "metadata": {},
   "outputs": [
    {
     "data": {
      "text/html": [
       "<div>\n",
       "<style scoped>\n",
       "    .dataframe tbody tr th:only-of-type {\n",
       "        vertical-align: middle;\n",
       "    }\n",
       "\n",
       "    .dataframe tbody tr th {\n",
       "        vertical-align: top;\n",
       "    }\n",
       "\n",
       "    .dataframe thead th {\n",
       "        text-align: right;\n",
       "    }\n",
       "</style>\n",
       "<table border=\"1\" class=\"dataframe\">\n",
       "  <thead>\n",
       "    <tr style=\"text-align: right;\">\n",
       "      <th></th>\n",
       "      <th>texts</th>\n",
       "      <th>texts_deepcut</th>\n",
       "      <th>action</th>\n",
       "      <th>object</th>\n",
       "      <th>destination</th>\n",
       "    </tr>\n",
       "  </thead>\n",
       "  <tbody>\n",
       "    <tr>\n",
       "      <td>0</td>\n",
       "      <td>ผมไปจ่ายเงินที่ Counter Services เค้าเช็ต . บ...</td>\n",
       "      <td>ผม ไป จ่าย เงิน ที่ Counter Services เค้า เช็...</td>\n",
       "      <td>enquire</td>\n",
       "      <td>payment</td>\n",
       "      <td>billing and payment</td>\n",
       "    </tr>\n",
       "    <tr>\n",
       "      <td>1</td>\n",
       "      <td>internet ยังความเร็วอยุ่เท่าไหร ครับ</td>\n",
       "      <td>internet ยัง ความ เร็ว อยุ่ เท่า ไหร ครับ</td>\n",
       "      <td>enquire</td>\n",
       "      <td>package</td>\n",
       "      <td>promotions</td>\n",
       "    </tr>\n",
       "    <tr>\n",
       "      <td>2</td>\n",
       "      <td>ตะกี้ไปชำระค่าบริการไปแล้ว แต่ยังใช้งานไม่ได้...</td>\n",
       "      <td>ตะกี้ ไป ชำระ ค่า บริการ ไป แล้ว แต่ ยัง ใช้ ...</td>\n",
       "      <td>report</td>\n",
       "      <td>suspend</td>\n",
       "      <td>billing and payment</td>\n",
       "    </tr>\n",
       "    <tr>\n",
       "      <td>3</td>\n",
       "      <td>พี่ค่ะยังใช้ internet ไม่ได้เลยค่ะ เป็นเครื่อ...</td>\n",
       "      <td>พี่ ค่ะ ยัง ใช้ internet ไม่ ได้ เลย ค่ะ เป็น...</td>\n",
       "      <td>enquire</td>\n",
       "      <td>internet</td>\n",
       "      <td>internet</td>\n",
       "    </tr>\n",
       "    <tr>\n",
       "      <td>4</td>\n",
       "      <td>ฮาโหล คะ พอดีว่าเมื่อวานเปิดซิมทรูมูฟ แต่มันโ...</td>\n",
       "      <td>ฮาโหล คะ พอดี ว่า เมื่อ วาน เปิด ซิม ทรูมูฟ แ...</td>\n",
       "      <td>report</td>\n",
       "      <td>phone_issues</td>\n",
       "      <td>billing and payment</td>\n",
       "    </tr>\n",
       "    <tr>\n",
       "      <td>5</td>\n",
       "      <td>* ใช้งานยังไง ขอรายละเอียดการสมัครหน่อย</td>\n",
       "      <td>* ใช้ งาน ยัง ไง ขอ รายละเอียด การ สมัคร หน่อย</td>\n",
       "      <td>enquire</td>\n",
       "      <td>service</td>\n",
       "      <td>other queries</td>\n",
       "    </tr>\n",
       "    <tr>\n",
       "      <td>6</td>\n",
       "      <td>เคยมีช่างมาซ่อมที่บ้าน แล้วโทรศัพท์ใช้งานไม่ไ...</td>\n",
       "      <td>เคย มี ช่าง มา ซ่อม ที่ บ้าน แล้ว โทรศัพท์ ใช...</td>\n",
       "      <td>enquire</td>\n",
       "      <td>nontruemove</td>\n",
       "      <td>other queries</td>\n",
       "    </tr>\n",
       "    <tr>\n",
       "      <td>7</td>\n",
       "      <td>ค้างค่าบริการเท่าไหร่ครับ</td>\n",
       "      <td>ค้าง ค่า บริการ เท่า ไหร่ ครับ</td>\n",
       "      <td>enquire</td>\n",
       "      <td>balance</td>\n",
       "      <td>billing and payment</td>\n",
       "    </tr>\n",
       "    <tr>\n",
       "      <td>8</td>\n",
       "      <td>อินเตอร์เน็ตไฟ Adsl ไม่มีสัญญาณครับ</td>\n",
       "      <td>อินเตอร์เน็ต ไฟ Adsl ไม่ มี สัญญาณ ครับ</td>\n",
       "      <td>enquire</td>\n",
       "      <td>nontruemove</td>\n",
       "      <td>other queries</td>\n",
       "    </tr>\n",
       "    <tr>\n",
       "      <td>9</td>\n",
       "      <td>เค้าบอกจะส่งรหัสเน็ตมาให้ แต่ยังไม่ได้ส่งมาเล...</td>\n",
       "      <td>เค้า บอก จะ ส่ง รหัส เน็ต มา ให้ แต่ ยัง ไม่ ...</td>\n",
       "      <td>enquire</td>\n",
       "      <td>internet</td>\n",
       "      <td>internet</td>\n",
       "    </tr>\n",
       "  </tbody>\n",
       "</table>\n",
       "</div>"
      ],
      "text/plain": [
       "                                               texts  \\\n",
       "0   ผมไปจ่ายเงินที่ Counter Services เค้าเช็ต . บ...   \n",
       "1               internet ยังความเร็วอยุ่เท่าไหร ครับ   \n",
       "2   ตะกี้ไปชำระค่าบริการไปแล้ว แต่ยังใช้งานไม่ได้...   \n",
       "3   พี่ค่ะยังใช้ internet ไม่ได้เลยค่ะ เป็นเครื่อ...   \n",
       "4   ฮาโหล คะ พอดีว่าเมื่อวานเปิดซิมทรูมูฟ แต่มันโ...   \n",
       "5            * ใช้งานยังไง ขอรายละเอียดการสมัครหน่อย   \n",
       "6   เคยมีช่างมาซ่อมที่บ้าน แล้วโทรศัพท์ใช้งานไม่ไ...   \n",
       "7                          ค้างค่าบริการเท่าไหร่ครับ   \n",
       "8                อินเตอร์เน็ตไฟ Adsl ไม่มีสัญญาณครับ   \n",
       "9   เค้าบอกจะส่งรหัสเน็ตมาให้ แต่ยังไม่ได้ส่งมาเล...   \n",
       "\n",
       "                                       texts_deepcut   action        object  \\\n",
       "0   ผม ไป จ่าย เงิน ที่ Counter Services เค้า เช็...  enquire       payment   \n",
       "1          internet ยัง ความ เร็ว อยุ่ เท่า ไหร ครับ  enquire       package   \n",
       "2   ตะกี้ ไป ชำระ ค่า บริการ ไป แล้ว แต่ ยัง ใช้ ...   report       suspend   \n",
       "3   พี่ ค่ะ ยัง ใช้ internet ไม่ ได้ เลย ค่ะ เป็น...  enquire      internet   \n",
       "4   ฮาโหล คะ พอดี ว่า เมื่อ วาน เปิด ซิม ทรูมูฟ แ...   report  phone_issues   \n",
       "5     * ใช้ งาน ยัง ไง ขอ รายละเอียด การ สมัคร หน่อย  enquire       service   \n",
       "6   เคย มี ช่าง มา ซ่อม ที่ บ้าน แล้ว โทรศัพท์ ใช...  enquire   nontruemove   \n",
       "7                     ค้าง ค่า บริการ เท่า ไหร่ ครับ  enquire       balance   \n",
       "8            อินเตอร์เน็ต ไฟ Adsl ไม่ มี สัญญาณ ครับ  enquire   nontruemove   \n",
       "9   เค้า บอก จะ ส่ง รหัส เน็ต มา ให้ แต่ ยัง ไม่ ...  enquire      internet   \n",
       "\n",
       "           destination  \n",
       "0  billing and payment  \n",
       "1           promotions  \n",
       "2  billing and payment  \n",
       "3             internet  \n",
       "4  billing and payment  \n",
       "5        other queries  \n",
       "6        other queries  \n",
       "7  billing and payment  \n",
       "8        other queries  \n",
       "9             internet  "
      ]
     },
     "execution_count": 185,
     "metadata": {},
     "output_type": "execute_result"
    }
   ],
   "source": [
    "truevoice_dataset[\"train\"].head(10)"
   ]
  },
  {
   "cell_type": "code",
   "execution_count": null,
   "metadata": {},
   "outputs": [],
   "source": []
  },
  {
   "cell_type": "code",
   "execution_count": 186,
   "metadata": {},
   "outputs": [
    {
     "data": {
      "text/html": [
       "<div>\n",
       "<style scoped>\n",
       "    .dataframe tbody tr th:only-of-type {\n",
       "        vertical-align: middle;\n",
       "    }\n",
       "\n",
       "    .dataframe tbody tr th {\n",
       "        vertical-align: top;\n",
       "    }\n",
       "\n",
       "    .dataframe thead th {\n",
       "        text-align: right;\n",
       "    }\n",
       "</style>\n",
       "<table border=\"1\" class=\"dataframe\">\n",
       "  <thead>\n",
       "    <tr style=\"text-align: right;\">\n",
       "      <th></th>\n",
       "      <th>texts</th>\n",
       "      <th>texts_deepcut</th>\n",
       "      <th>action</th>\n",
       "      <th>object</th>\n",
       "      <th>destination</th>\n",
       "    </tr>\n",
       "  </thead>\n",
       "  <tbody>\n",
       "    <tr>\n",
       "      <td>count</td>\n",
       "      <td>12939</td>\n",
       "      <td>12939</td>\n",
       "      <td>12939</td>\n",
       "      <td>12939</td>\n",
       "      <td>12939</td>\n",
       "    </tr>\n",
       "    <tr>\n",
       "      <td>unique</td>\n",
       "      <td>11398</td>\n",
       "      <td>11363</td>\n",
       "      <td>8</td>\n",
       "      <td>26</td>\n",
       "      <td>7</td>\n",
       "    </tr>\n",
       "    <tr>\n",
       "      <td>top</td>\n",
       "      <td>สอบถามยอดค้างชำระค่ะ</td>\n",
       "      <td>สอบถาม ยอดค้าง ชำระ ค่ะ</td>\n",
       "      <td>enquire</td>\n",
       "      <td>service</td>\n",
       "      <td>billing and payment</td>\n",
       "    </tr>\n",
       "    <tr>\n",
       "      <td>freq</td>\n",
       "      <td>10</td>\n",
       "      <td>10</td>\n",
       "      <td>8133</td>\n",
       "      <td>2090</td>\n",
       "      <td>5007</td>\n",
       "    </tr>\n",
       "  </tbody>\n",
       "</table>\n",
       "</div>"
      ],
      "text/plain": [
       "                       texts            texts_deepcut   action   object  \\\n",
       "count                  12939                    12939    12939    12939   \n",
       "unique                 11398                    11363        8       26   \n",
       "top     สอบถามยอดค้างชำระค่ะ  สอบถาม ยอดค้าง ชำระ ค่ะ  enquire  service   \n",
       "freq                      10                       10     8133     2090   \n",
       "\n",
       "                destination  \n",
       "count                 12939  \n",
       "unique                    7  \n",
       "top     billing and payment  \n",
       "freq                   5007  "
      ]
     },
     "execution_count": 186,
     "metadata": {},
     "output_type": "execute_result"
    }
   ],
   "source": [
    "truevoice_dataset[\"train\"].describe()"
   ]
  },
  {
   "cell_type": "code",
   "execution_count": 187,
   "metadata": {},
   "outputs": [
    {
     "data": {
      "text/html": [
       "<div>\n",
       "<style scoped>\n",
       "    .dataframe tbody tr th:only-of-type {\n",
       "        vertical-align: middle;\n",
       "    }\n",
       "\n",
       "    .dataframe tbody tr th {\n",
       "        vertical-align: top;\n",
       "    }\n",
       "\n",
       "    .dataframe thead th {\n",
       "        text-align: right;\n",
       "    }\n",
       "</style>\n",
       "<table border=\"1\" class=\"dataframe\">\n",
       "  <thead>\n",
       "    <tr style=\"text-align: right;\">\n",
       "      <th></th>\n",
       "      <th>texts</th>\n",
       "      <th>texts_deepcut</th>\n",
       "      <th>action</th>\n",
       "      <th>object</th>\n",
       "      <th>destination</th>\n",
       "    </tr>\n",
       "  </thead>\n",
       "  <tbody>\n",
       "    <tr>\n",
       "      <td>count</td>\n",
       "      <td>3236</td>\n",
       "      <td>3236</td>\n",
       "      <td>3236</td>\n",
       "      <td>3236</td>\n",
       "      <td>3236</td>\n",
       "    </tr>\n",
       "    <tr>\n",
       "      <td>unique</td>\n",
       "      <td>2003</td>\n",
       "      <td>2003</td>\n",
       "      <td>8</td>\n",
       "      <td>24</td>\n",
       "      <td>7</td>\n",
       "    </tr>\n",
       "    <tr>\n",
       "      <td>top</td>\n",
       "      <td>บริการอื่นๆ</td>\n",
       "      <td>บริการ อื่น ๆ</td>\n",
       "      <td>enquire</td>\n",
       "      <td>internet</td>\n",
       "      <td>billing and payment</td>\n",
       "    </tr>\n",
       "    <tr>\n",
       "      <td>freq</td>\n",
       "      <td>97</td>\n",
       "      <td>97</td>\n",
       "      <td>2351</td>\n",
       "      <td>524</td>\n",
       "      <td>977</td>\n",
       "    </tr>\n",
       "  </tbody>\n",
       "</table>\n",
       "</div>"
      ],
      "text/plain": [
       "              texts  texts_deepcut   action    object          destination\n",
       "count          3236           3236     3236      3236                 3236\n",
       "unique         2003           2003        8        24                    7\n",
       "top     บริการอื่นๆ  บริการ อื่น ๆ  enquire  internet  billing and payment\n",
       "freq             97             97     2351       524                  977"
      ]
     },
     "execution_count": 187,
     "metadata": {},
     "output_type": "execute_result"
    }
   ],
   "source": [
    "truevoice_dataset[\"test\"].describe()"
   ]
  },
  {
   "cell_type": "code",
   "execution_count": null,
   "metadata": {},
   "outputs": [],
   "source": []
  },
  {
   "cell_type": "code",
   "execution_count": 188,
   "metadata": {},
   "outputs": [
    {
     "name": "stdout",
     "output_type": "stream",
     "text": [
      "(12939, 5) (3236, 5)\n"
     ]
    }
   ],
   "source": [
    "# from sklearn.model_selection import train_test_split\n",
    "\n",
    "# # train_df, valid_df = train_test_split(truevoice_dataset[\"train\"], test_size=0.10, random_state=1)\n",
    "\n",
    "# truevoice_dataset[\"train\"] = train_df.reset_index(drop=True)\n",
    "# truevoice_dataset[\"valid\"] = valid_df.reset_index(drop=True)\n",
    "\n",
    "\n",
    "# print(truevoice_dataset[\"train\"].shape, truevoice_dataset[\"valid\"].shape, truevoice_dataset[\"test\"].shape)\n",
    "print(truevoice_dataset[\"train\"].shape,  truevoice_dataset[\"test\"].shape)"
   ]
  },
  {
   "cell_type": "code",
   "execution_count": 189,
   "metadata": {},
   "outputs": [
    {
     "name": "stdout",
     "output_type": "stream",
     "text": [
      "set: train\n",
      "billing and payment      38.696963\n",
      "promotions               24.259989\n",
      "other queries            17.288817\n",
      "internet                 14.390602\n",
      "international dialing     2.596800\n",
      "true money                1.553443\n",
      "lost and stolen           1.213386\n",
      "Name: destination, dtype: float64\n",
      "\n",
      "\n",
      "\n",
      "set: test\n",
      "billing and payment      30.191595\n",
      "internet                 19.004944\n",
      "promotions               18.232386\n",
      "other queries            16.965389\n",
      "international dialing     6.273177\n",
      "lost and stolen           6.056860\n",
      "true money                3.275649\n",
      "Name: destination, dtype: float64\n",
      "\n",
      "\n",
      "\n"
     ]
    }
   ],
   "source": [
    "for set_name in [\"train\", \"test\"]:\n",
    "    print(\"set:\", set_name)\n",
    "    print(truevoice_dataset[set_name]['destination'].value_counts() / truevoice_dataset[set_name].shape[0] * 100)\n",
    "    print(\"\\n\\n\")"
   ]
  },
  {
   "cell_type": "code",
   "execution_count": null,
   "metadata": {},
   "outputs": [],
   "source": []
  },
  {
   "cell_type": "markdown",
   "metadata": {},
   "source": [
    "## Data Preprocessing"
   ]
  },
  {
   "cell_type": "markdown",
   "metadata": {},
   "source": [
    "    "
   ]
  },
  {
   "cell_type": "code",
   "execution_count": 226,
   "metadata": {},
   "outputs": [],
   "source": [
    "def process_text(text):\n",
    "    text = text.lower()\n",
    "    words = word_tokenize(text, keep_whitespace=False)    \n",
    "    return words"
   ]
  },
  {
   "cell_type": "code",
   "execution_count": 227,
   "metadata": {},
   "outputs": [
    {
     "data": {
      "text/plain": [
       "['hello', 'ฉัน']"
      ]
     },
     "execution_count": 227,
     "metadata": {},
     "output_type": "execute_result"
    }
   ],
   "source": [
    "process_text(\"Hello ฉัน\")"
   ]
  },
  {
   "cell_type": "markdown",
   "metadata": {},
   "source": [
    "## Model Training"
   ]
  },
  {
   "cell_type": "code",
   "execution_count": 246,
   "metadata": {},
   "outputs": [],
   "source": [
    "classifier = Pipeline([\n",
    "    ('count_vectorizer', CountVectorizer(tokenizer=process_text,\n",
    "                                         ngram_range=(1,2))),\n",
    "    ('normalizer', Normalizer()),\n",
    "    ('classifier', LinearSVC(max_iter=25000, class_weight=\"balanced\")),\n",
    "])\n"
   ]
  },
  {
   "cell_type": "code",
   "execution_count": 247,
   "metadata": {},
   "outputs": [],
   "source": [
    "X_train, y_train = truevoice_dataset[\"train\"]['texts'], truevoice_dataset[\"train\"][\"destination\"]\n",
    "# X_valid, y_valid = truevoice_dataset[\"valid\"]['texts'], truevoice_dataset[\"valid\"][\"destination\"]\n",
    "X_valid, y_valid = truevoice_dataset[\"test\"]['texts'], truevoice_dataset[\"test\"][\"destination\"]"
   ]
  },
  {
   "cell_type": "code",
   "execution_count": 248,
   "metadata": {},
   "outputs": [
    {
     "data": {
      "text/plain": [
       "Pipeline(memory=None,\n",
       "         steps=[('count_vectorizer',\n",
       "                 TfidfVectorizer(analyzer='word', binary=False,\n",
       "                                 decode_error='strict',\n",
       "                                 dtype=<class 'numpy.float64'>,\n",
       "                                 encoding='utf-8', input='content',\n",
       "                                 lowercase=True, max_df=1.0, max_features=None,\n",
       "                                 min_df=1, ngram_range=(1, 2), norm='l2',\n",
       "                                 preprocessor=None, smooth_idf=True,\n",
       "                                 stop_words=None, strip_accents=None,\n",
       "                                 sublinear_tf=False,\n",
       "                                 token_pattern='(?u)\\\\b\\\\w\\\\w+\\\\b',\n",
       "                                 tokenizer=<function process_text at 0x142f3f290>,\n",
       "                                 use_idf=True, vocabulary=None)),\n",
       "                ('classifier',\n",
       "                 LinearSVC(C=1.0, class_weight='balanced', dual=True,\n",
       "                           fit_intercept=True, intercept_scaling=1,\n",
       "                           loss='squared_hinge', max_iter=25000,\n",
       "                           multi_class='ovr', penalty='l2', random_state=None,\n",
       "                           tol=0.0001, verbose=0))],\n",
       "         verbose=False)"
      ]
     },
     "execution_count": 248,
     "metadata": {},
     "output_type": "execute_result"
    }
   ],
   "source": [
    "classifier.fit(X_train, y_train)\n"
   ]
  },
  {
   "cell_type": "code",
   "execution_count": 249,
   "metadata": {},
   "outputs": [],
   "source": [
    "from sklearn.preprocessing import OneHotEncoder\n",
    "onehot_encoder = OneHotEncoder(handle_unknown='ignore')\n",
    "\n",
    "predictions = classifier.predict(X_test)\n",
    "\n",
    "\n"
   ]
  },
  {
   "cell_type": "code",
   "execution_count": 250,
   "metadata": {},
   "outputs": [
    {
     "name": "stdout",
     "output_type": "stream",
     "text": [
      "question: อยากทราบว่าเหมาโทรทรูมูฟ 90 บาท 7 วัน รหัสอะไรค่ะ\n",
      "groundtruth: promotions\n",
      "predition: promotions\n",
      "\n",
      "question: อยากทราบว่าโทรทัศน์ที่บ้านทำไมถึงดูไม่ได้ ดูได้แต่ช่องเลข 9 เลข 8 อย่างนี้ แต่ช่อง 3 5 7 9 ดูไม่ได้เลย\n",
      "groundtruth: other queries\n",
      "predition: other queries\n",
      "\n",
      "question: อยากทราบว่าโปรเสริม 7 วัน ต้องกดอะไรครับ\n",
      "groundtruth: promotions\n",
      "predition: promotions\n",
      "\n",
      "question: อยากทราบว่าโปรโมชัน 0863036995 เหลือเท่าไหร่ค่ะ\n",
      "groundtruth: billing and payment\n",
      "predition: billing and payment\n",
      "\n",
      "question: อยากทราบว่าโปรโมชั่นจะหมดวันที่เท่าไหร่ค่ะ\n",
      "groundtruth: promotions\n",
      "predition: promotions\n",
      "\n",
      "question: อยากทราบว่าโปรโมชั่นที่พี่ได้รับเนี่ย โทรยกก๊วน3คนสนิท นาทีละ 25 บาท แล้วต้องทำยังไงเค้าถึงจะรู้ว่าเบอร์3คนสนิทคือใครคะ\n",
      "groundtruth: billing and payment\n",
      "predition: promotions\n",
      "\n",
      "question: อยากทราบว่าโปรโมชั่นบีบี หมดเมื่อไหร่นะคะ\n",
      "groundtruth: promotions\n",
      "predition: promotions\n",
      "\n",
      "question: อยากทราบว่าโปรที่ใช้อยู่มีโปรโมชั่นอะไรคะ\n",
      "groundtruth: promotions\n",
      "predition: promotions\n",
      "\n",
      "question: อยากทราบว่าโปรนี้เล่นเน็ตไม่ได้แล้วคือโปรหมดรึป่าว\n",
      "groundtruth: internet\n",
      "predition: promotions\n",
      "\n",
      "question: อยากทราบว่าโปรบีบีมีอะไรมั่งคะ\n",
      "groundtruth: promotions\n",
      "predition: promotions\n",
      "\n",
      "question: อยากทราบว่าใช้นาที ไปเท่าไหร่แล้วคะ แล้วถ้าเปิด ไวไฟ ทิ้งไว้ และ ไวไฟ แชร์กับอีกเครื่องนึง ไวไฟ จะเสียค่าบริการเพิ่มไหมคะ\n",
      "groundtruth: billing and payment\n",
      "predition: internet\n",
      "\n",
      "question: อยากทราบว่าในรอบบิลใหม่จะเริ่มใช้ 3G ได้อีกตั้งแต่วันที่เท่าไหร่\n",
      "groundtruth: billing and payment\n",
      "predition: billing and payment\n",
      "\n",
      "question: อยากทราบว่าในรอบบิลใหม่จะเริ่มใช้ 3G ได้อีกตั้งแต่วันที่เท่าไหร่\n",
      "groundtruth: billing and payment\n",
      "predition: billing and payment\n",
      "\n",
      "question: อยากทราบว่าในรอบบิลใหม่จะเริ่มใช้ สามจี ได้อีกตั้งแต่วันที่เท่าไหร่\n",
      "groundtruth: billing and payment\n",
      "predition: billing and payment\n",
      "\n",
      "question: อยากทราบว่าไพศาล พันธุ์จูเดือนนี้ต้องจ่ายค่าเน็ตเท่าไหร่อะคะ\n",
      "groundtruth: billing and payment\n",
      "predition: billing and payment\n",
      "\n",
      "question: อยากทราบว่าข้อความที่เข้าในมือถืออ่ะครับ ไม่ทราบว่าเป็นรายการอ่ะไรน่ะครับ อยากยกเลิกน่ะครับ\n",
      "groundtruth: other queries\n",
      "predition: other queries\n",
      "\n",
      "question: อยากทราบว่าของเดือนมกราหน่ะ หมายเลข 0841467112 ของเดือนที่แล้วนี่ ต้องชำระให้เท่าไหร่\n",
      "groundtruth: billing and payment\n",
      "predition: billing and payment\n",
      "\n",
      "question: อยากทราบว่าของทรูมูฟนี่มีบริการสมัครอินเตอร์เน็ตรายวันที่มันถูกๆ บ้างไหมค่ะ\n",
      "groundtruth: promotions\n",
      "predition: promotions\n",
      "\n",
      "question: อยากทราบว่าความเร็วเน็ตของผมมันเท่าไหร่ครับ\n",
      "groundtruth: internet\n",
      "predition: internet\n",
      "\n",
      "question: อยากทราบว่าค่าโทรไป America oทีละเท่าไรค่ะ\n",
      "groundtruth: international dialing\n",
      "predition: billing and payment\n",
      "\n"
     ]
    }
   ],
   "source": [
    "for index, x in enumerate(X_test[0:20]):\n",
    "    print(\"question: {}\".format(x))\n",
    "    print(\"groundtruth: {}\".format(y_test[index]))\n",
    "    print(\"predition: {}\".format(predictions[index]))\n",
    "    print(\"\")"
   ]
  },
  {
   "cell_type": "code",
   "execution_count": 251,
   "metadata": {},
   "outputs": [
    {
     "name": "stdout",
     "output_type": "stream",
     "text": [
      "Class:  0\n",
      "Accuracy: 0.95 \n",
      "F1-score: 0.91 \n",
      "Precision: 0.89 \n",
      "Recall: 0.93 \n",
      "\n",
      "Class:  1\n",
      "Accuracy: 0.99 \n",
      "F1-score: 0.94 \n",
      "Precision: 0.97 \n",
      "Recall: 0.91 \n",
      "\n",
      "Class:  2\n",
      "Accuracy: 0.94 \n",
      "F1-score: 0.86 \n",
      "Precision: 0.93 \n",
      "Recall: 0.80 \n",
      "\n",
      "Class:  3\n",
      "Accuracy: 1.00 \n",
      "F1-score: 0.99 \n",
      "Precision: 0.98 \n",
      "Recall: 0.99 \n",
      "\n",
      "Class:  4\n",
      "Accuracy: 0.95 \n",
      "F1-score: 0.83 \n",
      "Precision: 0.79 \n",
      "Recall: 0.88 \n",
      "\n",
      "Class:  5\n",
      "Accuracy: 0.97 \n",
      "F1-score: 0.90 \n",
      "Precision: 0.89 \n",
      "Recall: 0.92 \n",
      "\n",
      "Class:  6\n",
      "Accuracy: 1.00 \n",
      "F1-score: 0.95 \n",
      "Precision: 0.97 \n",
      "Recall: 0.93 \n",
      "\n"
     ]
    }
   ],
   "source": [
    "\n",
    "onehot_encoder_fit = onehot_encoder.fit(truevoice_dataset[\"test\"][\"destination\"][:,None])\n",
    "predictions_onehot = onehot_encoder_fit.transform(predictions[:,None]).toarray()\n",
    "\n",
    "y_onehot = onehot_encoder_fit.transform(truevoice_dataset[\"test\"][\"destination\"][:,None]).toarray()\n",
    "\n",
    "    \n",
    "nb_class = 7\n",
    "for i in range(nb_class):\n",
    "    print(\"Class: \", i, )\n",
    "    print(\"Accuracy: {:.2f} \".format((predictions_onehot[:,i] == y_onehot[:,i]).mean()))\n",
    "    print(\"F1-score: {:.2f} \".format(f1_score(predictions_onehot[:,i], y_onehot[:,i])))\n",
    "    print(\"Precision: {:.2f} \".format(precision_score(predictions_onehot[:,i],y_onehot[:,i])))\n",
    "    print(\"Recall: {:.2f} \".format(recall_score(predictions_onehot[:,i], y_onehot[:,i])))\n",
    "    print(\"\")\n",
    "\n"
   ]
  },
  {
   "cell_type": "code",
   "execution_count": null,
   "metadata": {},
   "outputs": [],
   "source": []
  },
  {
   "cell_type": "code",
   "execution_count": 252,
   "metadata": {},
   "outputs": [
    {
     "name": "stdout",
     "output_type": "stream",
     "text": [
      "micro metrics\n",
      "Overall Accuracy: 0.97\n",
      "F1: 0.89\n"
     ]
    }
   ],
   "source": [
    "print('micro metrics')\n",
    "print(\"Overall Accuracy: {:.2f}\".format((predictions_onehot==y_onehot).mean()))\n",
    "print(\"F1: {:.2f}\".format(f1_score(y_onehot, predictions_onehot, average='micro')))\n",
    "# precision_score(y_onehot, predictions_onehot, average='micro'), \\\n",
    "# recall_score(y_onehot, predictions_onehot, average='micro')"
   ]
  },
  {
   "cell_type": "code",
   "execution_count": 253,
   "metadata": {},
   "outputs": [
    {
     "data": {
      "text/plain": [
       "0.8936959208899876"
      ]
     },
     "execution_count": 253,
     "metadata": {},
     "output_type": "execute_result"
    }
   ],
   "source": [
    "accuracy_score(predictions_onehot, y_onehot)"
   ]
  },
  {
   "cell_type": "code",
   "execution_count": null,
   "metadata": {},
   "outputs": [],
   "source": []
  },
  {
   "cell_type": "code",
   "execution_count": null,
   "metadata": {},
   "outputs": [],
   "source": []
  }
 ],
 "metadata": {
  "kernelspec": {
   "display_name": "Python 3",
   "language": "python",
   "name": "python3"
  },
  "language_info": {
   "codemirror_mode": {
    "name": "ipython",
    "version": 3
   },
   "file_extension": ".py",
   "mimetype": "text/x-python",
   "name": "python",
   "nbconvert_exporter": "python",
   "pygments_lexer": "ipython3",
   "version": "3.7.4"
  }
 },
 "nbformat": 4,
 "nbformat_minor": 4
}
