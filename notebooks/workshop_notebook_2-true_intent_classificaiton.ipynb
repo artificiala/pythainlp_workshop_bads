{
 "cells": [
  {
   "cell_type": "markdown",
   "metadata": {},
   "source": [
    "# Workshop Notebook 2: Text Classification on True Voice Intent Dataset with PyThaiNLP\n",
    "\n",
    "\n",
    "\n",
    "Updated: 31 October 2019\n"
   ]
  },
  {
   "cell_type": "markdown",
   "metadata": {},
   "source": [
    "----\n",
    "\n",
    "True Voice Intent Dataset : https://github.com/PyThaiNLP/truevoice-intent\n",
    "\n",
    "Intent Dataset from Customer Service Phone Calls Transcribed by TrueVoice's Mari.\n"
   ]
  },
  {
   "cell_type": "markdown",
   "metadata": {},
   "source": [
    "#### Required packages\n",
    "\n",
    "\n",
    "Visualization\n",
    "  - `matplotlib`\n",
    "  - `seaborn`\n",
    "  \n",
    "Machine Learning\n",
    "  - `sklearn`\n",
    "  \n",
    "Dataframe, Data structure\n",
    "  - `pandas`\n",
    "  - `numpy`"
   ]
  },
  {
   "cell_type": "code",
   "execution_count": 1,
   "metadata": {},
   "outputs": [],
   "source": [
    "!pip install -q emoji"
   ]
  },
  {
   "cell_type": "code",
   "execution_count": null,
   "metadata": {},
   "outputs": [],
   "source": [
    "!pip install --upgrade --user -q --pre pythainlp"
   ]
  },
  {
   "cell_type": "code",
   "execution_count": null,
   "metadata": {},
   "outputs": [],
   "source": [
    "!pip install --user -q matplotlib==3.1.0 numpy pandas sklearn seaborn"
   ]
  },
  {
   "cell_type": "code",
   "execution_count": 2,
   "metadata": {},
   "outputs": [],
   "source": [
    "import os\n",
    "import re\n",
    "from functools import partial\n",
    "\n",
    "import pandas as pd\n",
    "from sklearn.pipeline import Pipeline\n",
    "from sklearn.feature_extraction.text import TfidfVectorizer, CountVectorizer\n",
    "from sklearn.metrics import classification_report, accuracy_score, confusion_matrix, f1_score, precision_score, recall_score\n",
    "from sklearn.preprocessing import Normalizer\n",
    "\n",
    "from sklearn.svm import LinearSVC\n",
    "from pythainlp.tokenize import word_tokenize\n",
    "from pythainlp.ulmfit import ungroup_emoji\n",
    "\n",
    "import matplotlib.pyplot as plt\n",
    "import seaborn as sns"
   ]
  },
  {
   "cell_type": "markdown",
   "metadata": {},
   "source": [
    "## 1. Explore the dataset\n",
    "\n"
   ]
  },
  {
   "cell_type": "markdown",
   "metadata": {},
   "source": [
    "### 1.1 Load dataset"
   ]
  },
  {
   "cell_type": "code",
   "execution_count": 3,
   "metadata": {},
   "outputs": [
    {
     "data": {
      "text/plain": [
       "{'train': '../data/truevoice_intent/mari_train.csv',\n",
       " 'test': '../data/truevoice_intent/mari_test.csv'}"
      ]
     },
     "execution_count": 3,
     "metadata": {},
     "output_type": "execute_result"
    }
   ],
   "source": [
    "TRUEVOICE_INTENT_DIR = \"../data/truevoice_intent\"\n",
    "\n",
    "truevoice_dataset_path = { \n",
    "    \"train\": os.path.join(TRUEVOICE_INTENT_DIR, \"mari_train.csv\"),\n",
    "    \"test\": os.path.join(TRUEVOICE_INTENT_DIR, \"mari_test.csv\")\n",
    "}\n",
    "truevoice_dataset_path\n"
   ]
  },
  {
   "cell_type": "code",
   "execution_count": 4,
   "metadata": {},
   "outputs": [],
   "source": [
    "truevoice_dataset = {\n",
    "    \"train\": pd.read_csv(truevoice_dataset_path[\"train\"]),\n",
    "    \"test\": pd.read_csv(truevoice_dataset_path[\"test\"])\n",
    "}"
   ]
  },
  {
   "cell_type": "markdown",
   "metadata": {},
   "source": [
    "### 1.2  Customer voice transcription and Destination"
   ]
  },
  {
   "cell_type": "code",
   "execution_count": 5,
   "metadata": {},
   "outputs": [
    {
     "data": {
      "text/html": [
       "<div>\n",
       "<style scoped>\n",
       "    .dataframe tbody tr th:only-of-type {\n",
       "        vertical-align: middle;\n",
       "    }\n",
       "\n",
       "    .dataframe tbody tr th {\n",
       "        vertical-align: top;\n",
       "    }\n",
       "\n",
       "    .dataframe thead th {\n",
       "        text-align: right;\n",
       "    }\n",
       "</style>\n",
       "<table border=\"1\" class=\"dataframe\">\n",
       "  <thead>\n",
       "    <tr style=\"text-align: right;\">\n",
       "      <th></th>\n",
       "      <th>texts</th>\n",
       "      <th>texts_deepcut</th>\n",
       "      <th>action</th>\n",
       "      <th>object</th>\n",
       "      <th>destination</th>\n",
       "    </tr>\n",
       "  </thead>\n",
       "  <tbody>\n",
       "    <tr>\n",
       "      <td>0</td>\n",
       "      <td>ผมไปจ่ายเงินที่ Counter Services เค้าเช็ต . บ...</td>\n",
       "      <td>ผม ไป จ่าย เงิน ที่ Counter Services เค้า เช็...</td>\n",
       "      <td>enquire</td>\n",
       "      <td>payment</td>\n",
       "      <td>billing and payment</td>\n",
       "    </tr>\n",
       "    <tr>\n",
       "      <td>1</td>\n",
       "      <td>internet ยังความเร็วอยุ่เท่าไหร ครับ</td>\n",
       "      <td>internet ยัง ความ เร็ว อยุ่ เท่า ไหร ครับ</td>\n",
       "      <td>enquire</td>\n",
       "      <td>package</td>\n",
       "      <td>promotions</td>\n",
       "    </tr>\n",
       "    <tr>\n",
       "      <td>2</td>\n",
       "      <td>ตะกี้ไปชำระค่าบริการไปแล้ว แต่ยังใช้งานไม่ได้...</td>\n",
       "      <td>ตะกี้ ไป ชำระ ค่า บริการ ไป แล้ว แต่ ยัง ใช้ ...</td>\n",
       "      <td>report</td>\n",
       "      <td>suspend</td>\n",
       "      <td>billing and payment</td>\n",
       "    </tr>\n",
       "    <tr>\n",
       "      <td>3</td>\n",
       "      <td>พี่ค่ะยังใช้ internet ไม่ได้เลยค่ะ เป็นเครื่อ...</td>\n",
       "      <td>พี่ ค่ะ ยัง ใช้ internet ไม่ ได้ เลย ค่ะ เป็น...</td>\n",
       "      <td>enquire</td>\n",
       "      <td>internet</td>\n",
       "      <td>internet</td>\n",
       "    </tr>\n",
       "    <tr>\n",
       "      <td>4</td>\n",
       "      <td>ฮาโหล คะ พอดีว่าเมื่อวานเปิดซิมทรูมูฟ แต่มันโ...</td>\n",
       "      <td>ฮาโหล คะ พอดี ว่า เมื่อ วาน เปิด ซิม ทรูมูฟ แ...</td>\n",
       "      <td>report</td>\n",
       "      <td>phone_issues</td>\n",
       "      <td>billing and payment</td>\n",
       "    </tr>\n",
       "    <tr>\n",
       "      <td>5</td>\n",
       "      <td>* ใช้งานยังไง ขอรายละเอียดการสมัครหน่อย</td>\n",
       "      <td>* ใช้ งาน ยัง ไง ขอ รายละเอียด การ สมัคร หน่อย</td>\n",
       "      <td>enquire</td>\n",
       "      <td>service</td>\n",
       "      <td>other queries</td>\n",
       "    </tr>\n",
       "    <tr>\n",
       "      <td>6</td>\n",
       "      <td>เคยมีช่างมาซ่อมที่บ้าน แล้วโทรศัพท์ใช้งานไม่ไ...</td>\n",
       "      <td>เคย มี ช่าง มา ซ่อม ที่ บ้าน แล้ว โทรศัพท์ ใช...</td>\n",
       "      <td>enquire</td>\n",
       "      <td>nontruemove</td>\n",
       "      <td>other queries</td>\n",
       "    </tr>\n",
       "    <tr>\n",
       "      <td>7</td>\n",
       "      <td>ค้างค่าบริการเท่าไหร่ครับ</td>\n",
       "      <td>ค้าง ค่า บริการ เท่า ไหร่ ครับ</td>\n",
       "      <td>enquire</td>\n",
       "      <td>balance</td>\n",
       "      <td>billing and payment</td>\n",
       "    </tr>\n",
       "    <tr>\n",
       "      <td>8</td>\n",
       "      <td>อินเตอร์เน็ตไฟ Adsl ไม่มีสัญญาณครับ</td>\n",
       "      <td>อินเตอร์เน็ต ไฟ Adsl ไม่ มี สัญญาณ ครับ</td>\n",
       "      <td>enquire</td>\n",
       "      <td>nontruemove</td>\n",
       "      <td>other queries</td>\n",
       "    </tr>\n",
       "    <tr>\n",
       "      <td>9</td>\n",
       "      <td>เค้าบอกจะส่งรหัสเน็ตมาให้ แต่ยังไม่ได้ส่งมาเล...</td>\n",
       "      <td>เค้า บอก จะ ส่ง รหัส เน็ต มา ให้ แต่ ยัง ไม่ ...</td>\n",
       "      <td>enquire</td>\n",
       "      <td>internet</td>\n",
       "      <td>internet</td>\n",
       "    </tr>\n",
       "  </tbody>\n",
       "</table>\n",
       "</div>"
      ],
      "text/plain": [
       "                                               texts  \\\n",
       "0   ผมไปจ่ายเงินที่ Counter Services เค้าเช็ต . บ...   \n",
       "1               internet ยังความเร็วอยุ่เท่าไหร ครับ   \n",
       "2   ตะกี้ไปชำระค่าบริการไปแล้ว แต่ยังใช้งานไม่ได้...   \n",
       "3   พี่ค่ะยังใช้ internet ไม่ได้เลยค่ะ เป็นเครื่อ...   \n",
       "4   ฮาโหล คะ พอดีว่าเมื่อวานเปิดซิมทรูมูฟ แต่มันโ...   \n",
       "5            * ใช้งานยังไง ขอรายละเอียดการสมัครหน่อย   \n",
       "6   เคยมีช่างมาซ่อมที่บ้าน แล้วโทรศัพท์ใช้งานไม่ไ...   \n",
       "7                          ค้างค่าบริการเท่าไหร่ครับ   \n",
       "8                อินเตอร์เน็ตไฟ Adsl ไม่มีสัญญาณครับ   \n",
       "9   เค้าบอกจะส่งรหัสเน็ตมาให้ แต่ยังไม่ได้ส่งมาเล...   \n",
       "\n",
       "                                       texts_deepcut   action        object  \\\n",
       "0   ผม ไป จ่าย เงิน ที่ Counter Services เค้า เช็...  enquire       payment   \n",
       "1          internet ยัง ความ เร็ว อยุ่ เท่า ไหร ครับ  enquire       package   \n",
       "2   ตะกี้ ไป ชำระ ค่า บริการ ไป แล้ว แต่ ยัง ใช้ ...   report       suspend   \n",
       "3   พี่ ค่ะ ยัง ใช้ internet ไม่ ได้ เลย ค่ะ เป็น...  enquire      internet   \n",
       "4   ฮาโหล คะ พอดี ว่า เมื่อ วาน เปิด ซิม ทรูมูฟ แ...   report  phone_issues   \n",
       "5     * ใช้ งาน ยัง ไง ขอ รายละเอียด การ สมัคร หน่อย  enquire       service   \n",
       "6   เคย มี ช่าง มา ซ่อม ที่ บ้าน แล้ว โทรศัพท์ ใช...  enquire   nontruemove   \n",
       "7                     ค้าง ค่า บริการ เท่า ไหร่ ครับ  enquire       balance   \n",
       "8            อินเตอร์เน็ต ไฟ Adsl ไม่ มี สัญญาณ ครับ  enquire   nontruemove   \n",
       "9   เค้า บอก จะ ส่ง รหัส เน็ต มา ให้ แต่ ยัง ไม่ ...  enquire      internet   \n",
       "\n",
       "           destination  \n",
       "0  billing and payment  \n",
       "1           promotions  \n",
       "2  billing and payment  \n",
       "3             internet  \n",
       "4  billing and payment  \n",
       "5        other queries  \n",
       "6        other queries  \n",
       "7  billing and payment  \n",
       "8        other queries  \n",
       "9             internet  "
      ]
     },
     "execution_count": 5,
     "metadata": {},
     "output_type": "execute_result"
    }
   ],
   "source": [
    "truevoice_dataset[\"train\"].head(10)"
   ]
  },
  {
   "cell_type": "markdown",
   "metadata": {},
   "source": [
    "### 1.2 Data Statistics"
   ]
  },
  {
   "cell_type": "markdown",
   "metadata": {},
   "source": [
    "#### Number of examples for the training and test set"
   ]
  },
  {
   "cell_type": "code",
   "execution_count": 6,
   "metadata": {},
   "outputs": [
    {
     "data": {
      "text/html": [
       "<div>\n",
       "<style scoped>\n",
       "    .dataframe tbody tr th:only-of-type {\n",
       "        vertical-align: middle;\n",
       "    }\n",
       "\n",
       "    .dataframe tbody tr th {\n",
       "        vertical-align: top;\n",
       "    }\n",
       "\n",
       "    .dataframe thead th {\n",
       "        text-align: right;\n",
       "    }\n",
       "</style>\n",
       "<table border=\"1\" class=\"dataframe\">\n",
       "  <thead>\n",
       "    <tr style=\"text-align: right;\">\n",
       "      <th></th>\n",
       "      <th>texts</th>\n",
       "      <th>texts_deepcut</th>\n",
       "      <th>action</th>\n",
       "      <th>object</th>\n",
       "      <th>destination</th>\n",
       "    </tr>\n",
       "  </thead>\n",
       "  <tbody>\n",
       "    <tr>\n",
       "      <td>count</td>\n",
       "      <td>12939</td>\n",
       "      <td>12939</td>\n",
       "      <td>12939</td>\n",
       "      <td>12939</td>\n",
       "      <td>12939</td>\n",
       "    </tr>\n",
       "    <tr>\n",
       "      <td>unique</td>\n",
       "      <td>11398</td>\n",
       "      <td>11363</td>\n",
       "      <td>8</td>\n",
       "      <td>26</td>\n",
       "      <td>7</td>\n",
       "    </tr>\n",
       "    <tr>\n",
       "      <td>top</td>\n",
       "      <td>สอบถามยอดค้างชำระค่ะ</td>\n",
       "      <td>สอบถาม ยอดค้าง ชำระ ค่ะ</td>\n",
       "      <td>enquire</td>\n",
       "      <td>service</td>\n",
       "      <td>billing and payment</td>\n",
       "    </tr>\n",
       "    <tr>\n",
       "      <td>freq</td>\n",
       "      <td>10</td>\n",
       "      <td>10</td>\n",
       "      <td>8133</td>\n",
       "      <td>2090</td>\n",
       "      <td>5007</td>\n",
       "    </tr>\n",
       "  </tbody>\n",
       "</table>\n",
       "</div>"
      ],
      "text/plain": [
       "                       texts            texts_deepcut   action   object  \\\n",
       "count                  12939                    12939    12939    12939   \n",
       "unique                 11398                    11363        8       26   \n",
       "top     สอบถามยอดค้างชำระค่ะ  สอบถาม ยอดค้าง ชำระ ค่ะ  enquire  service   \n",
       "freq                      10                       10     8133     2090   \n",
       "\n",
       "                destination  \n",
       "count                 12939  \n",
       "unique                    7  \n",
       "top     billing and payment  \n",
       "freq                   5007  "
      ]
     },
     "execution_count": 6,
     "metadata": {},
     "output_type": "execute_result"
    }
   ],
   "source": [
    "truevoice_dataset[\"train\"].describe()"
   ]
  },
  {
   "cell_type": "code",
   "execution_count": 7,
   "metadata": {},
   "outputs": [
    {
     "data": {
      "text/html": [
       "<div>\n",
       "<style scoped>\n",
       "    .dataframe tbody tr th:only-of-type {\n",
       "        vertical-align: middle;\n",
       "    }\n",
       "\n",
       "    .dataframe tbody tr th {\n",
       "        vertical-align: top;\n",
       "    }\n",
       "\n",
       "    .dataframe thead th {\n",
       "        text-align: right;\n",
       "    }\n",
       "</style>\n",
       "<table border=\"1\" class=\"dataframe\">\n",
       "  <thead>\n",
       "    <tr style=\"text-align: right;\">\n",
       "      <th></th>\n",
       "      <th>texts</th>\n",
       "      <th>texts_deepcut</th>\n",
       "      <th>action</th>\n",
       "      <th>object</th>\n",
       "      <th>destination</th>\n",
       "    </tr>\n",
       "  </thead>\n",
       "  <tbody>\n",
       "    <tr>\n",
       "      <td>count</td>\n",
       "      <td>3236</td>\n",
       "      <td>3236</td>\n",
       "      <td>3236</td>\n",
       "      <td>3236</td>\n",
       "      <td>3236</td>\n",
       "    </tr>\n",
       "    <tr>\n",
       "      <td>unique</td>\n",
       "      <td>2003</td>\n",
       "      <td>2003</td>\n",
       "      <td>8</td>\n",
       "      <td>24</td>\n",
       "      <td>7</td>\n",
       "    </tr>\n",
       "    <tr>\n",
       "      <td>top</td>\n",
       "      <td>บริการอื่นๆ</td>\n",
       "      <td>บริการ อื่น ๆ</td>\n",
       "      <td>enquire</td>\n",
       "      <td>internet</td>\n",
       "      <td>billing and payment</td>\n",
       "    </tr>\n",
       "    <tr>\n",
       "      <td>freq</td>\n",
       "      <td>97</td>\n",
       "      <td>97</td>\n",
       "      <td>2351</td>\n",
       "      <td>524</td>\n",
       "      <td>977</td>\n",
       "    </tr>\n",
       "  </tbody>\n",
       "</table>\n",
       "</div>"
      ],
      "text/plain": [
       "              texts  texts_deepcut   action    object          destination\n",
       "count          3236           3236     3236      3236                 3236\n",
       "unique         2003           2003        8        24                    7\n",
       "top     บริการอื่นๆ  บริการ อื่น ๆ  enquire  internet  billing and payment\n",
       "freq             97             97     2351       524                  977"
      ]
     },
     "execution_count": 7,
     "metadata": {},
     "output_type": "execute_result"
    }
   ],
   "source": [
    "truevoice_dataset[\"test\"].describe()"
   ]
  },
  {
   "cell_type": "markdown",
   "metadata": {},
   "source": [
    "#### Percentage of class labels"
   ]
  },
  {
   "cell_type": "code",
   "execution_count": 8,
   "metadata": {},
   "outputs": [
    {
     "name": "stdout",
     "output_type": "stream",
     "text": [
      "set: train\n",
      "\n",
      "billing and payment      38.696963\n",
      "promotions               24.259989\n",
      "other queries            17.288817\n",
      "internet                 14.390602\n",
      "international dialing     2.596800\n",
      "true money                1.553443\n",
      "lost and stolen           1.213386\n",
      "Name: destination, dtype: float64\n",
      "\n",
      "\n",
      "\n",
      "set: test\n",
      "\n",
      "billing and payment      30.191595\n",
      "internet                 19.004944\n",
      "promotions               18.232386\n",
      "other queries            16.965389\n",
      "international dialing     6.273177\n",
      "lost and stolen           6.056860\n",
      "true money                3.275649\n",
      "Name: destination, dtype: float64\n",
      "\n",
      "\n",
      "\n"
     ]
    }
   ],
   "source": [
    "for set_name in [\"train\", \"test\"]:\n",
    "    print(\"set:\", set_name)\n",
    "    print(\"\")\n",
    "    print(truevoice_dataset[set_name]['destination'].value_counts() / truevoice_dataset[set_name].shape[0] * 100)\n",
    "    print(\"\\n\\n\")"
   ]
  },
  {
   "cell_type": "markdown",
   "metadata": {},
   "source": [
    "## 2. Data Preprocessing"
   ]
  },
  {
   "cell_type": "markdown",
   "metadata": {},
   "source": [
    "In this tutorial, we will use `CountVectorizer` from scikit-learn [link](https://scikit-learn.org/stable/modules/generated/sklearn.feature_extraction.text.CountVectorizer.html).\n",
    "\n",
    "- `CountVectorizer` converts a collection of text documents to a matrix of token counts\n",
    "\n",
    "```python\n",
    "documents = [\"ฉันขึ้นรถไฟ\", \"ฉันชอบรถไฟฟ้า\", \"ฉันชอบรถไฟ รถไฟ\"]\n",
    "\n",
    "vocabulary = Set['ขึ้น', 'ฉัน', 'ชอบ', 'รถไฟ', 'รถไฟฟ้า']\n",
    "```\n"
   ]
  },
  {
   "cell_type": "code",
   "execution_count": 9,
   "metadata": {},
   "outputs": [],
   "source": [
    "documents = [\"ฉันขึ้นรถไฟ\", \"ฉันชอบรถไฟฟ้า\", \"ฉันชอบรถไฟ รถไฟ\"]"
   ]
  },
  {
   "cell_type": "code",
   "execution_count": 10,
   "metadata": {},
   "outputs": [],
   "source": [
    "vectoizer = CountVectorizer(tokenizer=word_tokenize)\n",
    "X = vectoizer.fit_transform(documents)"
   ]
  },
  {
   "cell_type": "code",
   "execution_count": 11,
   "metadata": {},
   "outputs": [
    {
     "data": {
      "text/plain": [
       "[' ', 'ขึ้น', 'ฉัน', 'ชอบ', 'รถไฟ', 'รถไฟฟ้า']"
      ]
     },
     "execution_count": 11,
     "metadata": {},
     "output_type": "execute_result"
    }
   ],
   "source": [
    "vectoizer.get_feature_names()"
   ]
  },
  {
   "cell_type": "code",
   "execution_count": 12,
   "metadata": {},
   "outputs": [
    {
     "data": {
      "text/plain": [
       "array([[0, 1, 1, 0, 1, 0],\n",
       "       [0, 0, 1, 1, 0, 1],\n",
       "       [1, 0, 1, 1, 2, 0]])"
      ]
     },
     "execution_count": 12,
     "metadata": {},
     "output_type": "execute_result"
    }
   ],
   "source": [
    "X.toarray()"
   ]
  },
  {
   "cell_type": "code",
   "execution_count": 13,
   "metadata": {},
   "outputs": [
    {
     "name": "stdout",
     "output_type": "stream",
     "text": [
      "[' ', 'ขึ้น', 'ฉัน', 'ชอบ', 'รถไฟ', 'รถไฟฟ้า'] \n",
      "\n",
      "ฉันขึ้นรถไฟ \n",
      " ['ฉัน', 'ขึ้น', 'รถไฟ'] \n",
      " [0 1 1 0 1 0]\n",
      "\n",
      "ฉันชอบรถไฟฟ้า \n",
      " ['ฉัน', 'ชอบ', 'รถไฟฟ้า'] \n",
      " [0 0 1 1 0 1]\n",
      "\n",
      "ฉันชอบรถไฟ รถไฟ \n",
      " ['ฉัน', 'ชอบ', 'รถไฟ', ' ', 'รถไฟ'] \n",
      " [1 0 1 1 2 0]\n",
      "\n"
     ]
    }
   ],
   "source": [
    "print(vectoizer.get_feature_names(), \"\\n\")\n",
    "for i, document in enumerate(documents):\n",
    "    tokens = word_tokenize(document)\n",
    "    print(document,\"\\n\", tokens,\"\\n\", X.toarray()[i])\n",
    "    print(\"\")\n",
    "                             \n"
   ]
  },
  {
   "cell_type": "markdown",
   "metadata": {},
   "source": [
    "#### Define a function to process texts"
   ]
  },
  {
   "cell_type": "code",
   "execution_count": 14,
   "metadata": {},
   "outputs": [],
   "source": [
    "def process_text(text):\n",
    "    text = text.lower()\n",
    "    words = word_tokenize(text, keep_whitespace=False)    \n",
    "    return words"
   ]
  },
  {
   "cell_type": "code",
   "execution_count": 15,
   "metadata": {},
   "outputs": [
    {
     "data": {
      "text/plain": [
       "['hello', 'ฉัน']"
      ]
     },
     "execution_count": 15,
     "metadata": {},
     "output_type": "execute_result"
    }
   ],
   "source": [
    "process_text(\"Hello ฉัน\")"
   ]
  },
  {
   "cell_type": "markdown",
   "metadata": {},
   "source": [
    "## 3. Model Training"
   ]
  },
  {
   "cell_type": "markdown",
   "metadata": {},
   "source": [
    "#### 3.1 Define preprocessing/training pipeline\n",
    "\n",
    "1. Vectorize text with `CountVectorizer`.\n",
    "2. Normalize Count Vector with L2 norm.\n",
    "3. Fit the training data with __Linear Support Vector Classification__ ([LinearSVC](https://scikit-learn.org/stable/modules/generated/sklearn.svm.LinearSVC.html)).\n",
    "\n",
    "\n",
    "![title](images/svc.png)\n",
    "\n",
    "Image from: https://scikit-learn.org/stable/modules/svm.html#svm-classification"
   ]
  },
  {
   "cell_type": "code",
   "execution_count": 16,
   "metadata": {},
   "outputs": [],
   "source": [
    "classifier = Pipeline([\n",
    "    ('count_vectorizer', CountVectorizer(tokenizer=process_text,\n",
    "                                         ngram_range=(1,2))),\n",
    "    ('normalizer', Normalizer()),\n",
    "    ('classifier', LinearSVC(max_iter=25000, random_state=1, class_weight=\"balanced\")),\n",
    "])\n"
   ]
  },
  {
   "cell_type": "code",
   "execution_count": 17,
   "metadata": {},
   "outputs": [],
   "source": [
    "X_train, y_train = truevoice_dataset[\"train\"]['texts'], truevoice_dataset[\"train\"][\"destination\"]\n",
    "X_test, y_test = truevoice_dataset[\"test\"]['texts'], truevoice_dataset[\"test\"][\"destination\"]"
   ]
  },
  {
   "cell_type": "markdown",
   "metadata": {},
   "source": [
    "#### 3.2 Fit traing data."
   ]
  },
  {
   "cell_type": "code",
   "execution_count": 18,
   "metadata": {},
   "outputs": [
    {
     "data": {
      "text/plain": [
       "Pipeline(memory=None,\n",
       "         steps=[('count_vectorizer',\n",
       "                 CountVectorizer(analyzer='word', binary=False,\n",
       "                                 decode_error='strict',\n",
       "                                 dtype=<class 'numpy.int64'>, encoding='utf-8',\n",
       "                                 input='content', lowercase=True, max_df=1.0,\n",
       "                                 max_features=None, min_df=1,\n",
       "                                 ngram_range=(1, 2), preprocessor=None,\n",
       "                                 stop_words=None, strip_accents=None,\n",
       "                                 token_pattern='(?u)\\\\b\\\\w\\\\w+\\\\b',\n",
       "                                 tokenizer=<function process_text at 0x1a1f2cf200>,\n",
       "                                 vocabulary=None)),\n",
       "                ('normalizer', Normalizer(copy=True, norm='l2')),\n",
       "                ('classifier',\n",
       "                 LinearSVC(C=1.0, class_weight='balanced', dual=True,\n",
       "                           fit_intercept=True, intercept_scaling=1,\n",
       "                           loss='squared_hinge', max_iter=25000,\n",
       "                           multi_class='ovr', penalty='l2', random_state=1,\n",
       "                           tol=0.0001, verbose=0))],\n",
       "         verbose=False)"
      ]
     },
     "execution_count": 18,
     "metadata": {},
     "output_type": "execute_result"
    }
   ],
   "source": [
    "classifier.fit(X_train, y_train)"
   ]
  },
  {
   "cell_type": "markdown",
   "metadata": {},
   "source": [
    "#### 3.3 Make prediction from testing data"
   ]
  },
  {
   "cell_type": "code",
   "execution_count": 19,
   "metadata": {},
   "outputs": [],
   "source": [
    "predictions = classifier.predict(X_test)"
   ]
  },
  {
   "cell_type": "markdown",
   "metadata": {},
   "source": [
    "### Example predictions"
   ]
  },
  {
   "cell_type": "code",
   "execution_count": 20,
   "metadata": {},
   "outputs": [
    {
     "name": "stdout",
     "output_type": "stream",
     "text": [
      "question: อยากทราบว่าใช้นาที ไปเท่าไหร่แล้วคะ แล้วถ้าเปิด ไวไฟ ทิ้งไว้ และ ไวไฟ แชร์กับอีกเครื่องนึง ไวไฟ จะเสียค่าบริการเพิ่มไหมคะ\n",
      "groundtruth: promotions\n",
      "predition: promotions\n",
      "\n",
      "question: อยากทราบว่าในรอบบิลใหม่จะเริ่มใช้ 3G ได้อีกตั้งแต่วันที่เท่าไหร่\n",
      "groundtruth: other queries\n",
      "predition: other queries\n",
      "\n",
      "question: อยากทราบว่าในรอบบิลใหม่จะเริ่มใช้ 3G ได้อีกตั้งแต่วันที่เท่าไหร่\n",
      "groundtruth: promotions\n",
      "predition: promotions\n",
      "\n",
      "question: อยากทราบว่าในรอบบิลใหม่จะเริ่มใช้ สามจี ได้อีกตั้งแต่วันที่เท่าไหร่\n",
      "groundtruth: billing and payment\n",
      "predition: billing and payment\n",
      "\n",
      "question: อยากทราบว่าไพศาล พันธุ์จูเดือนนี้ต้องจ่ายค่าเน็ตเท่าไหร่อะคะ\n",
      "groundtruth: promotions\n",
      "predition: promotions\n",
      "\n",
      "question: อยากทราบว่าข้อความที่เข้าในมือถืออ่ะครับ ไม่ทราบว่าเป็นรายการอ่ะไรน่ะครับ อยากยกเลิกน่ะครับ\n",
      "groundtruth: billing and payment\n",
      "predition: promotions\n",
      "\n",
      "question: อยากทราบว่าของเดือนมกราหน่ะ หมายเลข 0841467112 ของเดือนที่แล้วนี่ ต้องชำระให้เท่าไหร่\n",
      "groundtruth: promotions\n",
      "predition: promotions\n",
      "\n",
      "question: อยากทราบว่าของทรูมูฟนี่มีบริการสมัครอินเตอร์เน็ตรายวันที่มันถูกๆ บ้างไหมค่ะ\n",
      "groundtruth: promotions\n",
      "predition: promotions\n",
      "\n",
      "question: อยากทราบว่าความเร็วเน็ตของผมมันเท่าไหร่ครับ\n",
      "groundtruth: internet\n",
      "predition: promotions\n",
      "\n",
      "question: อยากทราบว่าค่าโทรไป America oทีละเท่าไรค่ะ\n",
      "groundtruth: promotions\n",
      "predition: promotions\n",
      "\n",
      "question: อยากทราบว่าค่าโปรโมชั่นของชั้นเท่าไหร่\n",
      "groundtruth: billing and payment\n",
      "predition: internet\n",
      "\n",
      "question: อยากทราบว่าค่าบริการนี้ สามจีใช้เกินยังครับ\n",
      "groundtruth: billing and payment\n",
      "predition: billing and payment\n",
      "\n",
      "question: อยากทราบว่าค่ายอดชำระเท่าไหร่ครับ\n",
      "groundtruth: billing and payment\n",
      "predition: billing and payment\n",
      "\n",
      "question: อยากทราบว่าจำนวน อินเตอร์คงเหลือ เท่าไหร่ ครับ\n",
      "groundtruth: billing and payment\n",
      "predition: billing and payment\n",
      "\n",
      "question: อยากทราบว่าช่อง 24 มันหายไปไหนแล้วค่ะ\n",
      "groundtruth: billing and payment\n",
      "predition: billing and payment\n",
      "\n"
     ]
    }
   ],
   "source": [
    "for index, x in enumerate(X_test[10:25]):\n",
    "    print(\"question: {}\".format(x))\n",
    "    print(\"groundtruth: {}\".format(y_test[index]))\n",
    "    print(\"predition: {}\".format(predictions[index]))\n",
    "    print(\"\")"
   ]
  },
  {
   "cell_type": "markdown",
   "metadata": {},
   "source": [
    "#### __Question 1:__ How many examples in test set `y_test` that are predicted incorrectly.\n",
    "\n",
    "\n",
    "Hint:\n",
    "```python\n",
    ">>> print(predictions.shape, y_test.shape)\n",
    "(3236,) (3236,)\n",
    "\n",
    ">>> print(predictions[0])\n",
    "promotions\n",
    "\n",
    ">>> print(y_test[0])\n",
    "promotions\n",
    "```"
   ]
  },
  {
   "cell_type": "code",
   "execution_count": 21,
   "metadata": {},
   "outputs": [],
   "source": [
    "## Write down the code to find the answer\n",
    "\n",
    "\n",
    "\n",
    "\n",
    "\n",
    "\n",
    "\n",
    "\n",
    "##"
   ]
  },
  {
   "cell_type": "markdown",
   "metadata": {},
   "source": [
    "__Solution__:"
   ]
  },
  {
   "cell_type": "code",
   "execution_count": 22,
   "metadata": {},
   "outputs": [
    {
     "name": "stdout",
     "output_type": "stream",
     "text": [
      "Number of examples that predicted incorrectly = 337\n"
     ]
    }
   ],
   "source": [
    "indices = X_test[predictions != y_test].index\n",
    "print(\"Number of examples that predicted incorrectly = {}\".format(len(indices)))"
   ]
  },
  {
   "cell_type": "code",
   "execution_count": 23,
   "metadata": {},
   "outputs": [
    {
     "name": "stdout",
     "output_type": "stream",
     "text": [
      "5 อยากทราบว่าโปรโมชั่นที่พี่ได้รับเนี่ย โทรยกก๊วน3คนสนิท นาทีละ 25 บาท แล้วต้องทำยังไงเค้าถึงจะรู้ว่าเบอร์3คนสนิทคือใครคะ\n",
      " groundtruth: billing and payment\n",
      " prediction: promotions\n",
      "\n",
      "8 อยากทราบว่าโปรนี้เล่นเน็ตไม่ได้แล้วคือโปรหมดรึป่าว\n",
      " groundtruth: internet\n",
      " prediction: promotions\n",
      "\n",
      "10 อยากทราบว่าใช้นาที ไปเท่าไหร่แล้วคะ แล้วถ้าเปิด ไวไฟ ทิ้งไว้ และ ไวไฟ แชร์กับอีกเครื่องนึง ไวไฟ จะเสียค่าบริการเพิ่มไหมคะ\n",
      " groundtruth: billing and payment\n",
      " prediction: internet\n",
      "\n",
      "19 อยากทราบว่าค่าโทรไป America oทีละเท่าไรค่ะ\n",
      " groundtruth: international dialing\n",
      " prediction: billing and payment\n",
      "\n",
      "24 อยากทราบว่าช่อง 24 มันหายไปไหนแล้วค่ะ\n",
      " groundtruth: other queries\n",
      " prediction: billing and payment\n",
      "\n",
      "26 อยากทราบว่าซิมโดนล๊อค PUK\n",
      " groundtruth: internet\n",
      " prediction: billing and payment\n",
      "\n",
      "29 อยากทราบว่าซื้อซิมใหม่ ยังไม่มีหมายเลขให้เรา เราจะทราบหมายเลขได้ยังไง\n",
      " groundtruth: billing and payment\n",
      " prediction: other queries\n",
      "\n",
      "41 อยากทราบว่าตั้งโอนสายไปอีกหมายเลขนึงได้หมายครับ\n",
      " groundtruth: other queries\n",
      " prediction: internet\n",
      "\n",
      "42 อยากทราบว่าถ้าเบอร์นี้จะไปใช้กับ Ipad Mini ได้มั้ยค่ะ\n",
      " groundtruth: promotions\n",
      " prediction: other queries\n",
      "\n",
      "43 อยากทราบว่าถ้าเป็นลูกค้าที่ใช้บริการยูบีซี และใช้อินเตอร์บ้านด้วย แล้วอยากจะใช้บริการอินเตอร์เน็ตบนมือถือด้วยจะได้หรือไม่.\n",
      " groundtruth: promotions\n",
      " prediction: other queries\n",
      "\n",
      "47 อยากทราบว่าทรูมีระบบบล็อคเบอร์มั้ยคะคือเหมือนการปฎิเสธสายไม่รับ\n",
      " groundtruth: billing and payment\n",
      " prediction: other queries\n",
      "\n",
      "48 อยากทราบว่าทรูมูฟเนี่ยหง่ะคะ เป็นโปรโมชั่นที่ถูกหรือยังค่ะ เห็นมันกินเงินจังเลย\n",
      " groundtruth: promotions\n",
      " prediction: billing and payment\n",
      "\n",
      "50 อยากทราบว่าทรูมูฟมีอินเตอร์เน็ตสายใยแก้วไหมค่ะ\n",
      " groundtruth: other queries\n",
      " prediction: promotions\n",
      "\n",
      "69 อยากทราบว่าภายในกี่เดือนคะถ้าไม่ได้ไปชำระแล้วจะโดนระงับ\n",
      " groundtruth: other queries\n",
      " prediction: billing and payment\n",
      "\n",
      "79 อยากทราบว่าวันนั้นที่โทรมาปิดระบบบริการของเฟสบุ๊ค ยังหักเงินอยู่เลย\n",
      " groundtruth: billing and payment\n",
      " prediction: other queries\n",
      "\n"
     ]
    }
   ],
   "source": [
    "for index in indices[:15]:\n",
    "    print(index, X_test.iloc[index])\n",
    "    print(\" groundtruth:\", y_test.iloc[index])\n",
    "    print(\" prediction:\", predictions[index])\n",
    "    print(\"\")"
   ]
  },
  {
   "cell_type": "markdown",
   "metadata": {},
   "source": [
    "## 4. Model Evaluation"
   ]
  },
  {
   "cell_type": "code",
   "execution_count": 24,
   "metadata": {},
   "outputs": [],
   "source": [
    "from sklearn.preprocessing import OneHotEncoder\n",
    "onehot_encoder = OneHotEncoder(handle_unknown='ignore')"
   ]
  },
  {
   "cell_type": "markdown",
   "metadata": {},
   "source": [
    "#### 4.1 Metrics\n",
    "\n",
    "__Per-class Accuracy__\n",
    "\n",
    "$$\n",
    "\\text{class_accuracy}(i) = \\frac{\\text{Number of correct prediction for class } i}{\\text{Number of samples are in class } i}\n",
    "$$\n",
    "\n",
    "\n",
    "__Per-class F1__\n",
    "\n",
    "$$\n",
    "\\text{class_f1}(i) = \\frac{ 2 \\cdot (\\text{class_precision}(i) \\cdot \\text{class_recall}(i)) }{ \\text{class_precision}(i) + \\text{class_recall}(i) }\n",
    "$$\n",
    "\n",
    "\n",
    "__Per-class Precision__\n",
    "\n",
    "$$\n",
    "\\text{class_precision}(i) =  \\frac{\\text{Number of correct prediction for class } i}{\\text{Number of correct prediction for class } i + \\text{Number of samples in other classes predicted as class } i \\text{ (False Positive)}}\n",
    "$$\n",
    "\n",
    "__Per-class Recall__\n",
    "\n",
    "$$\n",
    "\\text{class_recall}(i) =  \\frac{\\text{Number of correct prediction for class } i}{\\text{Number of correct prediction for class } i + \\text{Number of samples in class } i  \\text{ that predicted as other classes (False Negative)}}\n",
    "$$\n",
    "\n",
    "----\n",
    "\n",
    "Reference: https://scikit-learn.org/stable/auto_examples/model_selection/plot_precision_recall.html"
   ]
  },
  {
   "cell_type": "code",
   "execution_count": 25,
   "metadata": {},
   "outputs": [
    {
     "name": "stdout",
     "output_type": "stream",
     "text": [
      "Class:  0\n",
      "Accuracy: 0.95 \n",
      "F1-score: 0.91 \n",
      "Precision: 0.89 \n",
      "Recall: 0.94 \n",
      "\n",
      "Class:  1\n",
      "Accuracy: 0.99 \n",
      "F1-score: 0.93 \n",
      "Precision: 0.94 \n",
      "Recall: 0.91 \n",
      "\n",
      "Class:  2\n",
      "Accuracy: 0.95 \n",
      "F1-score: 0.87 \n",
      "Precision: 0.93 \n",
      "Recall: 0.82 \n",
      "\n",
      "Class:  3\n",
      "Accuracy: 1.00 \n",
      "F1-score: 0.98 \n",
      "Precision: 0.98 \n",
      "Recall: 0.99 \n",
      "\n",
      "Class:  4\n",
      "Accuracy: 0.95 \n",
      "F1-score: 0.84 \n",
      "Precision: 0.81 \n",
      "Recall: 0.87 \n",
      "\n",
      "Class:  5\n",
      "Accuracy: 0.96 \n",
      "F1-score: 0.90 \n",
      "Precision: 0.89 \n",
      "Recall: 0.91 \n",
      "\n",
      "Class:  6\n",
      "Accuracy: 1.00 \n",
      "F1-score: 0.94 \n",
      "Precision: 0.97 \n",
      "Recall: 0.91 \n",
      "\n"
     ]
    }
   ],
   "source": [
    "onehot_encoder_fit = onehot_encoder.fit(truevoice_dataset[\"test\"][\"destination\"][:,None])\n",
    "predictions_onehot = onehot_encoder_fit.transform(predictions[:,None]).toarray()\n",
    "\n",
    "y_onehot = onehot_encoder_fit.transform(truevoice_dataset[\"test\"][\"destination\"][:,None]).toarray()\n",
    "    \n",
    "nb_class = 7\n",
    "for i in range(nb_class):\n",
    "    print(\"Class: \", i, )\n",
    "    print(\"Accuracy: {:.2f} \".format((predictions_onehot[:,i] == y_onehot[:,i]).mean()))\n",
    "    print(\"F1-score: {:.2f} \".format(f1_score(predictions_onehot[:,i], y_onehot[:,i])))\n",
    "    print(\"Precision: {:.2f} \".format(precision_score(predictions_onehot[:,i],y_onehot[:,i])))\n",
    "    print(\"Recall: {:.2f} \".format(recall_score(predictions_onehot[:,i], y_onehot[:,i])))\n",
    "    print(\"\")"
   ]
  },
  {
   "cell_type": "markdown",
   "metadata": {},
   "source": [
    "#### Overall Accuracy\n",
    "\n",
    "$$\n",
    "\\text{Overall accuracy} = \\frac{\\text{Number of correct prediction}}{\\text{Number of samples}}\n",
    "$$"
   ]
  },
  {
   "cell_type": "code",
   "execution_count": 26,
   "metadata": {},
   "outputs": [
    {
     "name": "stdout",
     "output_type": "stream",
     "text": [
      "Overall accuracy \n"
     ]
    },
    {
     "data": {
      "text/plain": [
       "0.8958590852904821"
      ]
     },
     "execution_count": 26,
     "metadata": {},
     "output_type": "execute_result"
    }
   ],
   "source": [
    "print(\"Overall accuracy \")\n",
    "accuracy_score(predictions_onehot, y_onehot)"
   ]
  },
  {
   "cell_type": "markdown",
   "metadata": {},
   "source": [
    "#### Confusion Matrix\n",
    "\n",
    "\n",
    "\n",
    "Change from one hot encoding (e.g. `[0, 0, 0, 0, 0, 0, 1]`)\n",
    "to the original label (e.g. `\"true money\"`)."
   ]
  },
  {
   "cell_type": "code",
   "execution_count": 27,
   "metadata": {},
   "outputs": [
    {
     "data": {
      "text/plain": [
       "array([['promotions'],\n",
       "       ['other queries'],\n",
       "       ['promotions'],\n",
       "       ...,\n",
       "       ['billing and payment'],\n",
       "       ['billing and payment'],\n",
       "       ['promotions']], dtype=object)"
      ]
     },
     "execution_count": 27,
     "metadata": {},
     "output_type": "execute_result"
    }
   ],
   "source": [
    "predictions_orig = onehot_encoder.inverse_transform(predictions_onehot)\n",
    "predictions_orig"
   ]
  },
  {
   "cell_type": "code",
   "execution_count": 28,
   "metadata": {},
   "outputs": [
    {
     "data": {
      "text/plain": [
       "array([['promotions'],\n",
       "       ['other queries'],\n",
       "       ['promotions'],\n",
       "       ...,\n",
       "       ['billing and payment'],\n",
       "       ['billing and payment'],\n",
       "       ['promotions']], dtype=object)"
      ]
     },
     "execution_count": 28,
     "metadata": {},
     "output_type": "execute_result"
    }
   ],
   "source": [
    "y_orig = onehot_encoder.inverse_transform(y_onehot)\n",
    "y_orig"
   ]
  },
  {
   "cell_type": "code",
   "execution_count": null,
   "metadata": {},
   "outputs": [],
   "source": []
  },
  {
   "cell_type": "code",
   "execution_count": 29,
   "metadata": {},
   "outputs": [
    {
     "data": {
      "text/plain": [
       "array([[869,   2,  46,   1,  31,  19,   9],\n",
       "       [  2, 191,   4,   0,   0,   6,   0],\n",
       "       [ 15,   0, 574,   0,  13,  13,   0],\n",
       "       [  0,   0,   0, 192,   4,   0,   0],\n",
       "       [ 27,   2,  60,   1, 444,  14,   1],\n",
       "       [ 14,  14,  20,   0,  16, 526,   0],\n",
       "       [  0,   0,   0,   0,   3,   0, 103]])"
      ]
     },
     "execution_count": 29,
     "metadata": {},
     "output_type": "execute_result"
    }
   ],
   "source": [
    "confusion_matrix(y_orig, predictions_orig)"
   ]
  },
  {
   "cell_type": "code",
   "execution_count": 30,
   "metadata": {},
   "outputs": [
    {
     "name": "stdout",
     "output_type": "stream",
     "text": [
      "labels ['billing and payment', 'international dialing', 'internet', 'lost and stolen', 'other queries', 'promotions', 'true money']\n"
     ]
    },
    {
     "data": {
      "text/plain": [
       "(7.5, -0.5)"
      ]
     },
     "execution_count": 30,
     "metadata": {},
     "output_type": "execute_result"
    },
    {
     "data": {
      "image/png": "[encoded data removed]",
      "text/plain": [
       "<Figure size 576x576 with 2 Axes>"
      ]
     },
     "metadata": {
      "needs_background": "light"
     },
     "output_type": "display_data"
    }
   ],
   "source": [
    "labels = list(onehot_encoder.categories_[0])\n",
    "print(\"labels\", labels)\n",
    "\n",
    "\n",
    "plt.figure(figsize = (8,8))\n",
    "ax = plt.subplot(111, aspect = 'equal')\n",
    "\n",
    "sns.heatmap(confusion_matrix(y_orig, predictions_orig),\n",
    "            annot=True, cmap=\"rocket\", fmt=\"d\",\n",
    "            xticklabels=labels,\n",
    "            yticklabels=labels,\n",
    "            square=True)\n",
    "\n",
    "bottom, top = ax.get_ylim()\n",
    "ax.set_ylim(bottom + 0.5, top - 0.5)"
   ]
  }
 ],
 "metadata": {
  "kernelspec": {
   "display_name": "Python 3",
   "language": "python",
   "name": "python3"
  },
  "language_info": {
   "codemirror_mode": {
    "name": "ipython",
    "version": 3
   },
   "file_extension": ".py",
   "mimetype": "text/x-python",
   "name": "python",
   "nbconvert_exporter": "python",
   "pygments_lexer": "ipython3",
   "version": "3.7.4"
  }
 },
 "nbformat": 4,
 "nbformat_minor": 4
}
